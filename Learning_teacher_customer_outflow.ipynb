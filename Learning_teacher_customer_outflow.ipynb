{
 "cells": [
  {
   "cell_type": "markdown",
   "metadata": {
    "toc": true
   },
   "source": [
    "<h1>Содержание<span class=\"tocSkip\"></span></h1>\n",
    "<div class=\"toc\"><ul class=\"toc-item\"><li><span><a href=\"#Подготовка-данных\" data-toc-modified-id=\"Подготовка-данных-1\"><span class=\"toc-item-num\">1&nbsp;&nbsp;</span>Подготовка данных</a></span></li><li><span><a href=\"#Исследование-задачи\" data-toc-modified-id=\"Исследование-задачи-2\"><span class=\"toc-item-num\">2&nbsp;&nbsp;</span>Исследование задачи</a></span></li><li><span><a href=\"#Борьба-с-дисбалансом\" data-toc-modified-id=\"Борьба-с-дисбалансом-3\"><span class=\"toc-item-num\">3&nbsp;&nbsp;</span>Борьба с дисбалансом</a></span></li><li><span><a href=\"#Тестирование-модели\" data-toc-modified-id=\"Тестирование-модели-4\"><span class=\"toc-item-num\">4&nbsp;&nbsp;</span>Тестирование модели</a></span></li><li><span><a href=\"#Чек-лист\" data-toc-modified-id=\"Чек-лист-5\"><span class=\"toc-item-num\">5&nbsp;&nbsp;</span>Чек-лист</a></span></li></ul></div>"
   ]
  },
  {
   "cell_type": "markdown",
   "metadata": {},
   "source": [
    "# Отток клиентов"
   ]
  },
  {
   "cell_type": "markdown",
   "metadata": {},
   "source": [
    "Из «Бета-Банка» стали уходить клиенты. Каждый месяц. Немного, но заметно. Банковские маркетологи посчитали: сохранять текущих клиентов дешевле, чем привлекать новых.\n",
    "\n",
    "Нужно спрогнозировать, уйдёт клиент из банка в ближайшее время или нет. Нам предоставлены исторические данные о поведении клиентов и расторжении договоров с банком. \n",
    "\n",
    "Нужно постройть модель с предельно большим значением *F1*-меры. Довести метрику до 0.59. \n",
    "\n",
    "Дополнительно измерять *AUC-ROC*, сравнивать её значение с *F1*-мерой.\n",
    "\n",
    "Источник данных: [https://www.kaggle.com/barelydedicated/bank-customer-churn-modeling](https://www.kaggle.com/barelydedicated/bank-customer-churn-modeling)"
   ]
  },
  {
   "cell_type": "markdown",
   "metadata": {},
   "source": [
    "## Подготовка данных"
   ]
  },
  {
   "cell_type": "code",
   "execution_count": 1,
   "metadata": {},
   "outputs": [],
   "source": [
    "import pandas as pd\n",
    "import seaborn as sns\n",
    "import matplotlib.pyplot as plt\n",
    "\n",
    "from sklearn.model_selection import train_test_split\n",
    "from sklearn.ensemble import RandomForestClassifier\n",
    "from sklearn.linear_model import LogisticRegression\n",
    "from sklearn.tree import DecisionTreeClassifier, plot_tree\n",
    "from sklearn.preprocessing import OrdinalEncoder, StandardScaler\n",
    "from sklearn.metrics import recall_score, precision_score, confusion_matrix, f1_score\n",
    "from sklearn.utils import shuffle\n",
    "from sklearn.datasets import make_classification\n",
    "from sklearn.metrics import roc_curve, auc, roc_auc_score\n",
    "\n",
    "RANDOM_STATE = 12345\n",
    "\n",
    "\n",
    "data = pd.read_csv('/datasets/Churn.csv')\n",
    "\n"
   ]
  },
  {
   "cell_type": "code",
   "execution_count": 2,
   "metadata": {},
   "outputs": [
    {
     "name": "stdout",
     "output_type": "stream",
     "text": [
      "<class 'pandas.core.frame.DataFrame'>\n",
      "RangeIndex: 10000 entries, 0 to 9999\n",
      "Data columns (total 14 columns):\n",
      " #   Column           Non-Null Count  Dtype  \n",
      "---  ------           --------------  -----  \n",
      " 0   RowNumber        10000 non-null  int64  \n",
      " 1   CustomerId       10000 non-null  int64  \n",
      " 2   Surname          10000 non-null  object \n",
      " 3   CreditScore      10000 non-null  int64  \n",
      " 4   Geography        10000 non-null  object \n",
      " 5   Gender           10000 non-null  object \n",
      " 6   Age              10000 non-null  int64  \n",
      " 7   Tenure           9091 non-null   float64\n",
      " 8   Balance          10000 non-null  float64\n",
      " 9   NumOfProducts    10000 non-null  int64  \n",
      " 10  HasCrCard        10000 non-null  int64  \n",
      " 11  IsActiveMember   10000 non-null  int64  \n",
      " 12  EstimatedSalary  10000 non-null  float64\n",
      " 13  Exited           10000 non-null  int64  \n",
      "dtypes: float64(3), int64(8), object(3)\n",
      "memory usage: 1.1+ MB\n"
     ]
    }
   ],
   "source": [
    "data.info()"
   ]
  },
  {
   "cell_type": "code",
   "execution_count": 3,
   "metadata": {
    "scrolled": true
   },
   "outputs": [
    {
     "data": {
      "text/html": [
       "<div>\n",
       "<style scoped>\n",
       "    .dataframe tbody tr th:only-of-type {\n",
       "        vertical-align: middle;\n",
       "    }\n",
       "\n",
       "    .dataframe tbody tr th {\n",
       "        vertical-align: top;\n",
       "    }\n",
       "\n",
       "    .dataframe thead th {\n",
       "        text-align: right;\n",
       "    }\n",
       "</style>\n",
       "<table border=\"1\" class=\"dataframe\">\n",
       "  <thead>\n",
       "    <tr style=\"text-align: right;\">\n",
       "      <th></th>\n",
       "      <th>RowNumber</th>\n",
       "      <th>CustomerId</th>\n",
       "      <th>Surname</th>\n",
       "      <th>CreditScore</th>\n",
       "      <th>Geography</th>\n",
       "      <th>Gender</th>\n",
       "      <th>Age</th>\n",
       "      <th>Tenure</th>\n",
       "      <th>Balance</th>\n",
       "      <th>NumOfProducts</th>\n",
       "      <th>HasCrCard</th>\n",
       "      <th>IsActiveMember</th>\n",
       "      <th>EstimatedSalary</th>\n",
       "      <th>Exited</th>\n",
       "    </tr>\n",
       "  </thead>\n",
       "  <tbody>\n",
       "    <tr>\n",
       "      <th>7799</th>\n",
       "      <td>7800</td>\n",
       "      <td>15619016</td>\n",
       "      <td>McMinn</td>\n",
       "      <td>660</td>\n",
       "      <td>Germany</td>\n",
       "      <td>Male</td>\n",
       "      <td>46</td>\n",
       "      <td>5.0</td>\n",
       "      <td>109019.65</td>\n",
       "      <td>2</td>\n",
       "      <td>1</td>\n",
       "      <td>1</td>\n",
       "      <td>33680.56</td>\n",
       "      <td>0</td>\n",
       "    </tr>\n",
       "    <tr>\n",
       "      <th>4300</th>\n",
       "      <td>4301</td>\n",
       "      <td>15633834</td>\n",
       "      <td>Milne</td>\n",
       "      <td>700</td>\n",
       "      <td>Germany</td>\n",
       "      <td>Female</td>\n",
       "      <td>28</td>\n",
       "      <td>3.0</td>\n",
       "      <td>99705.69</td>\n",
       "      <td>2</td>\n",
       "      <td>0</td>\n",
       "      <td>0</td>\n",
       "      <td>146723.72</td>\n",
       "      <td>0</td>\n",
       "    </tr>\n",
       "    <tr>\n",
       "      <th>6730</th>\n",
       "      <td>6731</td>\n",
       "      <td>15628697</td>\n",
       "      <td>Tung</td>\n",
       "      <td>631</td>\n",
       "      <td>Spain</td>\n",
       "      <td>Male</td>\n",
       "      <td>46</td>\n",
       "      <td>9.0</td>\n",
       "      <td>160736.63</td>\n",
       "      <td>1</td>\n",
       "      <td>0</td>\n",
       "      <td>1</td>\n",
       "      <td>93503.02</td>\n",
       "      <td>0</td>\n",
       "    </tr>\n",
       "    <tr>\n",
       "      <th>7877</th>\n",
       "      <td>7878</td>\n",
       "      <td>15793070</td>\n",
       "      <td>Fiorentino</td>\n",
       "      <td>494</td>\n",
       "      <td>Spain</td>\n",
       "      <td>Female</td>\n",
       "      <td>41</td>\n",
       "      <td>2.0</td>\n",
       "      <td>69974.66</td>\n",
       "      <td>2</td>\n",
       "      <td>1</td>\n",
       "      <td>0</td>\n",
       "      <td>188426.13</td>\n",
       "      <td>1</td>\n",
       "    </tr>\n",
       "    <tr>\n",
       "      <th>954</th>\n",
       "      <td>955</td>\n",
       "      <td>15660429</td>\n",
       "      <td>Ch'in</td>\n",
       "      <td>665</td>\n",
       "      <td>Spain</td>\n",
       "      <td>Female</td>\n",
       "      <td>42</td>\n",
       "      <td>2.0</td>\n",
       "      <td>156371.61</td>\n",
       "      <td>2</td>\n",
       "      <td>0</td>\n",
       "      <td>1</td>\n",
       "      <td>156774.94</td>\n",
       "      <td>1</td>\n",
       "    </tr>\n",
       "    <tr>\n",
       "      <th>3861</th>\n",
       "      <td>3862</td>\n",
       "      <td>15615126</td>\n",
       "      <td>Cocci</td>\n",
       "      <td>780</td>\n",
       "      <td>France</td>\n",
       "      <td>Female</td>\n",
       "      <td>37</td>\n",
       "      <td>3.0</td>\n",
       "      <td>0.00</td>\n",
       "      <td>2</td>\n",
       "      <td>0</td>\n",
       "      <td>0</td>\n",
       "      <td>182156.81</td>\n",
       "      <td>1</td>\n",
       "    </tr>\n",
       "    <tr>\n",
       "      <th>2774</th>\n",
       "      <td>2775</td>\n",
       "      <td>15650034</td>\n",
       "      <td>Kudryashova</td>\n",
       "      <td>564</td>\n",
       "      <td>France</td>\n",
       "      <td>Female</td>\n",
       "      <td>28</td>\n",
       "      <td>1.0</td>\n",
       "      <td>0.00</td>\n",
       "      <td>1</td>\n",
       "      <td>1</td>\n",
       "      <td>1</td>\n",
       "      <td>162428.05</td>\n",
       "      <td>0</td>\n",
       "    </tr>\n",
       "    <tr>\n",
       "      <th>1782</th>\n",
       "      <td>1783</td>\n",
       "      <td>15642002</td>\n",
       "      <td>Hayward</td>\n",
       "      <td>554</td>\n",
       "      <td>France</td>\n",
       "      <td>Female</td>\n",
       "      <td>35</td>\n",
       "      <td>6.0</td>\n",
       "      <td>117707.18</td>\n",
       "      <td>2</td>\n",
       "      <td>0</td>\n",
       "      <td>0</td>\n",
       "      <td>95277.15</td>\n",
       "      <td>1</td>\n",
       "    </tr>\n",
       "    <tr>\n",
       "      <th>9979</th>\n",
       "      <td>9980</td>\n",
       "      <td>15692664</td>\n",
       "      <td>Diribe</td>\n",
       "      <td>677</td>\n",
       "      <td>France</td>\n",
       "      <td>Female</td>\n",
       "      <td>58</td>\n",
       "      <td>1.0</td>\n",
       "      <td>90022.85</td>\n",
       "      <td>1</td>\n",
       "      <td>0</td>\n",
       "      <td>1</td>\n",
       "      <td>2988.28</td>\n",
       "      <td>0</td>\n",
       "    </tr>\n",
       "    <tr>\n",
       "      <th>4393</th>\n",
       "      <td>4394</td>\n",
       "      <td>15570051</td>\n",
       "      <td>Gill</td>\n",
       "      <td>775</td>\n",
       "      <td>Germany</td>\n",
       "      <td>Female</td>\n",
       "      <td>38</td>\n",
       "      <td>6.0</td>\n",
       "      <td>179886.41</td>\n",
       "      <td>2</td>\n",
       "      <td>0</td>\n",
       "      <td>0</td>\n",
       "      <td>153122.58</td>\n",
       "      <td>0</td>\n",
       "    </tr>\n",
       "  </tbody>\n",
       "</table>\n",
       "</div>"
      ],
      "text/plain": [
       "      RowNumber  CustomerId      Surname  CreditScore Geography  Gender  Age  \\\n",
       "7799       7800    15619016       McMinn          660   Germany    Male   46   \n",
       "4300       4301    15633834        Milne          700   Germany  Female   28   \n",
       "6730       6731    15628697         Tung          631     Spain    Male   46   \n",
       "7877       7878    15793070   Fiorentino          494     Spain  Female   41   \n",
       "954         955    15660429        Ch'in          665     Spain  Female   42   \n",
       "3861       3862    15615126        Cocci          780    France  Female   37   \n",
       "2774       2775    15650034  Kudryashova          564    France  Female   28   \n",
       "1782       1783    15642002      Hayward          554    France  Female   35   \n",
       "9979       9980    15692664       Diribe          677    France  Female   58   \n",
       "4393       4394    15570051         Gill          775   Germany  Female   38   \n",
       "\n",
       "      Tenure    Balance  NumOfProducts  HasCrCard  IsActiveMember  \\\n",
       "7799     5.0  109019.65              2          1               1   \n",
       "4300     3.0   99705.69              2          0               0   \n",
       "6730     9.0  160736.63              1          0               1   \n",
       "7877     2.0   69974.66              2          1               0   \n",
       "954      2.0  156371.61              2          0               1   \n",
       "3861     3.0       0.00              2          0               0   \n",
       "2774     1.0       0.00              1          1               1   \n",
       "1782     6.0  117707.18              2          0               0   \n",
       "9979     1.0   90022.85              1          0               1   \n",
       "4393     6.0  179886.41              2          0               0   \n",
       "\n",
       "      EstimatedSalary  Exited  \n",
       "7799         33680.56       0  \n",
       "4300        146723.72       0  \n",
       "6730         93503.02       0  \n",
       "7877        188426.13       1  \n",
       "954         156774.94       1  \n",
       "3861        182156.81       1  \n",
       "2774        162428.05       0  \n",
       "1782         95277.15       1  \n",
       "9979          2988.28       0  \n",
       "4393        153122.58       0  "
      ]
     },
     "execution_count": 3,
     "metadata": {},
     "output_type": "execute_result"
    }
   ],
   "source": [
    "data.sample(10)"
   ]
  },
  {
   "cell_type": "markdown",
   "metadata": {},
   "source": [
    "Фамилия нам не важна, этот столбец можно удалить совсем. Также нумерация строк и идентификатор клиента не нужны при решении поставленной задачи. Столбцы с географией и полом закодирую."
   ]
  },
  {
   "cell_type": "code",
   "execution_count": 4,
   "metadata": {},
   "outputs": [
    {
     "data": {
      "text/plain": [
       "array(['France', 'Spain', 'Germany'], dtype=object)"
      ]
     },
     "execution_count": 4,
     "metadata": {},
     "output_type": "execute_result"
    }
   ],
   "source": [
    "data['Geography'].unique()"
   ]
  },
  {
   "cell_type": "markdown",
   "metadata": {},
   "source": [
    "Применяю метод прямого кодирования к таблице."
   ]
  },
  {
   "cell_type": "code",
   "execution_count": 5,
   "metadata": {},
   "outputs": [],
   "source": [
    "data_ohe = data.drop(['Surname', 'RowNumber', 'CustomerId'], axis=1)"
   ]
  },
  {
   "cell_type": "code",
   "execution_count": 6,
   "metadata": {},
   "outputs": [
    {
     "data": {
      "text/html": [
       "<div>\n",
       "<style scoped>\n",
       "    .dataframe tbody tr th:only-of-type {\n",
       "        vertical-align: middle;\n",
       "    }\n",
       "\n",
       "    .dataframe tbody tr th {\n",
       "        vertical-align: top;\n",
       "    }\n",
       "\n",
       "    .dataframe thead th {\n",
       "        text-align: right;\n",
       "    }\n",
       "</style>\n",
       "<table border=\"1\" class=\"dataframe\">\n",
       "  <thead>\n",
       "    <tr style=\"text-align: right;\">\n",
       "      <th></th>\n",
       "      <th>CreditScore</th>\n",
       "      <th>Geography</th>\n",
       "      <th>Gender</th>\n",
       "      <th>Age</th>\n",
       "      <th>Tenure</th>\n",
       "      <th>Balance</th>\n",
       "      <th>NumOfProducts</th>\n",
       "      <th>HasCrCard</th>\n",
       "      <th>IsActiveMember</th>\n",
       "      <th>EstimatedSalary</th>\n",
       "      <th>Exited</th>\n",
       "    </tr>\n",
       "  </thead>\n",
       "  <tbody>\n",
       "    <tr>\n",
       "      <th>7591</th>\n",
       "      <td>794</td>\n",
       "      <td>Spain</td>\n",
       "      <td>Female</td>\n",
       "      <td>30</td>\n",
       "      <td>1.0</td>\n",
       "      <td>154970.54</td>\n",
       "      <td>1</td>\n",
       "      <td>0</td>\n",
       "      <td>1</td>\n",
       "      <td>156768.45</td>\n",
       "      <td>0</td>\n",
       "    </tr>\n",
       "    <tr>\n",
       "      <th>6618</th>\n",
       "      <td>636</td>\n",
       "      <td>Germany</td>\n",
       "      <td>Female</td>\n",
       "      <td>29</td>\n",
       "      <td>NaN</td>\n",
       "      <td>97325.15</td>\n",
       "      <td>1</td>\n",
       "      <td>0</td>\n",
       "      <td>1</td>\n",
       "      <td>131924.38</td>\n",
       "      <td>0</td>\n",
       "    </tr>\n",
       "    <tr>\n",
       "      <th>4540</th>\n",
       "      <td>586</td>\n",
       "      <td>Germany</td>\n",
       "      <td>Male</td>\n",
       "      <td>32</td>\n",
       "      <td>1.0</td>\n",
       "      <td>149814.54</td>\n",
       "      <td>1</td>\n",
       "      <td>1</td>\n",
       "      <td>0</td>\n",
       "      <td>31830.06</td>\n",
       "      <td>0</td>\n",
       "    </tr>\n",
       "    <tr>\n",
       "      <th>8634</th>\n",
       "      <td>741</td>\n",
       "      <td>France</td>\n",
       "      <td>Male</td>\n",
       "      <td>39</td>\n",
       "      <td>NaN</td>\n",
       "      <td>0.00</td>\n",
       "      <td>1</td>\n",
       "      <td>0</td>\n",
       "      <td>1</td>\n",
       "      <td>40207.06</td>\n",
       "      <td>0</td>\n",
       "    </tr>\n",
       "    <tr>\n",
       "      <th>8919</th>\n",
       "      <td>673</td>\n",
       "      <td>France</td>\n",
       "      <td>Male</td>\n",
       "      <td>32</td>\n",
       "      <td>8.0</td>\n",
       "      <td>121240.76</td>\n",
       "      <td>1</td>\n",
       "      <td>1</td>\n",
       "      <td>0</td>\n",
       "      <td>116969.73</td>\n",
       "      <td>0</td>\n",
       "    </tr>\n",
       "  </tbody>\n",
       "</table>\n",
       "</div>"
      ],
      "text/plain": [
       "      CreditScore Geography  Gender  Age  Tenure    Balance  NumOfProducts  \\\n",
       "7591          794     Spain  Female   30     1.0  154970.54              1   \n",
       "6618          636   Germany  Female   29     NaN   97325.15              1   \n",
       "4540          586   Germany    Male   32     1.0  149814.54              1   \n",
       "8634          741    France    Male   39     NaN       0.00              1   \n",
       "8919          673    France    Male   32     8.0  121240.76              1   \n",
       "\n",
       "      HasCrCard  IsActiveMember  EstimatedSalary  Exited  \n",
       "7591          0               1        156768.45       0  \n",
       "6618          0               1        131924.38       0  \n",
       "4540          1               0         31830.06       0  \n",
       "8634          0               1         40207.06       0  \n",
       "8919          1               0        116969.73       0  "
      ]
     },
     "execution_count": 6,
     "metadata": {},
     "output_type": "execute_result"
    }
   ],
   "source": [
    "data_ohe.sample(5)"
   ]
  },
  {
   "cell_type": "code",
   "execution_count": 7,
   "metadata": {},
   "outputs": [],
   "source": [
    "data_ohe = pd.get_dummies(data_ohe, drop_first=True)"
   ]
  },
  {
   "cell_type": "code",
   "execution_count": 8,
   "metadata": {},
   "outputs": [
    {
     "data": {
      "text/html": [
       "<div>\n",
       "<style scoped>\n",
       "    .dataframe tbody tr th:only-of-type {\n",
       "        vertical-align: middle;\n",
       "    }\n",
       "\n",
       "    .dataframe tbody tr th {\n",
       "        vertical-align: top;\n",
       "    }\n",
       "\n",
       "    .dataframe thead th {\n",
       "        text-align: right;\n",
       "    }\n",
       "</style>\n",
       "<table border=\"1\" class=\"dataframe\">\n",
       "  <thead>\n",
       "    <tr style=\"text-align: right;\">\n",
       "      <th></th>\n",
       "      <th>CreditScore</th>\n",
       "      <th>Age</th>\n",
       "      <th>Tenure</th>\n",
       "      <th>Balance</th>\n",
       "      <th>NumOfProducts</th>\n",
       "      <th>HasCrCard</th>\n",
       "      <th>IsActiveMember</th>\n",
       "      <th>EstimatedSalary</th>\n",
       "      <th>Exited</th>\n",
       "      <th>Geography_Germany</th>\n",
       "      <th>Geography_Spain</th>\n",
       "      <th>Gender_Male</th>\n",
       "    </tr>\n",
       "  </thead>\n",
       "  <tbody>\n",
       "    <tr>\n",
       "      <th>4127</th>\n",
       "      <td>712</td>\n",
       "      <td>52</td>\n",
       "      <td>9.0</td>\n",
       "      <td>0.00</td>\n",
       "      <td>1</td>\n",
       "      <td>1</td>\n",
       "      <td>1</td>\n",
       "      <td>117977.45</td>\n",
       "      <td>1</td>\n",
       "      <td>0</td>\n",
       "      <td>1</td>\n",
       "      <td>1</td>\n",
       "    </tr>\n",
       "    <tr>\n",
       "      <th>2480</th>\n",
       "      <td>638</td>\n",
       "      <td>37</td>\n",
       "      <td>2.0</td>\n",
       "      <td>89728.86</td>\n",
       "      <td>2</td>\n",
       "      <td>1</td>\n",
       "      <td>1</td>\n",
       "      <td>37294.88</td>\n",
       "      <td>0</td>\n",
       "      <td>1</td>\n",
       "      <td>0</td>\n",
       "      <td>1</td>\n",
       "    </tr>\n",
       "    <tr>\n",
       "      <th>746</th>\n",
       "      <td>844</td>\n",
       "      <td>18</td>\n",
       "      <td>2.0</td>\n",
       "      <td>160980.03</td>\n",
       "      <td>1</td>\n",
       "      <td>0</td>\n",
       "      <td>0</td>\n",
       "      <td>145936.28</td>\n",
       "      <td>0</td>\n",
       "      <td>0</td>\n",
       "      <td>0</td>\n",
       "      <td>1</td>\n",
       "    </tr>\n",
       "    <tr>\n",
       "      <th>2801</th>\n",
       "      <td>498</td>\n",
       "      <td>29</td>\n",
       "      <td>8.0</td>\n",
       "      <td>127864.26</td>\n",
       "      <td>1</td>\n",
       "      <td>1</td>\n",
       "      <td>1</td>\n",
       "      <td>46677.90</td>\n",
       "      <td>0</td>\n",
       "      <td>0</td>\n",
       "      <td>1</td>\n",
       "      <td>1</td>\n",
       "    </tr>\n",
       "    <tr>\n",
       "      <th>1221</th>\n",
       "      <td>791</td>\n",
       "      <td>37</td>\n",
       "      <td>2.0</td>\n",
       "      <td>163789.49</td>\n",
       "      <td>2</td>\n",
       "      <td>1</td>\n",
       "      <td>0</td>\n",
       "      <td>75832.53</td>\n",
       "      <td>0</td>\n",
       "      <td>0</td>\n",
       "      <td>0</td>\n",
       "      <td>1</td>\n",
       "    </tr>\n",
       "  </tbody>\n",
       "</table>\n",
       "</div>"
      ],
      "text/plain": [
       "      CreditScore  Age  Tenure    Balance  NumOfProducts  HasCrCard  \\\n",
       "4127          712   52     9.0       0.00              1          1   \n",
       "2480          638   37     2.0   89728.86              2          1   \n",
       "746           844   18     2.0  160980.03              1          0   \n",
       "2801          498   29     8.0  127864.26              1          1   \n",
       "1221          791   37     2.0  163789.49              2          1   \n",
       "\n",
       "      IsActiveMember  EstimatedSalary  Exited  Geography_Germany  \\\n",
       "4127               1        117977.45       1                  0   \n",
       "2480               1         37294.88       0                  1   \n",
       "746                0        145936.28       0                  0   \n",
       "2801               1         46677.90       0                  0   \n",
       "1221               0         75832.53       0                  0   \n",
       "\n",
       "      Geography_Spain  Gender_Male  \n",
       "4127                1            1  \n",
       "2480                0            1  \n",
       "746                 0            1  \n",
       "2801                1            1  \n",
       "1221                0            1  "
      ]
     },
     "execution_count": 8,
     "metadata": {},
     "output_type": "execute_result"
    }
   ],
   "source": [
    "data_ohe.sample(5)"
   ]
  },
  {
   "cell_type": "code",
   "execution_count": 9,
   "metadata": {},
   "outputs": [
    {
     "data": {
      "text/plain": [
       "11"
      ]
     },
     "execution_count": 9,
     "metadata": {},
     "output_type": "execute_result"
    }
   ],
   "source": [
    "data_ohe['Tenure'].nunique()"
   ]
  },
  {
   "cell_type": "code",
   "execution_count": 10,
   "metadata": {},
   "outputs": [
    {
     "data": {
      "text/plain": [
       "909"
      ]
     },
     "execution_count": 10,
     "metadata": {},
     "output_type": "execute_result"
    }
   ],
   "source": [
    "data_ohe['Tenure'].isna().sum()"
   ]
  },
  {
   "cell_type": "code",
   "execution_count": 11,
   "metadata": {
    "scrolled": true
   },
   "outputs": [
    {
     "name": "stdout",
     "output_type": "stream",
     "text": [
      "В предложенной выборке 10.0 % составляют утраченные данные. \n"
     ]
    }
   ],
   "source": [
    "print('В предложенной выборке', round(data_ohe['Tenure'].isna().sum()*100/data_ohe['Tenure'].count(), 2), '% составляют утраченные данные. ')"
   ]
  },
  {
   "cell_type": "markdown",
   "metadata": {},
   "source": [
    "Восстановить их не представляется возможным. Раз в выборке есть пустые ячейки, то и в последующей работе могут быть пустоты. Посмотрю матрицу корреляций."
   ]
  },
  {
   "cell_type": "code",
   "execution_count": 12,
   "metadata": {
    "scrolled": false
   },
   "outputs": [
    {
     "data": {
      "text/plain": [
       "<AxesSubplot:>"
      ]
     },
     "execution_count": 12,
     "metadata": {},
     "output_type": "execute_result"
    },
    {
     "data": {
      "image/png": "[encoded data removed]",
      "text/plain": [
       "<Figure size 720x432 with 2 Axes>"
      ]
     },
     "metadata": {
      "needs_background": "light"
     },
     "output_type": "display_data"
    }
   ],
   "source": [
    "correlation_matrix = data.corr()\n",
    "\n",
    "plt.figure(figsize= (10, 6))\n",
    "sns.heatmap(correlation_matrix, annot = True)"
   ]
  },
  {
   "cell_type": "markdown",
   "metadata": {},
   "source": [
    "Как будто данные из столбца 'Tenure' не связаны сильно с другими величинами. Вообще, по матрице можно сделать вывод, что на целевой признак влияют три параметра - 'Age', 'Balance' и 'IsActiveMember'."
   ]
  },
  {
   "cell_type": "markdown",
   "metadata": {},
   "source": [
    "Наличие Nan в столбце 'Tenure' будет мешать обработке данных. Нужно с ними что-то сделать.\n",
    "\n",
    "Определю, влияет ли этот признак на целевой, с помощью features_importances."
   ]
  },
  {
   "cell_type": "code",
   "execution_count": 13,
   "metadata": {},
   "outputs": [],
   "source": [
    "from catboost import CatBoostClassifier"
   ]
  },
  {
   "cell_type": "code",
   "execution_count": 14,
   "metadata": {
    "scrolled": false
   },
   "outputs": [
    {
     "data": {
      "image/png": "[encoded data removed]",
      "text/plain": [
       "<Figure size 720x504 with 1 Axes>"
      ]
     },
     "metadata": {
      "needs_background": "light"
     },
     "output_type": "display_data"
    }
   ],
   "source": [
    "data_ohe_full=data_ohe.dropna(subset=['Tenure'])\n",
    "\n",
    "\n",
    "\n",
    "model_test = RandomForestClassifier(random_state=RANDOM_STATE)\n",
    "model_test.fit(X = data_ohe_full.drop(['Exited'], axis=1), y = data_ohe_full['Exited'])\n",
    "model_cat = CatBoostClassifier(random_state=RANDOM_STATE, silent=True)\n",
    "model_cat.fit(X = data_ohe_full.drop(['Exited'], axis=1), y = data_ohe_full['Exited'])\n",
    "\n",
    "DF = pd.DataFrame({'Catboost' : model_cat.get_feature_importance(),\n",
    "                        'RForest'  : list(map(lambda x: x*100, model_test.feature_importances_))},\n",
    "                       index=data_ohe_full.drop(['Exited'], axis=1).columns)\n",
    "\n",
    "fig, ax = plt.subplots(figsize=(10,7))\n",
    "ax = DF.plot.bar(ax=ax)"
   ]
  },
  {
   "cell_type": "markdown",
   "metadata": {},
   "source": [
    "Слабое влияние на целевую величину и отсутствие существенных корреляций сдругими величинами, наверное, позволяет заполнить средним все пропуски.\n",
    "Пробовала также убрать 'HasCrCard','GenderMale' и 'Geography_Spain', но модель получалась недостаточного качества. Поэтому, хоть важность этих параметров кажется несущественной на фоне других, они вносят ощутимый вклад в формирование хорошего результата."
   ]
  },
  {
   "cell_type": "code",
   "execution_count": 15,
   "metadata": {
    "scrolled": true
   },
   "outputs": [
    {
     "data": {
      "text/plain": [
       "count    9091.000000\n",
       "mean        4.997690\n",
       "std         2.894723\n",
       "min         0.000000\n",
       "25%         2.000000\n",
       "50%         5.000000\n",
       "75%         7.000000\n",
       "max        10.000000\n",
       "Name: Tenure, dtype: float64"
      ]
     },
     "execution_count": 15,
     "metadata": {},
     "output_type": "execute_result"
    }
   ],
   "source": [
    "\n",
    "data_ohe['Tenure'].describe()\n"
   ]
  },
  {
   "cell_type": "code",
   "execution_count": 16,
   "metadata": {
    "scrolled": false
   },
   "outputs": [
    {
     "data": {
      "text/plain": [
       "array([ 2.        ,  1.        ,  8.        ,  7.        ,  4.        ,\n",
       "        6.        ,  3.        , 10.        ,  5.        ,  9.        ,\n",
       "        0.        ,  4.99769002])"
      ]
     },
     "execution_count": 16,
     "metadata": {},
     "output_type": "execute_result"
    }
   ],
   "source": [
    "data_ohe['Tenure']  = data_ohe['Tenure'].fillna(data_ohe['Tenure'].mean()) #2.76 std\n",
    "data_ohe['Tenure'].unique()"
   ]
  },
  {
   "cell_type": "code",
   "execution_count": 17,
   "metadata": {
    "scrolled": true
   },
   "outputs": [
    {
     "data": {
      "text/plain": [
       "count    10000.00000\n",
       "mean         4.99769\n",
       "std          2.76001\n",
       "min          0.00000\n",
       "25%          3.00000\n",
       "50%          4.99769\n",
       "75%          7.00000\n",
       "max         10.00000\n",
       "Name: Tenure, dtype: float64"
      ]
     },
     "execution_count": 17,
     "metadata": {},
     "output_type": "execute_result"
    }
   ],
   "source": [
    "data_ohe['Tenure'].describe()"
   ]
  },
  {
   "cell_type": "markdown",
   "metadata": {},
   "source": [
    "Стандартное отклонение меняется, не могу подобрать величину, чтоб оставалось таким же, как до заполнения. Надеюсь, такое небольшое отклонение не критично. Данные получились чуть более скученные, чем до заполнения пропусков, что теоретически улучшило выборку.\n"
   ]
  },
  {
   "cell_type": "markdown",
   "metadata": {},
   "source": [
    "Посмотрим, насколько несбалансированы классы."
   ]
  },
  {
   "cell_type": "code",
   "execution_count": 18,
   "metadata": {},
   "outputs": [
    {
     "data": {
      "text/plain": [
       "array([1, 0])"
      ]
     },
     "execution_count": 18,
     "metadata": {},
     "output_type": "execute_result"
    }
   ],
   "source": [
    "data_ohe['Exited'].unique()"
   ]
  },
  {
   "cell_type": "code",
   "execution_count": 19,
   "metadata": {},
   "outputs": [
    {
     "name": "stdout",
     "output_type": "stream",
     "text": [
      "Нулевого класса в выборке - 79.63 %\n"
     ]
    }
   ],
   "source": [
    "print('Нулевого класса в выборке -', round(data_ohe[data_ohe['Exited']==0]['Exited'].count()*100/data_ohe['Exited'].count(), 2),'%')"
   ]
  },
  {
   "cell_type": "code",
   "execution_count": 20,
   "metadata": {
    "scrolled": false
   },
   "outputs": [
    {
     "name": "stdout",
     "output_type": "stream",
     "text": [
      "<class 'pandas.core.frame.DataFrame'>\n",
      "RangeIndex: 10000 entries, 0 to 9999\n",
      "Data columns (total 12 columns):\n",
      " #   Column             Non-Null Count  Dtype  \n",
      "---  ------             --------------  -----  \n",
      " 0   CreditScore        10000 non-null  int64  \n",
      " 1   Age                10000 non-null  int64  \n",
      " 2   Tenure             10000 non-null  float64\n",
      " 3   Balance            10000 non-null  float64\n",
      " 4   NumOfProducts      10000 non-null  int64  \n",
      " 5   HasCrCard          10000 non-null  int64  \n",
      " 6   IsActiveMember     10000 non-null  int64  \n",
      " 7   EstimatedSalary    10000 non-null  float64\n",
      " 8   Exited             10000 non-null  int64  \n",
      " 9   Geography_Germany  10000 non-null  uint8  \n",
      " 10  Geography_Spain    10000 non-null  uint8  \n",
      " 11  Gender_Male        10000 non-null  uint8  \n",
      "dtypes: float64(3), int64(6), uint8(3)\n",
      "memory usage: 732.5 KB\n"
     ]
    }
   ],
   "source": [
    "data_ohe.info()"
   ]
  },
  {
   "cell_type": "markdown",
   "metadata": {},
   "source": [
    "Бинарные данные переведу в int."
   ]
  },
  {
   "cell_type": "code",
   "execution_count": 21,
   "metadata": {},
   "outputs": [],
   "source": [
    "data_ohe['Geography_Germany'] = data_ohe['Geography_Germany'].astype('int')\n",
    "data_ohe['Geography_Spain'] = data_ohe['Geography_Spain'].astype('int')\n",
    "data_ohe['Gender_Male'] = data_ohe['Gender_Male'].astype('int')"
   ]
  },
  {
   "cell_type": "code",
   "execution_count": 22,
   "metadata": {},
   "outputs": [
    {
     "name": "stdout",
     "output_type": "stream",
     "text": [
      "<class 'pandas.core.frame.DataFrame'>\n",
      "RangeIndex: 10000 entries, 0 to 9999\n",
      "Data columns (total 12 columns):\n",
      " #   Column             Non-Null Count  Dtype  \n",
      "---  ------             --------------  -----  \n",
      " 0   CreditScore        10000 non-null  int64  \n",
      " 1   Age                10000 non-null  int64  \n",
      " 2   Tenure             10000 non-null  float64\n",
      " 3   Balance            10000 non-null  float64\n",
      " 4   NumOfProducts      10000 non-null  int64  \n",
      " 5   HasCrCard          10000 non-null  int64  \n",
      " 6   IsActiveMember     10000 non-null  int64  \n",
      " 7   EstimatedSalary    10000 non-null  float64\n",
      " 8   Exited             10000 non-null  int64  \n",
      " 9   Geography_Germany  10000 non-null  int64  \n",
      " 10  Geography_Spain    10000 non-null  int64  \n",
      " 11  Gender_Male        10000 non-null  int64  \n",
      "dtypes: float64(3), int64(9)\n",
      "memory usage: 937.6 KB\n"
     ]
    }
   ],
   "source": [
    "data_ohe.info()"
   ]
  },
  {
   "cell_type": "markdown",
   "metadata": {},
   "source": [
    "Провожу разделение выборок с учётом целевого класса (использую аргумент stratify, ориентируя его на классы из target'а)"
   ]
  },
  {
   "cell_type": "code",
   "execution_count": 23,
   "metadata": {},
   "outputs": [],
   "source": [
    "target = data_ohe['Exited']\n",
    "features = data_ohe.drop(['Exited'] , axis=1)\n",
    "features_train, features_valid_test, target_train, target_valid_test = train_test_split(\n",
    "    features, target, test_size=0.4, random_state=RANDOM_STATE, stratify=target)\n",
    "features_valid, features_test, target_valid, target_test = train_test_split(\n",
    "    features_valid_test, target_valid_test, test_size=0.5, random_state=RANDOM_STATE, stratify=target_valid_test)"
   ]
  },
  {
   "cell_type": "code",
   "execution_count": 24,
   "metadata": {
    "scrolled": true
   },
   "outputs": [
    {
     "name": "stdout",
     "output_type": "stream",
     "text": [
      "shapes:\n",
      "f_t = (6000, 11) \n",
      "f_v = (2000, 11) \n",
      "f_tst = (2000, 11) \n",
      "t_t = (6000,) \n",
      "t_v = (2000,) \n",
      "t_tst = (2000,)\n"
     ]
    }
   ],
   "source": [
    "print('shapes:\\nf_t =',features_train.shape, '\\nf_v =', features_valid.shape, '\\nf_tst =', features_test.shape,\n",
    "      '\\nt_t =', target_train.shape, '\\nt_v =', target_valid.shape, '\\nt_tst =', target_test.shape)"
   ]
  },
  {
   "cell_type": "code",
   "execution_count": 25,
   "metadata": {
    "scrolled": false
   },
   "outputs": [
    {
     "name": "stdout",
     "output_type": "stream",
     "text": [
      "Нулевого класса в выборке target_train - 79.63 %\n",
      "Нулевого класса в выборке target_valid - 79.6 %\n",
      "Нулевого класса в выборке target_test - 79.65 %\n"
     ]
    }
   ],
   "source": [
    "name_data = [target_train, target_valid, target_test]\n",
    "text_data = ['target_train', 'target_valid', 'target_test']\n",
    "for i in range(len(name_data)):\n",
    "    name = name_data[i]\n",
    "    print('Нулевого класса в выборке', text_data[i], '-', round(name[name==0].count()*100/name.count(), 2),'%')"
   ]
  },
  {
   "cell_type": "markdown",
   "metadata": {},
   "source": [
    "Баланс классов в тренировочной и валидационной выборках такой же, как в исходной."
   ]
  },
  {
   "cell_type": "markdown",
   "metadata": {},
   "source": [
    "Масштабирую признаки."
   ]
  },
  {
   "cell_type": "code",
   "execution_count": 26,
   "metadata": {},
   "outputs": [
    {
     "data": {
      "text/plain": [
       "StandardScaler()"
      ]
     },
     "execution_count": 26,
     "metadata": {},
     "output_type": "execute_result"
    }
   ],
   "source": [
    "scaler = StandardScaler()\n",
    "scaler.fit(features_train)"
   ]
  },
  {
   "cell_type": "code",
   "execution_count": 27,
   "metadata": {},
   "outputs": [],
   "source": [
    "features_train_scaled = scaler.transform(features_train)\n",
    "features_valid_scaled = scaler.transform(features_valid)\n",
    "features_test_scaled = scaler.transform(features_test)"
   ]
  },
  {
   "cell_type": "code",
   "execution_count": 28,
   "metadata": {},
   "outputs": [],
   "source": [
    "features_train = pd.DataFrame(features_train_scaled, columns=features_train.columns, index=features_train.index)\n",
    "features_valid = pd.DataFrame(features_valid_scaled, columns=features_valid.columns, index=features_valid.index)\n",
    "features_test = pd.DataFrame(features_test_scaled, columns=features_test.columns, index=features_test.index)"
   ]
  },
  {
   "cell_type": "code",
   "execution_count": 29,
   "metadata": {
    "scrolled": true
   },
   "outputs": [
    {
     "data": {
      "text/html": [
       "<div>\n",
       "<style scoped>\n",
       "    .dataframe tbody tr th:only-of-type {\n",
       "        vertical-align: middle;\n",
       "    }\n",
       "\n",
       "    .dataframe tbody tr th {\n",
       "        vertical-align: top;\n",
       "    }\n",
       "\n",
       "    .dataframe thead th {\n",
       "        text-align: right;\n",
       "    }\n",
       "</style>\n",
       "<table border=\"1\" class=\"dataframe\">\n",
       "  <thead>\n",
       "    <tr style=\"text-align: right;\">\n",
       "      <th></th>\n",
       "      <th>CreditScore</th>\n",
       "      <th>Age</th>\n",
       "      <th>Tenure</th>\n",
       "      <th>Balance</th>\n",
       "      <th>NumOfProducts</th>\n",
       "      <th>HasCrCard</th>\n",
       "      <th>IsActiveMember</th>\n",
       "      <th>EstimatedSalary</th>\n",
       "      <th>Geography_Germany</th>\n",
       "      <th>Geography_Spain</th>\n",
       "      <th>Gender_Male</th>\n",
       "    </tr>\n",
       "  </thead>\n",
       "  <tbody>\n",
       "    <tr>\n",
       "      <th>299</th>\n",
       "      <td>-0.236529</td>\n",
       "      <td>-0.571860</td>\n",
       "      <td>-0.002708</td>\n",
       "      <td>-1.219673</td>\n",
       "      <td>0.820981</td>\n",
       "      <td>0.655433</td>\n",
       "      <td>0.969466</td>\n",
       "      <td>0.057947</td>\n",
       "      <td>-0.575041</td>\n",
       "      <td>-0.575811</td>\n",
       "      <td>0.907278</td>\n",
       "    </tr>\n",
       "    <tr>\n",
       "      <th>3003</th>\n",
       "      <td>-0.720933</td>\n",
       "      <td>1.525251</td>\n",
       "      <td>0.360677</td>\n",
       "      <td>0.446765</td>\n",
       "      <td>-0.914708</td>\n",
       "      <td>-1.525709</td>\n",
       "      <td>0.969466</td>\n",
       "      <td>1.309639</td>\n",
       "      <td>-0.575041</td>\n",
       "      <td>-0.575811</td>\n",
       "      <td>0.907278</td>\n",
       "    </tr>\n",
       "    <tr>\n",
       "      <th>3378</th>\n",
       "      <td>-1.246563</td>\n",
       "      <td>3.145746</td>\n",
       "      <td>-0.002708</td>\n",
       "      <td>0.285567</td>\n",
       "      <td>-0.914708</td>\n",
       "      <td>0.655433</td>\n",
       "      <td>0.969466</td>\n",
       "      <td>-0.377325</td>\n",
       "      <td>1.739007</td>\n",
       "      <td>-0.575811</td>\n",
       "      <td>0.907278</td>\n",
       "    </tr>\n",
       "    <tr>\n",
       "      <th>4738</th>\n",
       "      <td>0.536457</td>\n",
       "      <td>0.095403</td>\n",
       "      <td>-0.003548</td>\n",
       "      <td>0.434678</td>\n",
       "      <td>-0.914708</td>\n",
       "      <td>-1.525709</td>\n",
       "      <td>-1.031496</td>\n",
       "      <td>-1.576364</td>\n",
       "      <td>-0.575041</td>\n",
       "      <td>-0.575811</td>\n",
       "      <td>-1.102198</td>\n",
       "    </tr>\n",
       "    <tr>\n",
       "      <th>1490</th>\n",
       "      <td>1.515573</td>\n",
       "      <td>-0.762506</td>\n",
       "      <td>1.087448</td>\n",
       "      <td>-1.219673</td>\n",
       "      <td>0.820981</td>\n",
       "      <td>0.655433</td>\n",
       "      <td>-1.031496</td>\n",
       "      <td>0.304398</td>\n",
       "      <td>-0.575041</td>\n",
       "      <td>1.736682</td>\n",
       "      <td>-1.102198</td>\n",
       "    </tr>\n",
       "  </tbody>\n",
       "</table>\n",
       "</div>"
      ],
      "text/plain": [
       "      CreditScore       Age    Tenure   Balance  NumOfProducts  HasCrCard  \\\n",
       "299     -0.236529 -0.571860 -0.002708 -1.219673       0.820981   0.655433   \n",
       "3003    -0.720933  1.525251  0.360677  0.446765      -0.914708  -1.525709   \n",
       "3378    -1.246563  3.145746 -0.002708  0.285567      -0.914708   0.655433   \n",
       "4738     0.536457  0.095403 -0.003548  0.434678      -0.914708  -1.525709   \n",
       "1490     1.515573 -0.762506  1.087448 -1.219673       0.820981   0.655433   \n",
       "\n",
       "      IsActiveMember  EstimatedSalary  Geography_Germany  Geography_Spain  \\\n",
       "299         0.969466         0.057947          -0.575041        -0.575811   \n",
       "3003        0.969466         1.309639          -0.575041        -0.575811   \n",
       "3378        0.969466        -0.377325           1.739007        -0.575811   \n",
       "4738       -1.031496        -1.576364          -0.575041        -0.575811   \n",
       "1490       -1.031496         0.304398          -0.575041         1.736682   \n",
       "\n",
       "      Gender_Male  \n",
       "299      0.907278  \n",
       "3003     0.907278  \n",
       "3378     0.907278  \n",
       "4738    -1.102198  \n",
       "1490    -1.102198  "
      ]
     },
     "execution_count": 29,
     "metadata": {},
     "output_type": "execute_result"
    }
   ],
   "source": [
    "features_valid.sample(5)\n"
   ]
  },
  {
   "cell_type": "code",
   "execution_count": 30,
   "metadata": {},
   "outputs": [
    {
     "data": {
      "text/html": [
       "<div>\n",
       "<style scoped>\n",
       "    .dataframe tbody tr th:only-of-type {\n",
       "        vertical-align: middle;\n",
       "    }\n",
       "\n",
       "    .dataframe tbody tr th {\n",
       "        vertical-align: top;\n",
       "    }\n",
       "\n",
       "    .dataframe thead th {\n",
       "        text-align: right;\n",
       "    }\n",
       "</style>\n",
       "<table border=\"1\" class=\"dataframe\">\n",
       "  <thead>\n",
       "    <tr style=\"text-align: right;\">\n",
       "      <th></th>\n",
       "      <th>CreditScore</th>\n",
       "      <th>Age</th>\n",
       "      <th>Tenure</th>\n",
       "      <th>Balance</th>\n",
       "      <th>NumOfProducts</th>\n",
       "      <th>HasCrCard</th>\n",
       "      <th>IsActiveMember</th>\n",
       "      <th>EstimatedSalary</th>\n",
       "      <th>Geography_Germany</th>\n",
       "      <th>Geography_Spain</th>\n",
       "      <th>Gender_Male</th>\n",
       "    </tr>\n",
       "  </thead>\n",
       "  <tbody>\n",
       "    <tr>\n",
       "      <th>3439</th>\n",
       "      <td>0.989942</td>\n",
       "      <td>-0.285890</td>\n",
       "      <td>-0.003548</td>\n",
       "      <td>1.055389</td>\n",
       "      <td>-0.914708</td>\n",
       "      <td>0.655433</td>\n",
       "      <td>0.969466</td>\n",
       "      <td>1.617093</td>\n",
       "      <td>-0.575041</td>\n",
       "      <td>-0.575811</td>\n",
       "      <td>0.907278</td>\n",
       "    </tr>\n",
       "    <tr>\n",
       "      <th>5779</th>\n",
       "      <td>0.350941</td>\n",
       "      <td>0.095403</td>\n",
       "      <td>-1.092865</td>\n",
       "      <td>-0.096671</td>\n",
       "      <td>-0.914708</td>\n",
       "      <td>0.655433</td>\n",
       "      <td>0.969466</td>\n",
       "      <td>0.261851</td>\n",
       "      <td>-0.575041</td>\n",
       "      <td>1.736682</td>\n",
       "      <td>0.907278</td>\n",
       "    </tr>\n",
       "    <tr>\n",
       "      <th>5487</th>\n",
       "      <td>1.165152</td>\n",
       "      <td>-0.381213</td>\n",
       "      <td>-0.003548</td>\n",
       "      <td>-1.219673</td>\n",
       "      <td>-0.914708</td>\n",
       "      <td>0.655433</td>\n",
       "      <td>0.969466</td>\n",
       "      <td>-1.199871</td>\n",
       "      <td>-0.575041</td>\n",
       "      <td>-0.575811</td>\n",
       "      <td>0.907278</td>\n",
       "    </tr>\n",
       "    <tr>\n",
       "      <th>7009</th>\n",
       "      <td>0.227263</td>\n",
       "      <td>-1.048476</td>\n",
       "      <td>0.360677</td>\n",
       "      <td>-1.219673</td>\n",
       "      <td>-0.914708</td>\n",
       "      <td>-1.525709</td>\n",
       "      <td>0.969466</td>\n",
       "      <td>-1.591970</td>\n",
       "      <td>-0.575041</td>\n",
       "      <td>-0.575811</td>\n",
       "      <td>-1.102198</td>\n",
       "    </tr>\n",
       "    <tr>\n",
       "      <th>6934</th>\n",
       "      <td>-1.030127</td>\n",
       "      <td>0.000079</td>\n",
       "      <td>-1.092865</td>\n",
       "      <td>0.635518</td>\n",
       "      <td>0.820981</td>\n",
       "      <td>0.655433</td>\n",
       "      <td>0.969466</td>\n",
       "      <td>1.655323</td>\n",
       "      <td>-0.575041</td>\n",
       "      <td>1.736682</td>\n",
       "      <td>0.907278</td>\n",
       "    </tr>\n",
       "  </tbody>\n",
       "</table>\n",
       "</div>"
      ],
      "text/plain": [
       "      CreditScore       Age    Tenure   Balance  NumOfProducts  HasCrCard  \\\n",
       "3439     0.989942 -0.285890 -0.003548  1.055389      -0.914708   0.655433   \n",
       "5779     0.350941  0.095403 -1.092865 -0.096671      -0.914708   0.655433   \n",
       "5487     1.165152 -0.381213 -0.003548 -1.219673      -0.914708   0.655433   \n",
       "7009     0.227263 -1.048476  0.360677 -1.219673      -0.914708  -1.525709   \n",
       "6934    -1.030127  0.000079 -1.092865  0.635518       0.820981   0.655433   \n",
       "\n",
       "      IsActiveMember  EstimatedSalary  Geography_Germany  Geography_Spain  \\\n",
       "3439        0.969466         1.617093          -0.575041        -0.575811   \n",
       "5779        0.969466         0.261851          -0.575041         1.736682   \n",
       "5487        0.969466        -1.199871          -0.575041        -0.575811   \n",
       "7009        0.969466        -1.591970          -0.575041        -0.575811   \n",
       "6934        0.969466         1.655323          -0.575041         1.736682   \n",
       "\n",
       "      Gender_Male  \n",
       "3439     0.907278  \n",
       "5779     0.907278  \n",
       "5487     0.907278  \n",
       "7009    -1.102198  \n",
       "6934     0.907278  "
      ]
     },
     "execution_count": 30,
     "metadata": {},
     "output_type": "execute_result"
    }
   ],
   "source": [
    "features_test.sample(5)"
   ]
  },
  {
   "cell_type": "code",
   "execution_count": 31,
   "metadata": {},
   "outputs": [
    {
     "data": {
      "text/html": [
       "<div>\n",
       "<style scoped>\n",
       "    .dataframe tbody tr th:only-of-type {\n",
       "        vertical-align: middle;\n",
       "    }\n",
       "\n",
       "    .dataframe tbody tr th {\n",
       "        vertical-align: top;\n",
       "    }\n",
       "\n",
       "    .dataframe thead th {\n",
       "        text-align: right;\n",
       "    }\n",
       "</style>\n",
       "<table border=\"1\" class=\"dataframe\">\n",
       "  <thead>\n",
       "    <tr style=\"text-align: right;\">\n",
       "      <th></th>\n",
       "      <th>CreditScore</th>\n",
       "      <th>Age</th>\n",
       "      <th>Tenure</th>\n",
       "      <th>Balance</th>\n",
       "      <th>NumOfProducts</th>\n",
       "      <th>HasCrCard</th>\n",
       "      <th>IsActiveMember</th>\n",
       "      <th>EstimatedSalary</th>\n",
       "      <th>Geography_Germany</th>\n",
       "      <th>Geography_Spain</th>\n",
       "      <th>Gender_Male</th>\n",
       "    </tr>\n",
       "  </thead>\n",
       "  <tbody>\n",
       "    <tr>\n",
       "      <th>1244</th>\n",
       "      <td>-0.648788</td>\n",
       "      <td>-0.095244</td>\n",
       "      <td>-1.819636</td>\n",
       "      <td>0.891177</td>\n",
       "      <td>0.820981</td>\n",
       "      <td>-1.525709</td>\n",
       "      <td>-1.031496</td>\n",
       "      <td>-1.193659</td>\n",
       "      <td>1.739007</td>\n",
       "      <td>-0.575811</td>\n",
       "      <td>-1.102198</td>\n",
       "    </tr>\n",
       "    <tr>\n",
       "      <th>7462</th>\n",
       "      <td>-0.411739</td>\n",
       "      <td>0.095403</td>\n",
       "      <td>1.450834</td>\n",
       "      <td>-1.219673</td>\n",
       "      <td>-0.914708</td>\n",
       "      <td>0.655433</td>\n",
       "      <td>0.969466</td>\n",
       "      <td>0.855150</td>\n",
       "      <td>-0.575041</td>\n",
       "      <td>-0.575811</td>\n",
       "      <td>0.907278</td>\n",
       "    </tr>\n",
       "    <tr>\n",
       "      <th>8152</th>\n",
       "      <td>0.041746</td>\n",
       "      <td>-0.285890</td>\n",
       "      <td>-1.092865</td>\n",
       "      <td>-1.219673</td>\n",
       "      <td>0.820981</td>\n",
       "      <td>0.655433</td>\n",
       "      <td>0.969466</td>\n",
       "      <td>0.803867</td>\n",
       "      <td>-0.575041</td>\n",
       "      <td>1.736682</td>\n",
       "      <td>-1.102198</td>\n",
       "    </tr>\n",
       "    <tr>\n",
       "      <th>2803</th>\n",
       "      <td>0.567377</td>\n",
       "      <td>0.381372</td>\n",
       "      <td>0.724063</td>\n",
       "      <td>0.058038</td>\n",
       "      <td>-0.914708</td>\n",
       "      <td>0.655433</td>\n",
       "      <td>0.969466</td>\n",
       "      <td>0.047006</td>\n",
       "      <td>1.739007</td>\n",
       "      <td>-0.575811</td>\n",
       "      <td>-1.102198</td>\n",
       "    </tr>\n",
       "    <tr>\n",
       "      <th>4515</th>\n",
       "      <td>0.783813</td>\n",
       "      <td>-0.857830</td>\n",
       "      <td>1.087448</td>\n",
       "      <td>0.923607</td>\n",
       "      <td>-0.914708</td>\n",
       "      <td>0.655433</td>\n",
       "      <td>0.969466</td>\n",
       "      <td>0.824209</td>\n",
       "      <td>-0.575041</td>\n",
       "      <td>1.736682</td>\n",
       "      <td>0.907278</td>\n",
       "    </tr>\n",
       "  </tbody>\n",
       "</table>\n",
       "</div>"
      ],
      "text/plain": [
       "      CreditScore       Age    Tenure   Balance  NumOfProducts  HasCrCard  \\\n",
       "1244    -0.648788 -0.095244 -1.819636  0.891177       0.820981  -1.525709   \n",
       "7462    -0.411739  0.095403  1.450834 -1.219673      -0.914708   0.655433   \n",
       "8152     0.041746 -0.285890 -1.092865 -1.219673       0.820981   0.655433   \n",
       "2803     0.567377  0.381372  0.724063  0.058038      -0.914708   0.655433   \n",
       "4515     0.783813 -0.857830  1.087448  0.923607      -0.914708   0.655433   \n",
       "\n",
       "      IsActiveMember  EstimatedSalary  Geography_Germany  Geography_Spain  \\\n",
       "1244       -1.031496        -1.193659           1.739007        -0.575811   \n",
       "7462        0.969466         0.855150          -0.575041        -0.575811   \n",
       "8152        0.969466         0.803867          -0.575041         1.736682   \n",
       "2803        0.969466         0.047006           1.739007        -0.575811   \n",
       "4515        0.969466         0.824209          -0.575041         1.736682   \n",
       "\n",
       "      Gender_Male  \n",
       "1244    -1.102198  \n",
       "7462     0.907278  \n",
       "8152    -1.102198  \n",
       "2803    -1.102198  \n",
       "4515     0.907278  "
      ]
     },
     "execution_count": 31,
     "metadata": {},
     "output_type": "execute_result"
    }
   ],
   "source": [
    "features_train.sample(5)"
   ]
  },
  {
   "cell_type": "markdown",
   "metadata": {},
   "source": [
    "## Исследование задачи"
   ]
  },
  {
   "cell_type": "code",
   "execution_count": 32,
   "metadata": {},
   "outputs": [
    {
     "name": "stdout",
     "output_type": "stream",
     "text": [
      "Логистическая регрессия\n",
      "Полнота: 0.20833333333333334 \n",
      "Точность: 0.6115107913669064\n",
      "Матрица ошибок:\n",
      " [[1538   54]\n",
      " [ 323   85]]\n",
      "Оригинальные значения в предсказании: [1 0]\n",
      "f1: 0.3107861060329068\n",
      "roс_auc: 0.787452889447236\n",
      "-----------------------------------------------------------\n"
     ]
    }
   ],
   "source": [
    "print('Логистическая регрессия')\n",
    "model = LogisticRegression(random_state=RANDOM_STATE, solver='liblinear')  # class_weight='balanced' не беру, потому что сначала считаем без балансировки\n",
    "model.fit(features_train, target_train)\n",
    "predicted_valid = model.predict(features_valid)\n",
    "\n",
    "print('Полнота:', recall_score(target_valid, predicted_valid) ,'\\nТочность:', precision_score(target_valid, predicted_valid))\n",
    "\n",
    "print('Матрица ошибок:\\n', confusion_matrix(target_valid, predicted_valid))\n",
    "print('Оригинальные значения в предсказании:', pd.Series(predicted_valid).unique())\n",
    "print(\"f1:\", f1_score(target_valid, predicted_valid))\n",
    "print('roс_auc:', roc_auc_score(target_valid, model.predict_proba(features_valid)[:, 1]))\n",
    "print('-----------------------------------------------------------')\n",
    "\n"
   ]
  },
  {
   "cell_type": "code",
   "execution_count": 33,
   "metadata": {},
   "outputs": [
    {
     "name": "stdout",
     "output_type": "stream",
     "text": [
      "Решающее дерево\n",
      "Полнота: 0.4803921568627451\n",
      "Точность: 0.6405228758169934\n",
      "Матрица ошибок:\n",
      " [[1482  110]\n",
      " [ 212  196]]\n",
      "Оригинальные значения в предсказании: [0 1]\n",
      "f1: 0.5490196078431373\n",
      "roс_auc: 0.7724822026800671\n",
      "-----------------------------------------------------------\n"
     ]
    }
   ],
   "source": [
    "print('Решающее дерево')\n",
    "model = DecisionTreeClassifier(max_depth=10, random_state=RANDOM_STATE)\n",
    "model.fit(features_train, target_train)\n",
    "predicted_valid = model.predict(features_valid)\n",
    "print('Полнота:', recall_score(target_valid, predicted_valid))\n",
    "print('Точность:', precision_score(target_valid, predicted_valid))\n",
    "\n",
    "print('Матрица ошибок:\\n', confusion_matrix(target_valid, predicted_valid))\n",
    "print('Оригинальные значения в предсказании:', pd.Series(predicted_valid).unique())\n",
    "print(\"f1:\",f1_score(target_valid, predicted_valid))\n",
    "print('roс_auc:', roc_auc_score(target_valid, model.predict_proba(features_valid)[:, 1]))\n",
    "print('-----------------------------------------------------------') \n"
   ]
  },
  {
   "cell_type": "code",
   "execution_count": 34,
   "metadata": {},
   "outputs": [
    {
     "name": "stdout",
     "output_type": "stream",
     "text": [
      "Случайный лес\n",
      "Полнота: 0.43137254901960786 \n",
      "Точность: 0.7892376681614349\n",
      "Матрица ошибок:\n",
      " [[1545   47]\n",
      " [ 232  176]]\n",
      "Оригинальные значения в предсказании: [0 1]\n",
      "f1: 0.5578446909667195\n",
      "roс_auc: 0.8624533513154005\n"
     ]
    }
   ],
   "source": [
    "print('Случайный лес') \n",
    "model=RandomForestClassifier(n_estimators=20, max_depth=5, random_state=RANDOM_STATE)\n",
    "model.fit(features_train, target_train)\n",
    "predicted_valid=model.predict(features_valid)\n",
    "print('Полнота:', recall_score(target_valid, predicted_valid) ,'\\nТочность:', precision_score(target_valid, predicted_valid))\n",
    "\n",
    "print('Матрица ошибок:\\n', confusion_matrix(target_valid, predicted_valid))\n",
    "print('Оригинальные значения в предсказании:', pd.Series(predicted_valid).unique()) \n",
    "print(\"f1:\",f1_score(target_valid, predicted_valid))\n",
    "print('roс_auc:', roc_auc_score(target_valid, model.predict_proba(features_valid)[:, 1]))\n",
    "\n"
   ]
  },
  {
   "cell_type": "markdown",
   "metadata": {},
   "source": [
    "Разнообразим поиски.\n",
    "В Дереве переберём значения глубины, а в Лесу - количество деревьев и глубину. Поищем лучшие варианты."
   ]
  },
  {
   "cell_type": "code",
   "execution_count": 35,
   "metadata": {},
   "outputs": [
    {
     "name": "stdout",
     "output_type": "stream",
     "text": [
      "Решающее дерево\n",
      "best_depth = 7 \n",
      "f1 = 0.5924855491329479\n",
      "roс_auc: 0.8230390617302197\n",
      "Полнота: 0.5024509803921569 \n",
      "Точность: 0.721830985915493\n",
      "Матрица ошибок:\n",
      " [[1513   79]\n",
      " [ 203  205]]\n",
      "Оригинальные значения в предсказании: [0 1]\n",
      "-----------------------------------------------------------\n"
     ]
    }
   ],
   "source": [
    "print('Решающее дерево')\n",
    "f1=-1\n",
    "best_depth = -1\n",
    "for depth in range(1, 100):\n",
    "    model = DecisionTreeClassifier(max_depth=depth, random_state=RANDOM_STATE)\n",
    "    model.fit(features_train, target_train)\n",
    "    predicted_valid = model.predict(features_valid)\n",
    "    if f1_score(target_valid, predicted_valid) > f1:\n",
    "        f1 = f1_score(target_valid, predicted_valid)\n",
    "        best_depth = depth\n",
    "print('best_depth =', best_depth, '\\nf1 =', f1)\n",
    "\n",
    "model = DecisionTreeClassifier(max_depth=best_depth, random_state=RANDOM_STATE)\n",
    "model.fit(features_train, target_train)\n",
    "predicted_valid=model.predict(features_valid)\n",
    "\n",
    "print('roс_auc:', roc_auc_score(target_valid, model.predict_proba(features_valid)[:, 1]))\n",
    "print('Полнота:', recall_score(target_valid, predicted_valid) ,'\\nТочность:', precision_score(target_valid, predicted_valid))\n",
    "\n",
    "print('Матрица ошибок:\\n', confusion_matrix(target_valid, predicted_valid))\n",
    "print('Оригинальные значения в предсказании:', pd.Series(predicted_valid).unique())\n",
    "\n",
    "print('-----------------------------------------------------------')\n",
    "\n"
   ]
  },
  {
   "cell_type": "code",
   "execution_count": 36,
   "metadata": {},
   "outputs": [
    {
     "name": "stdout",
     "output_type": "stream",
     "text": [
      "Случайный лес\n",
      "best_depth = 4 best_est = 1 \n",
      "f1 = 0.6036269430051813\n",
      "-----------------------------------------------------------\n",
      "roс_auc: 0.8142327753965908\n",
      "Полнота: 0.571078431372549 \n",
      "Точность: 0.6401098901098901\n",
      "Матрица ошибок:\n",
      " [[1461  131]\n",
      " [ 175  233]]\n",
      "Оригинальные значения в предсказании: [0 1]\n"
     ]
    }
   ],
   "source": [
    "print('Случайный лес')\n",
    "f1=-1\n",
    "\n",
    "best_depth = -1\n",
    "best_est = -1\n",
    "for est in range(1, 20):\n",
    "    for depth in range(1, 10):\n",
    "        model=RandomForestClassifier(n_estimators=est, max_depth=depth, random_state=RANDOM_STATE)\n",
    "        model.fit(features_train, target_train)\n",
    "        predicted_valid=model.predict(features_valid)\n",
    "        if f1_score(target_valid, predicted_valid) > f1:\n",
    "            f1 = f1_score(target_valid, predicted_valid)\n",
    "            best_depth = depth\n",
    "            best_est = est\n",
    "print('best_depth =', best_depth, 'best_est =', best_est, '\\nf1 =', f1)\n",
    "\n",
    "print('-----------------------------------------------------------')  \n",
    "\n",
    "\n",
    "model=RandomForestClassifier(n_estimators=best_est, max_depth=best_depth, random_state=RANDOM_STATE)\n",
    "model.fit(features_train, target_train)\n",
    "predicted_valid=model.predict(features_valid)\n",
    "\n",
    "print('roс_auc:', roc_auc_score(target_valid, model.predict_proba(features_valid)[:, 1]))\n",
    "print('Полнота:', recall_score(target_valid, predicted_valid) ,'\\nТочность:', precision_score(target_valid, predicted_valid))\n",
    "\n",
    "print('Матрица ошибок:\\n', confusion_matrix(target_valid, predicted_valid))\n",
    "print('Оригинальные значения в предсказании:', pd.Series(predicted_valid).unique()) \n",
    "\n"
   ]
  },
  {
   "cell_type": "markdown",
   "metadata": {},
   "source": [
    "Случайный лес с глубиной 4 и одним деревом лидирует по показателю f1."
   ]
  },
  {
   "cell_type": "markdown",
   "metadata": {},
   "source": [
    "## Борьба с дисбалансом"
   ]
  },
  {
   "cell_type": "markdown",
   "metadata": {},
   "source": [
    "Активируем параметр class_weight='balanced'."
   ]
  },
  {
   "cell_type": "code",
   "execution_count": 37,
   "metadata": {},
   "outputs": [
    {
     "name": "stdout",
     "output_type": "stream",
     "text": [
      "Логистическая регрессия\n",
      "Полнота: 0.7377450980392157 \n",
      "Точность: 0.41120218579234974\n",
      "Матрица ошибок:\n",
      " [[1161  431]\n",
      " [ 107  301]]\n",
      "Оригинальные значения в предсказании: [1 0]\n",
      "f1: 0.5280701754385966\n",
      "roс_auc: 0.7936526997733766\n",
      "-----------------------------------------------------------\n"
     ]
    }
   ],
   "source": [
    "print('Логистическая регрессия')\n",
    "model = LogisticRegression(random_state=RANDOM_STATE, solver='liblinear', class_weight='balanced')\n",
    "model.fit(features_train, target_train)\n",
    "predicted_valid = model.predict(features_valid)\n",
    "\n",
    "print('Полнота:', recall_score(target_valid, predicted_valid) ,'\\nТочность:', precision_score(target_valid, predicted_valid))\n",
    "\n",
    "print('Матрица ошибок:\\n', confusion_matrix(target_valid, predicted_valid))\n",
    "print('Оригинальные значения в предсказании:', pd.Series(predicted_valid).unique())\n",
    "print(\"f1:\", f1_score(target_valid, predicted_valid))\n",
    "print('roс_auc:', roc_auc_score(target_valid, model.predict_proba(features_valid)[:, 1]))\n",
    "print('-----------------------------------------------------------')\n"
   ]
  },
  {
   "cell_type": "markdown",
   "metadata": {},
   "source": [
    "Лучше несбалансированного варианта логистической регрессии.\n",
    "\n",
    "Нужно сбалансировать классы. Первое - применим метод балансировки через увеличение малочисленного класса в выборке."
   ]
  },
  {
   "cell_type": "code",
   "execution_count": 38,
   "metadata": {},
   "outputs": [
    {
     "name": "stdout",
     "output_type": "stream",
     "text": [
      "(9666, 11)\n",
      "(9666,)\n"
     ]
    }
   ],
   "source": [
    "def upsample(features, target, repeat):\n",
    "    features_zeros = features[target == 0]\n",
    "    features_ones = features[target == 1]\n",
    "    target_zeros = target[target == 0]\n",
    "    target_ones = target[target == 1]\n",
    "\n",
    "    features_upsampled = pd.concat([features_zeros] + [features_ones] * repeat)\n",
    "    target_upsampled = pd.concat([target_zeros] + [target_ones] * repeat)\n",
    "    \n",
    "    features_upsampled, target_upsampled = shuffle(\n",
    "        features_upsampled, target_upsampled, random_state=RANDOM_STATE)\n",
    "    \n",
    "    return features_upsampled, target_upsampled\n",
    "\n",
    "features_upsampled, target_upsampled = upsample(features_train, target_train, 4)\n",
    "\n",
    "\n",
    "print(features_upsampled.shape)\n",
    "print(target_upsampled.shape)"
   ]
  },
  {
   "cell_type": "code",
   "execution_count": 39,
   "metadata": {},
   "outputs": [
    {
     "name": "stdout",
     "output_type": "stream",
     "text": [
      "Нулевого класса в выборке target_upsampled - 49.43 %\n"
     ]
    }
   ],
   "source": [
    "print('Нулевого класса в выборке target_upsampled -', round(target_upsampled[target_upsampled==0].count()*100/target_upsampled.count(), 2),'%')"
   ]
  },
  {
   "cell_type": "code",
   "execution_count": 40,
   "metadata": {
    "scrolled": true
   },
   "outputs": [
    {
     "name": "stdout",
     "output_type": "stream",
     "text": [
      "Логистическая регрессия\n",
      "f1: 0.5246753246753246\n",
      "roс_auc: 0.7937558503300819\n",
      "Полнота: 0.7426470588235294 \n",
      "Точность: 0.40562248995983935\n",
      "Матрица ошибок:\n",
      " [[1148  444]\n",
      " [ 105  303]]\n",
      "Оригинальные значения в предсказании: [1 0]\n",
      "-----------------------------------------------------------\n"
     ]
    }
   ],
   "source": [
    "\n",
    "print('Логистическая регрессия')\n",
    "model = LogisticRegression(random_state=RANDOM_STATE, solver='liblinear')\n",
    "model.fit(features_upsampled, target_upsampled)\n",
    "predicted_valid = model.predict(features_valid)\n",
    "\n",
    "print(\"f1:\", f1_score(target_valid, predicted_valid))\n",
    "print('roс_auc:', roc_auc_score(target_valid, model.predict_proba(features_valid)[:, 1]))\n",
    "print('Полнота:', recall_score(target_valid, predicted_valid) ,'\\nТочность:', precision_score(target_valid, predicted_valid))\n",
    "\n",
    "print('Матрица ошибок:\\n', confusion_matrix(target_valid, predicted_valid))\n",
    "print('Оригинальные значения в предсказании:', pd.Series(predicted_valid).unique())\n",
    "\n",
    "\n",
    "print('-----------------------------------------------------------')"
   ]
  },
  {
   "cell_type": "code",
   "execution_count": 41,
   "metadata": {},
   "outputs": [
    {
     "name": "stdout",
     "output_type": "stream",
     "text": [
      "Решающее дерево\n",
      "best_depth = 6 \n",
      "f1 = 0.575925925925926\n",
      "roс_auc: 0.841197408611686\n",
      "Полнота: 0.4681372549019608 \n",
      "Точность: 0.7579365079365079\n",
      "Матрица ошибок:\n",
      " [[1531   61]\n",
      " [ 217  191]]\n",
      "Оригинальные значения в предсказании: [0 1]\n",
      "-----------------------------------------------------------\n"
     ]
    }
   ],
   "source": [
    "print('Решающее дерево')\n",
    "f1=-1\n",
    "best_depth = -1\n",
    "for depth in range(1, 100):\n",
    "    model = DecisionTreeClassifier(max_depth=depth, random_state=RANDOM_STATE)\n",
    "    model.fit(features_upsampled, target_upsampled)\n",
    "    predicted_valid = model.predict(features_valid)\n",
    "    if f1_score(target_valid, predicted_valid) > f1:\n",
    "        f1 = f1_score(target_valid, predicted_valid)\n",
    "        best_depth = depth\n",
    "print('best_depth =', best_depth, '\\nf1 =', f1)\n",
    "\n",
    "model = DecisionTreeClassifier(max_depth=best_depth, random_state=RANDOM_STATE)\n",
    "model.fit(features_train, target_train)\n",
    "predicted_valid=model.predict(features_valid)\n",
    "\n",
    "print('roс_auc:', roc_auc_score(target_valid, model.predict_proba(features_valid)[:, 1]))\n",
    "print('Полнота:', recall_score(target_valid, predicted_valid) ,'\\nТочность:', precision_score(target_valid, predicted_valid))\n",
    "\n",
    "print('Матрица ошибок:\\n', confusion_matrix(target_valid, predicted_valid))\n",
    "print('Оригинальные значения в предсказании:', pd.Series(predicted_valid).unique())\n",
    "\n",
    "print('-----------------------------------------------------------') "
   ]
  },
  {
   "cell_type": "code",
   "execution_count": 42,
   "metadata": {
    "scrolled": true
   },
   "outputs": [
    {
     "name": "stdout",
     "output_type": "stream",
     "text": [
      "Случайный лес\n",
      "best_depth = 8 best_est = 17 \n",
      "f1 = 0.6417445482866043\n",
      "-----------------------------------------------------------\n",
      "roс_auc: 0.8670104505369988\n",
      "Полнота: 0.7573529411764706 \n",
      "Точность: 0.5567567567567567\n",
      "Матрица ошибок:\n",
      " [[1346  246]\n",
      " [  99  309]]\n",
      "Оригинальные значения в предсказании: [1 0]\n"
     ]
    }
   ],
   "source": [
    "print('Случайный лес')\n",
    "f1=-1\n",
    "\n",
    "best_depth = -1\n",
    "best_est = -1\n",
    "for est in range(1, 20):\n",
    "    for depth in range(1, 10):\n",
    "        model=RandomForestClassifier(n_estimators=est, max_depth=depth, random_state=RANDOM_STATE)\n",
    "        model.fit(features_upsampled, target_upsampled)\n",
    "        predicted_valid=model.predict(features_valid)\n",
    "        if f1_score(target_valid, predicted_valid) > f1:\n",
    "            f1 = f1_score(target_valid, predicted_valid)\n",
    "            best_depth = depth\n",
    "            best_est = est\n",
    "print('best_depth =', best_depth, 'best_est =', best_est, '\\nf1 =', f1)\n",
    "\n",
    "print('-----------------------------------------------------------')  \n",
    "\n",
    "\n",
    "model=RandomForestClassifier(n_estimators=best_est, max_depth=best_depth, random_state=RANDOM_STATE)\n",
    "model.fit(features_upsampled, target_upsampled)\n",
    "predicted_valid=model.predict(features_valid)\n",
    "print('roс_auc:', roc_auc_score(target_valid, model.predict_proba(features_valid)[:, 1]))\n",
    "print('Полнота:', recall_score(target_valid, predicted_valid) ,'\\nТочность:', precision_score(target_valid, predicted_valid))\n",
    "\n",
    "print('Матрица ошибок:\\n', confusion_matrix(target_valid, predicted_valid))\n",
    "print('Оригинальные значения в предсказании:', pd.Series(predicted_valid).unique()) \n"
   ]
  },
  {
   "cell_type": "markdown",
   "metadata": {},
   "source": [
    "Успех. \n",
    "\n",
    "Воспользуемся другим методом. Уберём неважные."
   ]
  },
  {
   "cell_type": "code",
   "execution_count": 43,
   "metadata": {
    "scrolled": true
   },
   "outputs": [
    {
     "name": "stdout",
     "output_type": "stream",
     "text": [
      "(2464, 11)\n",
      "(2464,)\n"
     ]
    }
   ],
   "source": [
    "def downsample(features, target, fraction):\n",
    "    features_zeros = features[target == 0]\n",
    "    features_ones = features[target == 1]\n",
    "    target_zeros = target[target == 0]\n",
    "    target_ones = target[target == 1]\n",
    "\n",
    "    features_downsampled = pd.concat([features_zeros.sample(frac=fraction, random_state=12345)] + [features_ones])\n",
    "    target_downsampled = pd.concat([target_zeros.sample(frac=fraction, random_state=12345)] + [target_ones])\n",
    "\n",
    "    features_downsampled, target_downsampled = shuffle(features_downsampled, target_downsampled, random_state=12345)\n",
    "    \n",
    "    return features_downsampled, target_downsampled\n",
    "\n",
    "features_downsampled, target_downsampled = downsample(features_train, target_train, 0.26)\n",
    "\n",
    "print(features_downsampled.shape)\n",
    "print(target_downsampled.shape)"
   ]
  },
  {
   "cell_type": "code",
   "execution_count": 44,
   "metadata": {},
   "outputs": [
    {
     "name": "stdout",
     "output_type": "stream",
     "text": [
      "Нулевого класса в выборке target_downsampled - 50.41 %\n"
     ]
    }
   ],
   "source": [
    "print('Нулевого класса в выборке target_downsampled -', round(target_downsampled[target_downsampled==0].count()*100/target_downsampled.count(), 2),'%')"
   ]
  },
  {
   "cell_type": "code",
   "execution_count": 45,
   "metadata": {
    "scrolled": true
   },
   "outputs": [
    {
     "name": "stdout",
     "output_type": "stream",
     "text": [
      "Логистическая регрессия\n",
      "f1: 0.5283347863993025\n",
      "roс_auc: 0.7925626909055079\n",
      "Полнота: 0.7426470588235294 \n",
      "Точность: 0.4100135317997294\n",
      "Матрица ошибок:\n",
      " [[1156  436]\n",
      " [ 105  303]]\n",
      "Оригинальные значения в предсказании: [1 0]\n",
      "-----------------------------------------------------------\n"
     ]
    }
   ],
   "source": [
    "\n",
    "print('Логистическая регрессия')\n",
    "model = LogisticRegression(random_state=RANDOM_STATE, solver='liblinear', class_weight='balanced')\n",
    "model.fit(features_downsampled, target_downsampled)\n",
    "predicted_valid = model.predict(features_valid)\n",
    "\n",
    "print(\"f1:\", f1_score(target_valid, predicted_valid))\n",
    "print('roс_auc:', roc_auc_score(target_valid, model.predict_proba(features_valid)[:, 1]))\n",
    "print('Полнота:', recall_score(target_valid, predicted_valid) ,'\\nТочность:', precision_score(target_valid, predicted_valid))\n",
    "\n",
    "print('Матрица ошибок:\\n', confusion_matrix(target_valid, predicted_valid))\n",
    "print('Оригинальные значения в предсказании:', pd.Series(predicted_valid).unique())\n",
    "\n",
    "\n",
    "print('-----------------------------------------------------------')\n",
    "\n"
   ]
  },
  {
   "cell_type": "code",
   "execution_count": 46,
   "metadata": {},
   "outputs": [
    {
     "name": "stdout",
     "output_type": "stream",
     "text": [
      "Решающее дерево\n",
      "best_depth = 5 \n",
      "f1 = 0.5900681596884129\n",
      "roс_auc: 0.8440425165040889\n",
      "Полнота: 0.7426470588235294 \n",
      "Точность: 0.4894991922455573\n",
      "Матрица ошибок:\n",
      " [[1276  316]\n",
      " [ 105  303]]\n",
      "Оригинальные значения в предсказании: [1 0]\n",
      "-----------------------------------------------------------\n"
     ]
    }
   ],
   "source": [
    "print('Решающее дерево')\n",
    "f1=-1\n",
    "best_depth = -1\n",
    "for depth in range(1, 100):\n",
    "    model = DecisionTreeClassifier(max_depth=depth, random_state=RANDOM_STATE)\n",
    "    model.fit(features_downsampled, target_downsampled)\n",
    "    predicted_valid = model.predict(features_valid)\n",
    "    if f1_score(target_valid, predicted_valid) > f1:\n",
    "        f1 = f1_score(target_valid, predicted_valid)\n",
    "        best_depth = depth\n",
    "print('best_depth =', best_depth, '\\nf1 =', f1)\n",
    "\n",
    "model = DecisionTreeClassifier(max_depth=5, random_state=12345)\n",
    "model.fit(features_downsampled, target_downsampled)\n",
    "predicted_valid=model.predict(features_valid)\n",
    "\n",
    "print('roс_auc:', roc_auc_score(target_valid, model.predict_proba(features_valid)[:, 1]))\n",
    "print('Полнота:', recall_score(target_valid, predicted_valid) ,'\\nТочность:', precision_score(target_valid, predicted_valid))\n",
    "\n",
    "print('Матрица ошибок:\\n', confusion_matrix(target_valid, predicted_valid))\n",
    "print('Оригинальные значения в предсказании:', pd.Series(predicted_valid).unique())\n",
    "print('-----------------------------------------------------------') "
   ]
  },
  {
   "cell_type": "code",
   "execution_count": 47,
   "metadata": {
    "scrolled": true
   },
   "outputs": [
    {
     "name": "stdout",
     "output_type": "stream",
     "text": [
      "Случайный лес\n",
      "best_depth = 6 best_est = 8 \n",
      "f1 = 0.6269230769230769\n",
      "-----------------------------------------------------------\n",
      "roс_auc: 0.8641830475908956\n",
      "Полнота: 0.7990196078431373 \n",
      "Точность: 0.5158227848101266\n",
      "Матрица ошибок:\n",
      " [[1286  306]\n",
      " [  82  326]]\n",
      "Оригинальные значения в предсказании: [1 0]\n"
     ]
    }
   ],
   "source": [
    "print('Случайный лес')\n",
    "f1=-1\n",
    "\n",
    "best_depth = -1\n",
    "best_est = -1\n",
    "for est in range(1, 20):\n",
    "    for depth in range(1, 10):\n",
    "        model=RandomForestClassifier(n_estimators=est, max_depth=depth, random_state=RANDOM_STATE)\n",
    "        model.fit(features_downsampled, target_downsampled)\n",
    "        predicted_valid=model.predict(features_valid)\n",
    "        if f1_score(target_valid, predicted_valid) > f1:\n",
    "            f1 = f1_score(target_valid, predicted_valid)\n",
    "            best_depth = depth\n",
    "            best_est = est\n",
    "print('best_depth =', best_depth, 'best_est =', best_est, '\\nf1 =', f1)\n",
    "\n",
    "print('-----------------------------------------------------------')  \n",
    "\n",
    "\n",
    "model=RandomForestClassifier(n_estimators=best_est, max_depth=best_depth, random_state=RANDOM_STATE)\n",
    "model.fit(features_downsampled, target_downsampled)\n",
    "predicted_valid=model.predict(features_valid)\n",
    "print('roс_auc:', roc_auc_score(target_valid, model.predict_proba(features_valid)[:, 1]))\n",
    "print('Полнота:', recall_score(target_valid, predicted_valid) ,'\\nТочность:', precision_score(target_valid, predicted_valid))\n",
    "\n",
    "print('Матрица ошибок:\\n', confusion_matrix(target_valid, predicted_valid))\n",
    "print('Оригинальные значения в предсказании:', pd.Series(predicted_valid).unique()) \n"
   ]
  },
  {
   "cell_type": "markdown",
   "metadata": {},
   "source": [
    "Предыдущий метод балансировки дал лучший результат."
   ]
  },
  {
   "cell_type": "markdown",
   "metadata": {},
   "source": [
    "Выбираем модель случайного леса с глубиной 8 и количеством деревьев 17, метод балансировки - upsample.\n",
    "\n"
   ]
  },
  {
   "cell_type": "markdown",
   "metadata": {},
   "source": [
    "## Тестирование модели"
   ]
  },
  {
   "cell_type": "code",
   "execution_count": 48,
   "metadata": {
    "scrolled": false
   },
   "outputs": [
    {
     "name": "stdout",
     "output_type": "stream",
     "text": [
      "Полнота: 0.6953316953316954 \n",
      "Точность: 0.522140221402214\n",
      "Матрица ошибок:\n",
      " [[1334  259]\n",
      " [ 124  283]]\n",
      "Оригинальные значения в предсказании: [1 0]\n",
      "f1: 0.5964172813487882\n",
      "roс_auc: 0.8494411206275612\n",
      "-----------------------------------------------------------\n"
     ]
    }
   ],
   "source": [
    "test_model = RandomForestClassifier(n_estimators=17, max_depth=8, random_state=RANDOM_STATE)\n",
    "\n",
    "test_model.fit(features_upsampled, target_upsampled)\n",
    "\n",
    "predicted = test_model.predict(features_test)\n",
    "\n",
    "print('Полнота:', recall_score(target_test, predicted) ,'\\nТочность:', precision_score(target_test, predicted))\n",
    "print('Матрица ошибок:\\n', confusion_matrix(target_test, predicted))\n",
    "print('Оригинальные значения в предсказании:', pd.Series(predicted).unique())\n",
    "print(\"f1:\", f1_score(target_test, predicted))\n",
    "print('roс_auc:', roc_auc_score(target_test, test_model.predict_proba(features_test)[:, 1]))\n",
    "print('-----------------------------------------------------------')"
   ]
  },
  {
   "cell_type": "markdown",
   "metadata": {},
   "source": [
    "Результат выше ожидаемого."
   ]
  },
  {
   "cell_type": "markdown",
   "metadata": {},
   "source": [
    "## Чек-лист"
   ]
  },
  {
   "cell_type": "markdown",
   "metadata": {},
   "source": [
    "Поставьте 'x' в выполненных пунктах. Далее нажмите Shift+Enter."
   ]
  },
  {
   "cell_type": "markdown",
   "metadata": {},
   "source": [
    "- [x]  Jupyter Notebook открыт\n",
    "- [x]  Весь код выполняется без ошибок\n",
    "- [x]  Ячейки с кодом расположены в порядке исполнения\n",
    "- [x]  Выполнен шаг 1: данные подготовлены\n",
    "- [x]  Выполнен шаг 2: задача исследована\n",
    "    - [x]  Исследован баланс классов\n",
    "    - [x]  Изучены модели без учёта дисбаланса\n",
    "    - [x]  Написаны выводы по результатам исследования\n",
    "- [x]  Выполнен шаг 3: учтён дисбаланс\n",
    "    - [x]  Применено несколько способов борьбы с дисбалансом\n",
    "    - [x]  Написаны выводы по результатам исследования\n",
    "- [x]  Выполнен шаг 4: проведено тестирование\n",
    "- [x]  Удалось достичь *F1*-меры не менее 0.59\n",
    "- [x]  Исследована метрика *AUC-ROC*"
   ]
  },
  {
   "cell_type": "code",
   "execution_count": null,
   "metadata": {},
   "outputs": [],
   "source": []
  }
 ],
 "metadata": {
  "ExecuteTimeLog": [
   {
    "duration": 2239,
    "start_time": "2022-07-30T15:16:33.884Z"
   },
   {
    "duration": 38,
    "start_time": "2022-07-30T15:17:11.919Z"
   },
   {
    "duration": 13,
    "start_time": "2022-07-30T15:17:33.424Z"
   },
   {
    "duration": 22,
    "start_time": "2022-07-30T15:19:06.140Z"
   },
   {
    "duration": 16,
    "start_time": "2022-07-30T16:16:38.095Z"
   },
   {
    "duration": 19,
    "start_time": "2022-07-30T16:16:59.071Z"
   },
   {
    "duration": 11,
    "start_time": "2022-07-30T16:23:39.985Z"
   },
   {
    "duration": 97,
    "start_time": "2022-07-30T16:25:49.218Z"
   },
   {
    "duration": 15,
    "start_time": "2022-07-30T16:25:58.331Z"
   },
   {
    "duration": 4,
    "start_time": "2022-07-30T16:26:21.037Z"
   },
   {
    "duration": 4,
    "start_time": "2022-07-30T16:26:39.959Z"
   },
   {
    "duration": 5,
    "start_time": "2022-07-30T16:35:57.606Z"
   },
   {
    "duration": 5,
    "start_time": "2022-07-30T16:36:17.374Z"
   },
   {
    "duration": 4,
    "start_time": "2022-07-30T16:36:41.199Z"
   },
   {
    "duration": 4,
    "start_time": "2022-07-30T16:37:40.931Z"
   },
   {
    "duration": 47,
    "start_time": "2022-08-01T12:10:53.681Z"
   },
   {
    "duration": 1140,
    "start_time": "2022-08-01T12:11:01.289Z"
   },
   {
    "duration": 13,
    "start_time": "2022-08-01T12:11:02.431Z"
   },
   {
    "duration": 20,
    "start_time": "2022-08-01T12:11:04.259Z"
   },
   {
    "duration": 4,
    "start_time": "2022-08-01T12:11:06.386Z"
   },
   {
    "duration": 5,
    "start_time": "2022-08-01T12:11:07.047Z"
   },
   {
    "duration": 4,
    "start_time": "2022-08-01T12:11:07.648Z"
   },
   {
    "duration": 5,
    "start_time": "2022-08-01T12:11:08.235Z"
   },
   {
    "duration": 6,
    "start_time": "2022-08-01T12:12:22.343Z"
   },
   {
    "duration": 62,
    "start_time": "2022-08-01T12:12:32.642Z"
   },
   {
    "duration": 5,
    "start_time": "2022-08-01T12:12:41.197Z"
   },
   {
    "duration": 5,
    "start_time": "2022-08-01T12:12:46.036Z"
   },
   {
    "duration": 4,
    "start_time": "2022-08-01T12:12:49.665Z"
   },
   {
    "duration": 5,
    "start_time": "2022-08-01T12:13:17.152Z"
   },
   {
    "duration": 5,
    "start_time": "2022-08-01T12:13:22.606Z"
   },
   {
    "duration": 5,
    "start_time": "2022-08-01T12:13:41.102Z"
   },
   {
    "duration": 4,
    "start_time": "2022-08-01T12:14:06.639Z"
   },
   {
    "duration": 5,
    "start_time": "2022-08-01T12:33:14.371Z"
   },
   {
    "duration": 6,
    "start_time": "2022-08-01T14:32:20.638Z"
   },
   {
    "duration": 4,
    "start_time": "2022-08-01T14:32:59.752Z"
   },
   {
    "duration": 5,
    "start_time": "2022-08-01T14:33:10.336Z"
   },
   {
    "duration": 485,
    "start_time": "2022-08-01T14:51:54.194Z"
   },
   {
    "duration": 38,
    "start_time": "2022-08-01T14:52:33.563Z"
   },
   {
    "duration": 37,
    "start_time": "2022-08-01T14:52:51.090Z"
   },
   {
    "duration": 1054,
    "start_time": "2022-08-01T14:52:56.073Z"
   },
   {
    "duration": 15,
    "start_time": "2022-08-01T16:20:24.532Z"
   },
   {
    "duration": 6,
    "start_time": "2022-08-01T16:20:49.824Z"
   },
   {
    "duration": 15,
    "start_time": "2022-08-01T16:21:18.801Z"
   },
   {
    "duration": 8,
    "start_time": "2022-08-01T16:21:37.657Z"
   },
   {
    "duration": 4,
    "start_time": "2022-08-01T16:26:45.889Z"
   },
   {
    "duration": 14,
    "start_time": "2022-08-01T16:27:03.162Z"
   },
   {
    "duration": 194,
    "start_time": "2022-08-01T16:27:19.434Z"
   },
   {
    "duration": 12,
    "start_time": "2022-08-01T16:27:21.683Z"
   },
   {
    "duration": 96,
    "start_time": "2022-08-01T16:27:41.689Z"
   },
   {
    "duration": 13,
    "start_time": "2022-08-01T16:27:42.983Z"
   },
   {
    "duration": 5,
    "start_time": "2022-08-01T16:27:51.684Z"
   },
   {
    "duration": 13,
    "start_time": "2022-08-01T16:28:02.860Z"
   },
   {
    "duration": 907,
    "start_time": "2022-08-01T16:28:48.756Z"
   },
   {
    "duration": 0,
    "start_time": "2022-08-01T16:28:49.665Z"
   },
   {
    "duration": 14,
    "start_time": "2022-08-01T16:30:39.834Z"
   },
   {
    "duration": 8,
    "start_time": "2022-08-01T16:30:53.536Z"
   },
   {
    "duration": 188,
    "start_time": "2022-08-01T16:31:03.100Z"
   },
   {
    "duration": 35,
    "start_time": "2022-08-01T16:31:04.611Z"
   },
   {
    "duration": 54,
    "start_time": "2022-08-01T16:31:29.915Z"
   },
   {
    "duration": 34,
    "start_time": "2022-08-01T16:31:31.089Z"
   },
   {
    "duration": 1368,
    "start_time": "2022-08-01T16:31:59.955Z"
   },
   {
    "duration": 12,
    "start_time": "2022-08-01T16:32:01.325Z"
   },
   {
    "duration": 32,
    "start_time": "2022-08-01T16:32:01.339Z"
   },
   {
    "duration": 8,
    "start_time": "2022-08-01T16:32:01.373Z"
   },
   {
    "duration": 27,
    "start_time": "2022-08-01T16:32:01.382Z"
   },
   {
    "duration": 46,
    "start_time": "2022-08-01T16:32:01.410Z"
   },
   {
    "duration": 30,
    "start_time": "2022-08-01T16:32:01.457Z"
   },
   {
    "duration": 46,
    "start_time": "2022-08-01T16:32:01.489Z"
   },
   {
    "duration": 19,
    "start_time": "2022-08-01T16:32:01.537Z"
   },
   {
    "duration": 9,
    "start_time": "2022-08-01T16:32:01.558Z"
   },
   {
    "duration": 11,
    "start_time": "2022-08-01T16:32:01.569Z"
   },
   {
    "duration": 1030,
    "start_time": "2022-08-01T16:32:01.581Z"
   },
   {
    "duration": 9,
    "start_time": "2022-08-01T16:32:02.613Z"
   },
   {
    "duration": 4,
    "start_time": "2022-08-01T16:32:02.623Z"
   },
   {
    "duration": 119,
    "start_time": "2022-08-01T16:37:21.951Z"
   },
   {
    "duration": 10,
    "start_time": "2022-08-01T16:37:30.636Z"
   },
   {
    "duration": 12,
    "start_time": "2022-08-01T16:37:42.612Z"
   },
   {
    "duration": 6,
    "start_time": "2022-08-01T16:37:54.359Z"
   },
   {
    "duration": 12,
    "start_time": "2022-08-01T16:38:32.947Z"
   },
   {
    "duration": 454,
    "start_time": "2022-08-01T16:38:56.589Z"
   },
   {
    "duration": 6,
    "start_time": "2022-08-01T16:39:10.108Z"
   },
   {
    "duration": 6,
    "start_time": "2022-08-01T16:39:46.059Z"
   },
   {
    "duration": 50,
    "start_time": "2022-08-02T07:42:06.676Z"
   },
   {
    "duration": 1739,
    "start_time": "2022-08-02T07:42:20.171Z"
   },
   {
    "duration": 13,
    "start_time": "2022-08-02T07:42:21.912Z"
   },
   {
    "duration": 20,
    "start_time": "2022-08-02T07:42:21.927Z"
   },
   {
    "duration": 5,
    "start_time": "2022-08-02T07:42:21.950Z"
   },
   {
    "duration": 29,
    "start_time": "2022-08-02T07:42:21.956Z"
   },
   {
    "duration": 15,
    "start_time": "2022-08-02T07:42:21.987Z"
   },
   {
    "duration": 21,
    "start_time": "2022-08-02T07:42:22.004Z"
   },
   {
    "duration": 13,
    "start_time": "2022-08-02T07:42:22.027Z"
   },
   {
    "duration": 4,
    "start_time": "2022-08-02T07:42:22.041Z"
   },
   {
    "duration": 32,
    "start_time": "2022-08-02T07:42:22.047Z"
   },
   {
    "duration": 13,
    "start_time": "2022-08-02T07:42:22.080Z"
   },
   {
    "duration": 1177,
    "start_time": "2022-08-02T07:42:22.095Z"
   },
   {
    "duration": 4,
    "start_time": "2022-08-02T07:42:23.276Z"
   },
   {
    "duration": 11,
    "start_time": "2022-08-02T07:42:23.282Z"
   },
   {
    "duration": 9,
    "start_time": "2022-08-02T07:42:23.295Z"
   },
   {
    "duration": 7,
    "start_time": "2022-08-02T07:42:23.306Z"
   },
   {
    "duration": 1003,
    "start_time": "2022-08-02T07:42:23.314Z"
   },
   {
    "duration": 5,
    "start_time": "2022-08-02T07:43:10.280Z"
   },
   {
    "duration": 14,
    "start_time": "2022-08-02T07:43:25.758Z"
   },
   {
    "duration": 87,
    "start_time": "2022-08-02T07:44:06.710Z"
   },
   {
    "duration": 36,
    "start_time": "2022-08-02T07:44:26.207Z"
   },
   {
    "duration": 830,
    "start_time": "2022-08-02T07:44:36.007Z"
   },
   {
    "duration": 10,
    "start_time": "2022-08-02T07:44:45.842Z"
   },
   {
    "duration": 8,
    "start_time": "2022-08-02T07:45:19.840Z"
   },
   {
    "duration": 6,
    "start_time": "2022-08-02T07:45:33.622Z"
   },
   {
    "duration": 12,
    "start_time": "2022-08-02T07:47:38.287Z"
   },
   {
    "duration": 8,
    "start_time": "2022-08-02T07:47:46.029Z"
   },
   {
    "duration": 6,
    "start_time": "2022-08-02T07:47:54.745Z"
   },
   {
    "duration": 7,
    "start_time": "2022-08-02T07:50:51.536Z"
   },
   {
    "duration": 6,
    "start_time": "2022-08-02T07:53:04.837Z"
   },
   {
    "duration": 7,
    "start_time": "2022-08-02T07:53:45.561Z"
   },
   {
    "duration": 6,
    "start_time": "2022-08-02T07:54:18.242Z"
   },
   {
    "duration": 5,
    "start_time": "2022-08-02T07:54:59.529Z"
   },
   {
    "duration": 1515,
    "start_time": "2022-08-02T07:59:44.987Z"
   },
   {
    "duration": 15,
    "start_time": "2022-08-02T07:59:46.504Z"
   },
   {
    "duration": 20,
    "start_time": "2022-08-02T07:59:46.520Z"
   },
   {
    "duration": 4,
    "start_time": "2022-08-02T07:59:46.542Z"
   },
   {
    "duration": 10,
    "start_time": "2022-08-02T07:59:46.548Z"
   },
   {
    "duration": 21,
    "start_time": "2022-08-02T07:59:46.560Z"
   },
   {
    "duration": 39,
    "start_time": "2022-08-02T07:59:46.582Z"
   },
   {
    "duration": 18,
    "start_time": "2022-08-02T07:59:46.624Z"
   },
   {
    "duration": 5,
    "start_time": "2022-08-02T07:59:46.644Z"
   },
   {
    "duration": 15,
    "start_time": "2022-08-02T07:59:46.653Z"
   },
   {
    "duration": 9,
    "start_time": "2022-08-02T07:59:46.670Z"
   },
   {
    "duration": 1069,
    "start_time": "2022-08-02T07:59:46.681Z"
   },
   {
    "duration": 5,
    "start_time": "2022-08-02T07:59:47.753Z"
   },
   {
    "duration": 10,
    "start_time": "2022-08-02T07:59:47.760Z"
   },
   {
    "duration": 10,
    "start_time": "2022-08-02T07:59:47.771Z"
   },
   {
    "duration": 4,
    "start_time": "2022-08-02T07:59:47.782Z"
   },
   {
    "duration": 21,
    "start_time": "2022-08-02T07:59:47.787Z"
   },
   {
    "duration": 7,
    "start_time": "2022-08-02T07:59:47.809Z"
   },
   {
    "duration": 40,
    "start_time": "2022-08-02T08:05:07.927Z"
   },
   {
    "duration": 44,
    "start_time": "2022-08-02T08:08:00.880Z"
   },
   {
    "duration": 97,
    "start_time": "2022-08-02T08:10:15.183Z"
   },
   {
    "duration": 118,
    "start_time": "2022-08-02T08:10:25.261Z"
   },
   {
    "duration": 56,
    "start_time": "2022-08-02T08:11:05.861Z"
   },
   {
    "duration": 27,
    "start_time": "2022-08-02T08:11:12.041Z"
   },
   {
    "duration": 14,
    "start_time": "2022-08-02T08:13:54.046Z"
   },
   {
    "duration": 44,
    "start_time": "2022-08-02T08:15:10.196Z"
   },
   {
    "duration": 22,
    "start_time": "2022-08-02T08:15:17.803Z"
   },
   {
    "duration": 1533,
    "start_time": "2022-08-02T08:16:51.681Z"
   },
   {
    "duration": 992,
    "start_time": "2022-08-02T08:17:24.742Z"
   },
   {
    "duration": 11,
    "start_time": "2022-08-02T08:28:16.672Z"
   },
   {
    "duration": 4,
    "start_time": "2022-08-02T08:28:19.141Z"
   },
   {
    "duration": 7,
    "start_time": "2022-08-02T08:28:20.496Z"
   },
   {
    "duration": 7,
    "start_time": "2022-08-02T08:28:22.741Z"
   },
   {
    "duration": 32,
    "start_time": "2022-08-02T08:28:26.282Z"
   },
   {
    "duration": 7,
    "start_time": "2022-08-02T08:33:54.999Z"
   },
   {
    "duration": 5,
    "start_time": "2022-08-02T08:33:58.373Z"
   },
   {
    "duration": 6,
    "start_time": "2022-08-02T08:34:06.683Z"
   },
   {
    "duration": 4,
    "start_time": "2022-08-02T08:34:30.198Z"
   },
   {
    "duration": 6,
    "start_time": "2022-08-02T08:34:41.927Z"
   },
   {
    "duration": 1447,
    "start_time": "2022-08-02T08:35:13.556Z"
   },
   {
    "duration": 13,
    "start_time": "2022-08-02T08:35:15.006Z"
   },
   {
    "duration": 24,
    "start_time": "2022-08-02T08:35:15.021Z"
   },
   {
    "duration": 4,
    "start_time": "2022-08-02T08:35:15.048Z"
   },
   {
    "duration": 8,
    "start_time": "2022-08-02T08:35:15.054Z"
   },
   {
    "duration": 32,
    "start_time": "2022-08-02T08:35:15.064Z"
   },
   {
    "duration": 21,
    "start_time": "2022-08-02T08:35:15.100Z"
   },
   {
    "duration": 14,
    "start_time": "2022-08-02T08:35:15.122Z"
   },
   {
    "duration": 4,
    "start_time": "2022-08-02T08:35:15.138Z"
   },
   {
    "duration": 6,
    "start_time": "2022-08-02T08:35:15.144Z"
   },
   {
    "duration": 8,
    "start_time": "2022-08-02T08:35:15.151Z"
   },
   {
    "duration": 1152,
    "start_time": "2022-08-02T08:35:15.161Z"
   },
   {
    "duration": 6,
    "start_time": "2022-08-02T08:35:16.315Z"
   },
   {
    "duration": 25,
    "start_time": "2022-08-02T08:35:16.323Z"
   },
   {
    "duration": 17,
    "start_time": "2022-08-02T08:35:16.349Z"
   },
   {
    "duration": 5,
    "start_time": "2022-08-02T08:35:16.368Z"
   },
   {
    "duration": 23,
    "start_time": "2022-08-02T08:35:16.374Z"
   },
   {
    "duration": 30,
    "start_time": "2022-08-02T08:35:16.398Z"
   },
   {
    "duration": 149,
    "start_time": "2022-08-02T08:35:16.431Z"
   },
   {
    "duration": 41,
    "start_time": "2022-08-02T08:36:19.125Z"
   },
   {
    "duration": 23,
    "start_time": "2022-08-02T08:37:59.077Z"
   },
   {
    "duration": 4,
    "start_time": "2022-08-02T08:44:59.838Z"
   },
   {
    "duration": 6,
    "start_time": "2022-08-02T08:45:23.223Z"
   },
   {
    "duration": 1490,
    "start_time": "2022-08-02T08:45:39.128Z"
   },
   {
    "duration": 13,
    "start_time": "2022-08-02T08:45:40.620Z"
   },
   {
    "duration": 19,
    "start_time": "2022-08-02T08:45:40.635Z"
   },
   {
    "duration": 4,
    "start_time": "2022-08-02T08:45:40.657Z"
   },
   {
    "duration": 6,
    "start_time": "2022-08-02T08:45:40.663Z"
   },
   {
    "duration": 28,
    "start_time": "2022-08-02T08:45:40.688Z"
   },
   {
    "duration": 16,
    "start_time": "2022-08-02T08:45:40.717Z"
   },
   {
    "duration": 15,
    "start_time": "2022-08-02T08:45:40.734Z"
   },
   {
    "duration": 9,
    "start_time": "2022-08-02T08:45:40.750Z"
   },
   {
    "duration": 8,
    "start_time": "2022-08-02T08:45:40.763Z"
   },
   {
    "duration": 7,
    "start_time": "2022-08-02T08:45:40.772Z"
   },
   {
    "duration": 1080,
    "start_time": "2022-08-02T08:45:40.786Z"
   },
   {
    "duration": 6,
    "start_time": "2022-08-02T08:45:41.868Z"
   },
   {
    "duration": 8,
    "start_time": "2022-08-02T08:45:41.875Z"
   },
   {
    "duration": 59,
    "start_time": "2022-08-02T08:45:41.884Z"
   },
   {
    "duration": 12,
    "start_time": "2022-08-02T08:45:41.945Z"
   },
   {
    "duration": 4,
    "start_time": "2022-08-02T08:45:41.959Z"
   },
   {
    "duration": 11,
    "start_time": "2022-08-02T08:45:41.964Z"
   },
   {
    "duration": 7,
    "start_time": "2022-08-02T08:45:41.976Z"
   },
   {
    "duration": 376,
    "start_time": "2022-08-02T08:45:41.984Z"
   },
   {
    "duration": 614,
    "start_time": "2022-08-02T08:46:36.881Z"
   },
   {
    "duration": 500,
    "start_time": "2022-08-02T08:47:53.425Z"
   },
   {
    "duration": 45,
    "start_time": "2022-08-02T08:53:52.766Z"
   },
   {
    "duration": 56,
    "start_time": "2022-08-02T08:54:49.266Z"
   },
   {
    "duration": 502,
    "start_time": "2022-08-02T08:54:58.207Z"
   },
   {
    "duration": 48,
    "start_time": "2022-08-02T08:56:05.353Z"
   },
   {
    "duration": 521,
    "start_time": "2022-08-02T08:57:05.728Z"
   },
   {
    "duration": 112,
    "start_time": "2022-08-02T08:59:51.879Z"
   },
   {
    "duration": 580,
    "start_time": "2022-08-02T09:02:49.483Z"
   },
   {
    "duration": 124,
    "start_time": "2022-08-02T09:03:23.175Z"
   },
   {
    "duration": 516,
    "start_time": "2022-08-02T09:07:16.612Z"
   },
   {
    "duration": 514,
    "start_time": "2022-08-02T09:07:33.911Z"
   },
   {
    "duration": 519,
    "start_time": "2022-08-02T09:11:58.956Z"
   },
   {
    "duration": 235,
    "start_time": "2022-08-02T09:12:18.414Z"
   },
   {
    "duration": 596,
    "start_time": "2022-08-02T09:12:43.376Z"
   },
   {
    "duration": 536,
    "start_time": "2022-08-02T09:14:18.414Z"
   },
   {
    "duration": 14,
    "start_time": "2022-08-02T09:15:29.885Z"
   },
   {
    "duration": 66,
    "start_time": "2022-08-02T09:16:38.736Z"
   },
   {
    "duration": 619,
    "start_time": "2022-08-02T09:17:05.177Z"
   },
   {
    "duration": 536,
    "start_time": "2022-08-02T09:18:23.634Z"
   },
   {
    "duration": 80,
    "start_time": "2022-08-02T09:18:59.745Z"
   },
   {
    "duration": 135,
    "start_time": "2022-08-02T09:19:17.760Z"
   },
   {
    "duration": 194,
    "start_time": "2022-08-02T09:20:13.539Z"
   },
   {
    "duration": 1758,
    "start_time": "2022-08-02T09:22:23.959Z"
   },
   {
    "duration": 1720,
    "start_time": "2022-08-02T09:23:30.016Z"
   },
   {
    "duration": 6,
    "start_time": "2022-08-02T09:24:44.027Z"
   },
   {
    "duration": 13,
    "start_time": "2022-08-02T09:25:04.242Z"
   },
   {
    "duration": 1458,
    "start_time": "2022-08-02T09:25:12.311Z"
   },
   {
    "duration": 14,
    "start_time": "2022-08-02T09:25:13.771Z"
   },
   {
    "duration": 52,
    "start_time": "2022-08-02T09:25:13.790Z"
   },
   {
    "duration": 4,
    "start_time": "2022-08-02T09:25:13.844Z"
   },
   {
    "duration": 20,
    "start_time": "2022-08-02T09:25:13.850Z"
   },
   {
    "duration": 37,
    "start_time": "2022-08-02T09:25:13.871Z"
   },
   {
    "duration": 41,
    "start_time": "2022-08-02T09:25:13.915Z"
   },
   {
    "duration": 16,
    "start_time": "2022-08-02T09:25:13.957Z"
   },
   {
    "duration": 8,
    "start_time": "2022-08-02T09:25:13.974Z"
   },
   {
    "duration": 41,
    "start_time": "2022-08-02T09:25:13.985Z"
   },
   {
    "duration": 19,
    "start_time": "2022-08-02T09:25:14.028Z"
   },
   {
    "duration": 1129,
    "start_time": "2022-08-02T09:25:14.049Z"
   },
   {
    "duration": 6,
    "start_time": "2022-08-02T09:25:15.180Z"
   },
   {
    "duration": 34,
    "start_time": "2022-08-02T09:25:15.189Z"
   },
   {
    "duration": 16,
    "start_time": "2022-08-02T09:25:15.225Z"
   },
   {
    "duration": 11,
    "start_time": "2022-08-02T09:25:15.243Z"
   },
   {
    "duration": 5,
    "start_time": "2022-08-02T09:25:15.255Z"
   },
   {
    "duration": 13,
    "start_time": "2022-08-02T09:25:15.262Z"
   },
   {
    "duration": 12,
    "start_time": "2022-08-02T09:25:15.277Z"
   },
   {
    "duration": 3,
    "start_time": "2022-08-02T09:25:15.296Z"
   },
   {
    "duration": 6,
    "start_time": "2022-08-02T09:25:15.300Z"
   },
   {
    "duration": 427,
    "start_time": "2022-08-02T09:25:15.307Z"
   },
   {
    "duration": 71,
    "start_time": "2022-08-02T09:26:33.124Z"
   },
   {
    "duration": 297,
    "start_time": "2022-08-02T09:27:03.502Z"
   },
   {
    "duration": 39,
    "start_time": "2022-08-02T09:27:12.546Z"
   },
   {
    "duration": 36,
    "start_time": "2022-08-02T09:27:40.528Z"
   },
   {
    "duration": 43,
    "start_time": "2022-08-02T09:27:59.926Z"
   },
   {
    "duration": 39,
    "start_time": "2022-08-02T09:28:07.216Z"
   },
   {
    "duration": 48,
    "start_time": "2022-08-02T09:28:18.451Z"
   },
   {
    "duration": 36,
    "start_time": "2022-08-02T09:29:02.838Z"
   },
   {
    "duration": 59,
    "start_time": "2022-08-02T09:29:14.186Z"
   },
   {
    "duration": 12,
    "start_time": "2022-08-02T09:29:35.449Z"
   },
   {
    "duration": 325,
    "start_time": "2022-08-02T09:29:42.084Z"
   },
   {
    "duration": 63,
    "start_time": "2022-08-02T09:31:03.245Z"
   },
   {
    "duration": 84,
    "start_time": "2022-08-02T14:38:40.556Z"
   },
   {
    "duration": 53,
    "start_time": "2022-08-02T14:38:45.343Z"
   },
   {
    "duration": 1881,
    "start_time": "2022-08-02T14:38:54.667Z"
   },
   {
    "duration": 21,
    "start_time": "2022-08-02T14:38:56.550Z"
   },
   {
    "duration": 26,
    "start_time": "2022-08-02T14:38:56.572Z"
   },
   {
    "duration": 6,
    "start_time": "2022-08-02T14:38:56.600Z"
   },
   {
    "duration": 8,
    "start_time": "2022-08-02T14:38:56.607Z"
   },
   {
    "duration": 18,
    "start_time": "2022-08-02T14:38:56.617Z"
   },
   {
    "duration": 18,
    "start_time": "2022-08-02T14:38:56.637Z"
   },
   {
    "duration": 16,
    "start_time": "2022-08-02T14:38:56.657Z"
   },
   {
    "duration": 36,
    "start_time": "2022-08-02T14:38:56.675Z"
   },
   {
    "duration": 5,
    "start_time": "2022-08-02T14:38:56.714Z"
   },
   {
    "duration": 11,
    "start_time": "2022-08-02T14:38:56.721Z"
   },
   {
    "duration": 1260,
    "start_time": "2022-08-02T14:38:56.734Z"
   },
   {
    "duration": 6,
    "start_time": "2022-08-02T14:38:57.996Z"
   },
   {
    "duration": 11,
    "start_time": "2022-08-02T14:38:58.004Z"
   },
   {
    "duration": 9,
    "start_time": "2022-08-02T14:38:58.017Z"
   },
   {
    "duration": 12,
    "start_time": "2022-08-02T14:38:58.028Z"
   },
   {
    "duration": 5,
    "start_time": "2022-08-02T14:38:58.042Z"
   },
   {
    "duration": 16,
    "start_time": "2022-08-02T14:38:58.049Z"
   },
   {
    "duration": 44,
    "start_time": "2022-08-02T14:38:58.067Z"
   },
   {
    "duration": 5,
    "start_time": "2022-08-02T14:38:58.113Z"
   },
   {
    "duration": 10,
    "start_time": "2022-08-02T14:38:58.121Z"
   },
   {
    "duration": 189,
    "start_time": "2022-08-02T14:38:58.134Z"
   },
   {
    "duration": 91,
    "start_time": "2022-08-02T14:38:58.325Z"
   },
   {
    "duration": 351,
    "start_time": "2022-08-02T14:38:58.419Z"
   },
   {
    "duration": 142,
    "start_time": "2022-08-02T14:38:58.771Z"
   },
   {
    "duration": 32,
    "start_time": "2022-08-02T14:39:14.909Z"
   },
   {
    "duration": 6131,
    "start_time": "2022-08-02T14:40:52.887Z"
   },
   {
    "duration": 5934,
    "start_time": "2022-08-02T14:41:05.976Z"
   },
   {
    "duration": 30144,
    "start_time": "2022-08-02T14:45:01.167Z"
   },
   {
    "duration": 60679,
    "start_time": "2022-08-02T14:45:56.498Z"
   },
   {
    "duration": 30230,
    "start_time": "2022-08-02T14:47:37.156Z"
   },
   {
    "duration": 81,
    "start_time": "2022-08-02T15:15:58.730Z"
   },
   {
    "duration": 14392810,
    "start_time": "2022-08-02T15:16:03.166Z"
   },
   {
    "duration": 189955,
    "start_time": "2022-08-02T19:16:17.518Z"
   },
   {
    "duration": 25709,
    "start_time": "2022-08-02T19:19:45.059Z"
   },
   {
    "duration": 1539,
    "start_time": "2022-08-03T16:44:53.314Z"
   },
   {
    "duration": 15,
    "start_time": "2022-08-03T16:44:54.855Z"
   },
   {
    "duration": 19,
    "start_time": "2022-08-03T16:44:54.874Z"
   },
   {
    "duration": 5,
    "start_time": "2022-08-03T16:44:54.894Z"
   },
   {
    "duration": 6,
    "start_time": "2022-08-03T16:44:54.901Z"
   },
   {
    "duration": 31,
    "start_time": "2022-08-03T16:44:54.908Z"
   },
   {
    "duration": 18,
    "start_time": "2022-08-03T16:44:54.940Z"
   },
   {
    "duration": 24,
    "start_time": "2022-08-03T16:44:54.960Z"
   },
   {
    "duration": 6,
    "start_time": "2022-08-03T16:44:54.988Z"
   },
   {
    "duration": 20,
    "start_time": "2022-08-03T16:44:54.996Z"
   },
   {
    "duration": 23,
    "start_time": "2022-08-03T16:44:55.017Z"
   },
   {
    "duration": 1008,
    "start_time": "2022-08-03T16:44:55.042Z"
   },
   {
    "duration": 7,
    "start_time": "2022-08-03T16:44:56.053Z"
   },
   {
    "duration": 28,
    "start_time": "2022-08-03T16:44:56.061Z"
   },
   {
    "duration": 23,
    "start_time": "2022-08-03T16:44:56.091Z"
   },
   {
    "duration": 17,
    "start_time": "2022-08-03T16:44:56.115Z"
   },
   {
    "duration": 25,
    "start_time": "2022-08-03T16:44:56.133Z"
   },
   {
    "duration": 22,
    "start_time": "2022-08-03T16:44:56.160Z"
   },
   {
    "duration": 26,
    "start_time": "2022-08-03T16:44:56.184Z"
   },
   {
    "duration": 24,
    "start_time": "2022-08-03T16:44:56.212Z"
   },
   {
    "duration": 43,
    "start_time": "2022-08-03T16:44:56.238Z"
   },
   {
    "duration": 122,
    "start_time": "2022-08-03T16:44:56.283Z"
   },
   {
    "duration": 151,
    "start_time": "2022-08-03T16:44:56.406Z"
   },
   {
    "duration": 247,
    "start_time": "2022-08-03T16:44:56.559Z"
   },
   {
    "duration": 4839,
    "start_time": "2022-08-03T16:44:56.808Z"
   },
   {
    "duration": 20542,
    "start_time": "2022-08-03T16:45:01.649Z"
   },
   {
    "duration": 20805,
    "start_time": "2022-08-03T16:45:45.971Z"
   },
   {
    "duration": 19899,
    "start_time": "2022-08-03T16:46:11.866Z"
   },
   {
    "duration": 77,
    "start_time": "2022-08-03T17:03:09.949Z"
   },
   {
    "duration": 39,
    "start_time": "2022-08-03T17:19:49.112Z"
   },
   {
    "duration": 150,
    "start_time": "2022-08-03T17:20:41.155Z"
   },
   {
    "duration": 89,
    "start_time": "2022-08-03T17:21:33.513Z"
   },
   {
    "duration": 96,
    "start_time": "2022-08-03T17:21:53.208Z"
   },
   {
    "duration": 107,
    "start_time": "2022-08-03T17:22:45.895Z"
   },
   {
    "duration": 50,
    "start_time": "2022-08-03T17:22:56.084Z"
   },
   {
    "duration": 106,
    "start_time": "2022-08-03T17:23:05.095Z"
   },
   {
    "duration": 92,
    "start_time": "2022-08-03T17:23:16.109Z"
   },
   {
    "duration": 141,
    "start_time": "2022-08-03T17:23:30.059Z"
   },
   {
    "duration": 111,
    "start_time": "2022-08-03T17:23:33.890Z"
   },
   {
    "duration": 92,
    "start_time": "2022-08-03T17:23:37.911Z"
   },
   {
    "duration": 132,
    "start_time": "2022-08-03T17:23:43.668Z"
   },
   {
    "duration": 127,
    "start_time": "2022-08-03T17:23:51.774Z"
   },
   {
    "duration": 14,
    "start_time": "2022-08-03T17:25:25.971Z"
   },
   {
    "duration": 81,
    "start_time": "2022-08-03T17:25:29.421Z"
   },
   {
    "duration": 4763,
    "start_time": "2022-08-03T17:26:01.031Z"
   },
   {
    "duration": 20092,
    "start_time": "2022-08-03T17:26:22.355Z"
   },
   {
    "duration": 6491,
    "start_time": "2022-08-03T17:27:17.960Z"
   },
   {
    "duration": 30720,
    "start_time": "2022-08-03T17:27:34.663Z"
   },
   {
    "duration": 5955,
    "start_time": "2022-08-03T17:28:05.384Z"
   },
   {
    "duration": 15,
    "start_time": "2022-08-03T17:28:24.833Z"
   },
   {
    "duration": 47,
    "start_time": "2022-08-03T17:28:26.260Z"
   },
   {
    "duration": 6255,
    "start_time": "2022-08-03T17:28:28.461Z"
   },
   {
    "duration": 31370,
    "start_time": "2022-08-03T17:28:34.718Z"
   },
   {
    "duration": 32079,
    "start_time": "2022-08-03T17:30:43.508Z"
   },
   {
    "duration": 4828,
    "start_time": "2022-08-03T17:34:12.108Z"
   },
   {
    "duration": 20586,
    "start_time": "2022-08-03T17:34:29.235Z"
   },
   {
    "duration": 4570,
    "start_time": "2022-08-03T17:35:42.814Z"
   },
   {
    "duration": 97,
    "start_time": "2022-08-03T17:36:12.117Z"
   },
   {
    "duration": 14,
    "start_time": "2022-08-03T17:36:33.466Z"
   },
   {
    "duration": 73,
    "start_time": "2022-08-05T12:40:06.130Z"
   },
   {
    "duration": 1852,
    "start_time": "2022-08-05T12:40:14.514Z"
   },
   {
    "duration": 14,
    "start_time": "2022-08-05T12:40:16.368Z"
   },
   {
    "duration": 21,
    "start_time": "2022-08-05T12:40:16.384Z"
   },
   {
    "duration": 5,
    "start_time": "2022-08-05T12:40:16.407Z"
   },
   {
    "duration": 8,
    "start_time": "2022-08-05T12:40:16.413Z"
   },
   {
    "duration": 16,
    "start_time": "2022-08-05T12:40:16.422Z"
   },
   {
    "duration": 13,
    "start_time": "2022-08-05T12:40:16.478Z"
   },
   {
    "duration": 24,
    "start_time": "2022-08-05T12:40:16.493Z"
   },
   {
    "duration": 6,
    "start_time": "2022-08-05T12:40:16.520Z"
   },
   {
    "duration": 25,
    "start_time": "2022-08-05T12:40:16.528Z"
   },
   {
    "duration": 14,
    "start_time": "2022-08-05T12:40:16.555Z"
   },
   {
    "duration": 1182,
    "start_time": "2022-08-05T12:40:16.571Z"
   },
   {
    "duration": 6,
    "start_time": "2022-08-05T12:40:17.755Z"
   },
   {
    "duration": 14,
    "start_time": "2022-08-05T12:40:17.762Z"
   },
   {
    "duration": 30,
    "start_time": "2022-08-05T12:40:17.778Z"
   },
   {
    "duration": 21,
    "start_time": "2022-08-05T12:40:17.810Z"
   },
   {
    "duration": 46,
    "start_time": "2022-08-05T12:40:17.833Z"
   },
   {
    "duration": 30,
    "start_time": "2022-08-05T12:40:17.881Z"
   },
   {
    "duration": 18,
    "start_time": "2022-08-05T12:40:17.913Z"
   },
   {
    "duration": 11,
    "start_time": "2022-08-05T12:40:17.933Z"
   },
   {
    "duration": 9,
    "start_time": "2022-08-05T12:40:17.945Z"
   },
   {
    "duration": 213,
    "start_time": "2022-08-05T12:40:17.956Z"
   },
   {
    "duration": 60,
    "start_time": "2022-08-05T12:40:18.170Z"
   },
   {
    "duration": 319,
    "start_time": "2022-08-05T12:40:18.231Z"
   },
   {
    "duration": 5527,
    "start_time": "2022-08-05T12:40:18.552Z"
   },
   {
    "duration": 23732,
    "start_time": "2022-08-05T12:40:24.081Z"
   },
   {
    "duration": 159,
    "start_time": "2022-08-05T12:40:47.815Z"
   },
   {
    "duration": 5345,
    "start_time": "2022-08-05T12:40:47.978Z"
   },
   {
    "duration": 16,
    "start_time": "2022-08-05T12:40:53.325Z"
   },
   {
    "duration": 131,
    "start_time": "2022-08-05T12:40:53.342Z"
   },
   {
    "duration": 7050,
    "start_time": "2022-08-05T12:40:53.475Z"
   },
   {
    "duration": 36778,
    "start_time": "2022-08-05T12:41:00.526Z"
   },
   {
    "duration": 16,
    "start_time": "2022-08-05T12:41:37.306Z"
   },
   {
    "duration": 15,
    "start_time": "2022-08-05T12:42:42.386Z"
   },
   {
    "duration": 132,
    "start_time": "2022-08-05T12:43:24.437Z"
   },
   {
    "duration": 6747,
    "start_time": "2022-08-05T12:43:26.970Z"
   },
   {
    "duration": 34308,
    "start_time": "2022-08-05T12:43:33.719Z"
   },
   {
    "duration": 105,
    "start_time": "2022-08-05T12:45:39.668Z"
   },
   {
    "duration": 3274,
    "start_time": "2022-08-05T12:45:41.571Z"
   },
   {
    "duration": 15190,
    "start_time": "2022-08-05T12:45:44.847Z"
   },
   {
    "duration": 3177,
    "start_time": "2022-08-05T12:47:09.292Z"
   },
   {
    "duration": 113,
    "start_time": "2022-08-05T12:48:28.062Z"
   },
   {
    "duration": 60,
    "start_time": "2022-08-05T12:57:13.239Z"
   },
   {
    "duration": 17,
    "start_time": "2022-08-05T13:21:57.908Z"
   },
   {
    "duration": 75,
    "start_time": "2022-08-05T13:22:50.677Z"
   },
   {
    "duration": 146,
    "start_time": "2022-08-05T13:23:00.007Z"
   },
   {
    "duration": 151,
    "start_time": "2022-08-05T13:25:23.049Z"
   },
   {
    "duration": 1649,
    "start_time": "2022-08-05T13:34:05.934Z"
   },
   {
    "duration": 14,
    "start_time": "2022-08-05T13:34:07.585Z"
   },
   {
    "duration": 20,
    "start_time": "2022-08-05T13:34:07.601Z"
   },
   {
    "duration": 4,
    "start_time": "2022-08-05T13:34:07.623Z"
   },
   {
    "duration": 6,
    "start_time": "2022-08-05T13:34:07.629Z"
   },
   {
    "duration": 39,
    "start_time": "2022-08-05T13:34:07.636Z"
   },
   {
    "duration": 13,
    "start_time": "2022-08-05T13:34:07.676Z"
   },
   {
    "duration": 15,
    "start_time": "2022-08-05T13:34:07.691Z"
   },
   {
    "duration": 5,
    "start_time": "2022-08-05T13:34:07.708Z"
   },
   {
    "duration": 7,
    "start_time": "2022-08-05T13:34:07.716Z"
   },
   {
    "duration": 7,
    "start_time": "2022-08-05T13:34:07.724Z"
   },
   {
    "duration": 1120,
    "start_time": "2022-08-05T13:34:07.733Z"
   },
   {
    "duration": 6,
    "start_time": "2022-08-05T13:34:08.855Z"
   },
   {
    "duration": 7,
    "start_time": "2022-08-05T13:34:08.862Z"
   },
   {
    "duration": 16,
    "start_time": "2022-08-05T13:34:08.871Z"
   },
   {
    "duration": 12,
    "start_time": "2022-08-05T13:34:08.889Z"
   },
   {
    "duration": 5,
    "start_time": "2022-08-05T13:34:08.903Z"
   },
   {
    "duration": 14,
    "start_time": "2022-08-05T13:34:08.910Z"
   },
   {
    "duration": 10,
    "start_time": "2022-08-05T13:34:08.926Z"
   },
   {
    "duration": 4,
    "start_time": "2022-08-05T13:34:08.938Z"
   },
   {
    "duration": 8,
    "start_time": "2022-08-05T13:34:08.967Z"
   },
   {
    "duration": 192,
    "start_time": "2022-08-05T13:34:08.977Z"
   },
   {
    "duration": 126,
    "start_time": "2022-08-05T13:34:09.170Z"
   },
   {
    "duration": 0,
    "start_time": "2022-08-05T13:34:09.298Z"
   },
   {
    "duration": 0,
    "start_time": "2022-08-05T13:34:09.299Z"
   },
   {
    "duration": 0,
    "start_time": "2022-08-05T13:34:09.301Z"
   },
   {
    "duration": 0,
    "start_time": "2022-08-05T13:34:09.302Z"
   },
   {
    "duration": 0,
    "start_time": "2022-08-05T13:34:09.303Z"
   },
   {
    "duration": 0,
    "start_time": "2022-08-05T13:34:09.304Z"
   },
   {
    "duration": 0,
    "start_time": "2022-08-05T13:34:09.305Z"
   },
   {
    "duration": 0,
    "start_time": "2022-08-05T13:34:09.306Z"
   },
   {
    "duration": 0,
    "start_time": "2022-08-05T13:34:09.307Z"
   },
   {
    "duration": 0,
    "start_time": "2022-08-05T13:34:09.308Z"
   },
   {
    "duration": 0,
    "start_time": "2022-08-05T13:34:09.309Z"
   },
   {
    "duration": 0,
    "start_time": "2022-08-05T13:34:09.310Z"
   },
   {
    "duration": 0,
    "start_time": "2022-08-05T13:34:09.311Z"
   },
   {
    "duration": 0,
    "start_time": "2022-08-05T13:34:09.312Z"
   },
   {
    "duration": 0,
    "start_time": "2022-08-05T13:34:09.313Z"
   },
   {
    "duration": 1517,
    "start_time": "2022-08-05T13:34:40.846Z"
   },
   {
    "duration": 16,
    "start_time": "2022-08-05T13:34:42.365Z"
   },
   {
    "duration": 22,
    "start_time": "2022-08-05T13:34:42.383Z"
   },
   {
    "duration": 5,
    "start_time": "2022-08-05T13:34:42.407Z"
   },
   {
    "duration": 7,
    "start_time": "2022-08-05T13:34:42.414Z"
   },
   {
    "duration": 16,
    "start_time": "2022-08-05T13:34:42.423Z"
   },
   {
    "duration": 32,
    "start_time": "2022-08-05T13:34:42.441Z"
   },
   {
    "duration": 19,
    "start_time": "2022-08-05T13:34:42.475Z"
   },
   {
    "duration": 5,
    "start_time": "2022-08-05T13:34:42.496Z"
   },
   {
    "duration": 8,
    "start_time": "2022-08-05T13:34:42.503Z"
   },
   {
    "duration": 9,
    "start_time": "2022-08-05T13:34:42.513Z"
   },
   {
    "duration": 1129,
    "start_time": "2022-08-05T13:34:42.524Z"
   },
   {
    "duration": 6,
    "start_time": "2022-08-05T13:34:43.655Z"
   },
   {
    "duration": 5,
    "start_time": "2022-08-05T13:34:43.663Z"
   },
   {
    "duration": 9,
    "start_time": "2022-08-05T13:34:43.670Z"
   },
   {
    "duration": 14,
    "start_time": "2022-08-05T13:34:43.681Z"
   },
   {
    "duration": 7,
    "start_time": "2022-08-05T13:34:43.697Z"
   },
   {
    "duration": 13,
    "start_time": "2022-08-05T13:34:43.706Z"
   },
   {
    "duration": 11,
    "start_time": "2022-08-05T13:34:43.720Z"
   },
   {
    "duration": 5,
    "start_time": "2022-08-05T13:34:43.733Z"
   },
   {
    "duration": 33,
    "start_time": "2022-08-05T13:34:43.739Z"
   },
   {
    "duration": 104,
    "start_time": "2022-08-05T13:34:43.774Z"
   },
   {
    "duration": 60,
    "start_time": "2022-08-05T13:34:43.969Z"
   },
   {
    "duration": 309,
    "start_time": "2022-08-05T13:34:44.030Z"
   },
   {
    "duration": 5621,
    "start_time": "2022-08-05T13:34:44.341Z"
   },
   {
    "duration": 24265,
    "start_time": "2022-08-05T13:34:49.964Z"
   },
   {
    "duration": 141,
    "start_time": "2022-08-05T13:35:14.231Z"
   },
   {
    "duration": 5363,
    "start_time": "2022-08-05T13:35:14.467Z"
   },
   {
    "duration": 17,
    "start_time": "2022-08-05T13:35:19.831Z"
   },
   {
    "duration": 125,
    "start_time": "2022-08-05T13:35:19.849Z"
   },
   {
    "duration": 7189,
    "start_time": "2022-08-05T13:35:19.976Z"
   },
   {
    "duration": 35671,
    "start_time": "2022-08-05T13:35:27.168Z"
   },
   {
    "duration": 14,
    "start_time": "2022-08-05T13:36:02.841Z"
   },
   {
    "duration": 109,
    "start_time": "2022-08-05T13:36:02.867Z"
   },
   {
    "duration": 3203,
    "start_time": "2022-08-05T13:36:03.068Z"
   },
   {
    "duration": 14527,
    "start_time": "2022-08-05T13:36:06.272Z"
   },
   {
    "duration": 49,
    "start_time": "2022-08-05T13:36:20.801Z"
   },
   {
    "duration": 188,
    "start_time": "2022-08-05T13:36:20.852Z"
   },
   {
    "duration": 4,
    "start_time": "2022-08-05T14:00:41.857Z"
   },
   {
    "duration": 53,
    "start_time": "2022-08-05T14:09:58.750Z"
   },
   {
    "duration": 14442,
    "start_time": "2022-08-05T14:11:07.492Z"
   },
   {
    "duration": 15395,
    "start_time": "2022-08-05T14:11:55.724Z"
   },
   {
    "duration": 1585,
    "start_time": "2022-08-05T14:14:24.061Z"
   },
   {
    "duration": 13,
    "start_time": "2022-08-05T14:14:25.648Z"
   },
   {
    "duration": 25,
    "start_time": "2022-08-05T14:14:25.663Z"
   },
   {
    "duration": 6,
    "start_time": "2022-08-05T14:14:25.691Z"
   },
   {
    "duration": 9,
    "start_time": "2022-08-05T14:14:25.699Z"
   },
   {
    "duration": 19,
    "start_time": "2022-08-05T14:14:25.709Z"
   },
   {
    "duration": 16,
    "start_time": "2022-08-05T14:14:25.729Z"
   },
   {
    "duration": 36,
    "start_time": "2022-08-05T14:14:25.747Z"
   },
   {
    "duration": 6,
    "start_time": "2022-08-05T14:14:25.786Z"
   },
   {
    "duration": 5,
    "start_time": "2022-08-05T14:14:25.796Z"
   },
   {
    "duration": 7,
    "start_time": "2022-08-05T14:14:25.803Z"
   },
   {
    "duration": 1194,
    "start_time": "2022-08-05T14:14:25.811Z"
   },
   {
    "duration": 6,
    "start_time": "2022-08-05T14:14:27.007Z"
   },
   {
    "duration": 15,
    "start_time": "2022-08-05T14:14:27.015Z"
   },
   {
    "duration": 10,
    "start_time": "2022-08-05T14:14:27.034Z"
   },
   {
    "duration": 17,
    "start_time": "2022-08-05T14:14:27.046Z"
   },
   {
    "duration": 8,
    "start_time": "2022-08-05T14:14:27.068Z"
   },
   {
    "duration": 14,
    "start_time": "2022-08-05T14:14:27.078Z"
   },
   {
    "duration": 12,
    "start_time": "2022-08-05T14:14:27.093Z"
   },
   {
    "duration": 5,
    "start_time": "2022-08-05T14:14:27.107Z"
   },
   {
    "duration": 10,
    "start_time": "2022-08-05T14:14:27.113Z"
   },
   {
    "duration": 152,
    "start_time": "2022-08-05T14:14:27.125Z"
   },
   {
    "duration": 239,
    "start_time": "2022-08-05T14:14:27.279Z"
   },
   {
    "duration": 407,
    "start_time": "2022-08-05T14:14:27.520Z"
   },
   {
    "duration": 1,
    "start_time": "2022-08-05T14:14:27.929Z"
   },
   {
    "duration": 0,
    "start_time": "2022-08-05T14:14:27.931Z"
   },
   {
    "duration": 0,
    "start_time": "2022-08-05T14:14:27.932Z"
   },
   {
    "duration": 0,
    "start_time": "2022-08-05T14:14:27.933Z"
   },
   {
    "duration": 0,
    "start_time": "2022-08-05T14:14:27.935Z"
   },
   {
    "duration": 0,
    "start_time": "2022-08-05T14:14:27.936Z"
   },
   {
    "duration": 0,
    "start_time": "2022-08-05T14:14:27.937Z"
   },
   {
    "duration": 0,
    "start_time": "2022-08-05T14:14:27.938Z"
   },
   {
    "duration": 0,
    "start_time": "2022-08-05T14:14:27.939Z"
   },
   {
    "duration": 0,
    "start_time": "2022-08-05T14:14:27.968Z"
   },
   {
    "duration": 0,
    "start_time": "2022-08-05T14:14:27.969Z"
   },
   {
    "duration": 0,
    "start_time": "2022-08-05T14:14:27.970Z"
   },
   {
    "duration": 0,
    "start_time": "2022-08-05T14:14:27.971Z"
   },
   {
    "duration": 0,
    "start_time": "2022-08-05T14:14:27.972Z"
   },
   {
    "duration": 379,
    "start_time": "2022-08-05T14:14:56.326Z"
   },
   {
    "duration": 945,
    "start_time": "2022-08-05T14:16:00.432Z"
   },
   {
    "duration": 290,
    "start_time": "2022-08-05T14:16:17.887Z"
   },
   {
    "duration": 1513,
    "start_time": "2022-08-05T14:16:30.888Z"
   },
   {
    "duration": 17,
    "start_time": "2022-08-05T14:16:32.404Z"
   },
   {
    "duration": 25,
    "start_time": "2022-08-05T14:16:32.423Z"
   },
   {
    "duration": 5,
    "start_time": "2022-08-05T14:16:32.451Z"
   },
   {
    "duration": 11,
    "start_time": "2022-08-05T14:16:32.457Z"
   },
   {
    "duration": 19,
    "start_time": "2022-08-05T14:16:32.470Z"
   },
   {
    "duration": 17,
    "start_time": "2022-08-05T14:16:32.491Z"
   },
   {
    "duration": 15,
    "start_time": "2022-08-05T14:16:32.510Z"
   },
   {
    "duration": 5,
    "start_time": "2022-08-05T14:16:32.526Z"
   },
   {
    "duration": 6,
    "start_time": "2022-08-05T14:16:32.534Z"
   },
   {
    "duration": 30,
    "start_time": "2022-08-05T14:16:32.541Z"
   },
   {
    "duration": 1100,
    "start_time": "2022-08-05T14:16:32.573Z"
   },
   {
    "duration": 6,
    "start_time": "2022-08-05T14:16:33.675Z"
   },
   {
    "duration": 8,
    "start_time": "2022-08-05T14:16:33.683Z"
   },
   {
    "duration": 11,
    "start_time": "2022-08-05T14:16:33.693Z"
   },
   {
    "duration": 18,
    "start_time": "2022-08-05T14:16:33.705Z"
   },
   {
    "duration": 5,
    "start_time": "2022-08-05T14:16:33.725Z"
   },
   {
    "duration": 36,
    "start_time": "2022-08-05T14:16:33.732Z"
   },
   {
    "duration": 11,
    "start_time": "2022-08-05T14:16:33.769Z"
   },
   {
    "duration": 8,
    "start_time": "2022-08-05T14:16:33.781Z"
   },
   {
    "duration": 18,
    "start_time": "2022-08-05T14:16:33.790Z"
   },
   {
    "duration": 65,
    "start_time": "2022-08-05T14:16:33.810Z"
   },
   {
    "duration": 238,
    "start_time": "2022-08-05T14:16:33.876Z"
   },
   {
    "duration": 316,
    "start_time": "2022-08-05T14:16:34.116Z"
   },
   {
    "duration": 6668,
    "start_time": "2022-08-05T14:16:34.434Z"
   },
   {
    "duration": 23281,
    "start_time": "2022-08-05T14:16:41.104Z"
   },
   {
    "duration": 0,
    "start_time": "2022-08-05T14:17:04.388Z"
   },
   {
    "duration": 0,
    "start_time": "2022-08-05T14:17:04.390Z"
   },
   {
    "duration": 0,
    "start_time": "2022-08-05T14:17:04.391Z"
   },
   {
    "duration": 0,
    "start_time": "2022-08-05T14:17:04.393Z"
   },
   {
    "duration": 0,
    "start_time": "2022-08-05T14:17:04.394Z"
   },
   {
    "duration": 0,
    "start_time": "2022-08-05T14:17:04.396Z"
   },
   {
    "duration": 0,
    "start_time": "2022-08-05T14:17:04.397Z"
   },
   {
    "duration": 0,
    "start_time": "2022-08-05T14:17:04.399Z"
   },
   {
    "duration": 0,
    "start_time": "2022-08-05T14:17:04.400Z"
   },
   {
    "duration": 0,
    "start_time": "2022-08-05T14:17:04.402Z"
   },
   {
    "duration": 0,
    "start_time": "2022-08-05T14:17:04.403Z"
   },
   {
    "duration": 0,
    "start_time": "2022-08-05T14:17:04.405Z"
   },
   {
    "duration": 23722,
    "start_time": "2022-08-05T14:17:11.636Z"
   },
   {
    "duration": 1497,
    "start_time": "2022-08-05T14:17:48.681Z"
   },
   {
    "duration": 14,
    "start_time": "2022-08-05T14:17:50.180Z"
   },
   {
    "duration": 24,
    "start_time": "2022-08-05T14:17:50.196Z"
   },
   {
    "duration": 59,
    "start_time": "2022-08-05T14:17:50.223Z"
   },
   {
    "duration": 39,
    "start_time": "2022-08-05T14:17:50.284Z"
   },
   {
    "duration": 41,
    "start_time": "2022-08-05T14:17:50.325Z"
   },
   {
    "duration": 37,
    "start_time": "2022-08-05T14:17:50.368Z"
   },
   {
    "duration": 36,
    "start_time": "2022-08-05T14:17:50.407Z"
   },
   {
    "duration": 15,
    "start_time": "2022-08-05T14:17:50.444Z"
   },
   {
    "duration": 49,
    "start_time": "2022-08-05T14:17:50.462Z"
   },
   {
    "duration": 12,
    "start_time": "2022-08-05T14:17:50.513Z"
   },
   {
    "duration": 1131,
    "start_time": "2022-08-05T14:17:50.526Z"
   },
   {
    "duration": 5,
    "start_time": "2022-08-05T14:17:51.659Z"
   },
   {
    "duration": 6,
    "start_time": "2022-08-05T14:17:51.666Z"
   },
   {
    "duration": 7,
    "start_time": "2022-08-05T14:17:51.674Z"
   },
   {
    "duration": 11,
    "start_time": "2022-08-05T14:17:51.683Z"
   },
   {
    "duration": 5,
    "start_time": "2022-08-05T14:17:51.696Z"
   },
   {
    "duration": 16,
    "start_time": "2022-08-05T14:17:51.703Z"
   },
   {
    "duration": 11,
    "start_time": "2022-08-05T14:17:51.721Z"
   },
   {
    "duration": 4,
    "start_time": "2022-08-05T14:17:51.733Z"
   },
   {
    "duration": 8,
    "start_time": "2022-08-05T14:17:51.768Z"
   },
   {
    "duration": 192,
    "start_time": "2022-08-05T14:17:51.777Z"
   },
   {
    "duration": 151,
    "start_time": "2022-08-05T14:17:51.970Z"
   },
   {
    "duration": 312,
    "start_time": "2022-08-05T14:17:52.124Z"
   },
   {
    "duration": 5609,
    "start_time": "2022-08-05T14:17:52.438Z"
   },
   {
    "duration": 23476,
    "start_time": "2022-08-05T14:17:58.049Z"
   },
   {
    "duration": 150,
    "start_time": "2022-08-05T14:18:21.527Z"
   },
   {
    "duration": 5396,
    "start_time": "2022-08-05T14:18:21.772Z"
   },
   {
    "duration": 16,
    "start_time": "2022-08-05T14:18:27.170Z"
   },
   {
    "duration": 182,
    "start_time": "2022-08-05T14:18:27.188Z"
   },
   {
    "duration": 7126,
    "start_time": "2022-08-05T14:18:27.372Z"
   },
   {
    "duration": 35200,
    "start_time": "2022-08-05T14:18:34.500Z"
   },
   {
    "duration": 13,
    "start_time": "2022-08-05T14:19:09.702Z"
   },
   {
    "duration": 153,
    "start_time": "2022-08-05T14:19:09.716Z"
   },
   {
    "duration": 3277,
    "start_time": "2022-08-05T14:19:09.871Z"
   },
   {
    "duration": 14427,
    "start_time": "2022-08-05T14:19:13.150Z"
   },
   {
    "duration": 53,
    "start_time": "2022-08-05T14:19:27.579Z"
   },
   {
    "duration": 159,
    "start_time": "2022-08-05T14:19:27.634Z"
   },
   {
    "duration": 113,
    "start_time": "2022-08-05T17:00:09.422Z"
   },
   {
    "duration": 43,
    "start_time": "2022-08-05T17:00:23.452Z"
   },
   {
    "duration": 122,
    "start_time": "2022-08-05T17:00:40.346Z"
   },
   {
    "duration": 136,
    "start_time": "2022-08-05T17:00:57.292Z"
   },
   {
    "duration": 5323,
    "start_time": "2022-08-05T17:05:43.519Z"
   },
   {
    "duration": 5254,
    "start_time": "2022-08-05T17:06:15.856Z"
   },
   {
    "duration": 7088,
    "start_time": "2022-08-05T17:06:36.876Z"
   },
   {
    "duration": 1521,
    "start_time": "2022-08-05T17:07:12.060Z"
   },
   {
    "duration": 16,
    "start_time": "2022-08-05T17:07:13.583Z"
   },
   {
    "duration": 20,
    "start_time": "2022-08-05T17:07:13.601Z"
   },
   {
    "duration": 6,
    "start_time": "2022-08-05T17:07:13.623Z"
   },
   {
    "duration": 17,
    "start_time": "2022-08-05T17:07:13.630Z"
   },
   {
    "duration": 27,
    "start_time": "2022-08-05T17:07:13.649Z"
   },
   {
    "duration": 20,
    "start_time": "2022-08-05T17:07:13.678Z"
   },
   {
    "duration": 14,
    "start_time": "2022-08-05T17:07:13.700Z"
   },
   {
    "duration": 5,
    "start_time": "2022-08-05T17:07:13.715Z"
   },
   {
    "duration": 12,
    "start_time": "2022-08-05T17:07:13.723Z"
   },
   {
    "duration": 13,
    "start_time": "2022-08-05T17:07:13.737Z"
   },
   {
    "duration": 1166,
    "start_time": "2022-08-05T17:07:13.751Z"
   },
   {
    "duration": 6,
    "start_time": "2022-08-05T17:07:14.919Z"
   },
   {
    "duration": 7,
    "start_time": "2022-08-05T17:07:14.927Z"
   },
   {
    "duration": 10,
    "start_time": "2022-08-05T17:07:14.936Z"
   },
   {
    "duration": 20,
    "start_time": "2022-08-05T17:07:14.948Z"
   },
   {
    "duration": 7,
    "start_time": "2022-08-05T17:07:14.970Z"
   },
   {
    "duration": 15,
    "start_time": "2022-08-05T17:07:14.979Z"
   },
   {
    "duration": 11,
    "start_time": "2022-08-05T17:07:14.997Z"
   },
   {
    "duration": 10,
    "start_time": "2022-08-05T17:07:15.010Z"
   },
   {
    "duration": 21,
    "start_time": "2022-08-05T17:07:15.021Z"
   },
   {
    "duration": 224,
    "start_time": "2022-08-05T17:07:15.045Z"
   },
   {
    "duration": 152,
    "start_time": "2022-08-05T17:07:15.271Z"
   },
   {
    "duration": 159,
    "start_time": "2022-08-05T17:07:15.425Z"
   },
   {
    "duration": 5675,
    "start_time": "2022-08-05T17:07:15.586Z"
   },
   {
    "duration": 10173,
    "start_time": "2022-08-05T17:07:21.262Z"
   },
   {
    "duration": 144,
    "start_time": "2022-08-05T17:07:31.438Z"
   },
   {
    "duration": 5184,
    "start_time": "2022-08-05T17:07:31.671Z"
   },
   {
    "duration": 18,
    "start_time": "2022-08-05T17:07:36.857Z"
   },
   {
    "duration": 191,
    "start_time": "2022-08-05T17:07:36.877Z"
   },
   {
    "duration": 6679,
    "start_time": "2022-08-05T17:07:37.070Z"
   },
   {
    "duration": 13521,
    "start_time": "2022-08-05T17:07:43.751Z"
   },
   {
    "duration": 13,
    "start_time": "2022-08-05T17:07:57.274Z"
   },
   {
    "duration": 91,
    "start_time": "2022-08-05T17:07:57.289Z"
   },
   {
    "duration": 3282,
    "start_time": "2022-08-05T17:07:57.381Z"
   },
   {
    "duration": 7078,
    "start_time": "2022-08-05T17:08:00.664Z"
   },
   {
    "duration": 61,
    "start_time": "2022-08-05T17:08:07.744Z"
   },
   {
    "duration": 145,
    "start_time": "2022-08-05T17:08:07.806Z"
   },
   {
    "duration": 46,
    "start_time": "2022-08-05T17:15:37.207Z"
   },
   {
    "duration": 57,
    "start_time": "2022-08-05T17:15:51.205Z"
   },
   {
    "duration": 57,
    "start_time": "2022-08-05T17:16:16.017Z"
   },
   {
    "duration": 3259,
    "start_time": "2022-08-05T17:16:48.273Z"
   },
   {
    "duration": 3303,
    "start_time": "2022-08-05T17:17:02.390Z"
   },
   {
    "duration": 76,
    "start_time": "2022-08-05T19:29:54.342Z"
   },
   {
    "duration": 147,
    "start_time": "2022-08-05T19:33:39.713Z"
   },
   {
    "duration": 1623,
    "start_time": "2022-08-05T19:34:01.862Z"
   },
   {
    "duration": 18,
    "start_time": "2022-08-05T19:34:03.487Z"
   },
   {
    "duration": 38,
    "start_time": "2022-08-05T19:34:03.507Z"
   },
   {
    "duration": 15,
    "start_time": "2022-08-05T19:34:03.567Z"
   },
   {
    "duration": 8,
    "start_time": "2022-08-05T19:34:03.589Z"
   },
   {
    "duration": 28,
    "start_time": "2022-08-05T19:34:03.599Z"
   },
   {
    "duration": 13,
    "start_time": "2022-08-05T19:34:03.629Z"
   },
   {
    "duration": 41,
    "start_time": "2022-08-05T19:34:03.644Z"
   },
   {
    "duration": 6,
    "start_time": "2022-08-05T19:34:03.687Z"
   },
   {
    "duration": 14,
    "start_time": "2022-08-05T19:34:03.696Z"
   },
   {
    "duration": 10,
    "start_time": "2022-08-05T19:34:03.711Z"
   },
   {
    "duration": 1160,
    "start_time": "2022-08-05T19:34:03.723Z"
   },
   {
    "duration": 7,
    "start_time": "2022-08-05T19:34:04.885Z"
   },
   {
    "duration": 12,
    "start_time": "2022-08-05T19:34:04.894Z"
   },
   {
    "duration": 10,
    "start_time": "2022-08-05T19:34:04.908Z"
   },
   {
    "duration": 12,
    "start_time": "2022-08-05T19:34:04.920Z"
   },
   {
    "duration": 6,
    "start_time": "2022-08-05T19:34:04.934Z"
   },
   {
    "duration": 38,
    "start_time": "2022-08-05T19:34:04.942Z"
   },
   {
    "duration": 14,
    "start_time": "2022-08-05T19:34:04.981Z"
   },
   {
    "duration": 5,
    "start_time": "2022-08-05T19:34:04.997Z"
   },
   {
    "duration": 11,
    "start_time": "2022-08-05T19:34:05.003Z"
   },
   {
    "duration": 169,
    "start_time": "2022-08-05T19:34:05.016Z"
   },
   {
    "duration": 236,
    "start_time": "2022-08-05T19:34:05.186Z"
   },
   {
    "duration": 168,
    "start_time": "2022-08-05T19:34:05.424Z"
   },
   {
    "duration": 5858,
    "start_time": "2022-08-05T19:34:05.594Z"
   },
   {
    "duration": 10724,
    "start_time": "2022-08-05T19:34:11.453Z"
   },
   {
    "duration": 100,
    "start_time": "2022-08-05T19:34:22.181Z"
   },
   {
    "duration": 5808,
    "start_time": "2022-08-05T19:34:22.286Z"
   },
   {
    "duration": 17,
    "start_time": "2022-08-05T19:34:28.096Z"
   },
   {
    "duration": 163,
    "start_time": "2022-08-05T19:34:28.115Z"
   },
   {
    "duration": 8704,
    "start_time": "2022-08-05T19:34:28.280Z"
   },
   {
    "duration": 15226,
    "start_time": "2022-08-05T19:34:36.986Z"
   },
   {
    "duration": 13,
    "start_time": "2022-08-05T19:34:52.213Z"
   },
   {
    "duration": 158,
    "start_time": "2022-08-05T19:34:52.228Z"
   },
   {
    "duration": 3419,
    "start_time": "2022-08-05T19:34:52.387Z"
   },
   {
    "duration": 7887,
    "start_time": "2022-08-05T19:34:55.808Z"
   },
   {
    "duration": 154,
    "start_time": "2022-08-05T19:35:03.697Z"
   },
   {
    "duration": 0,
    "start_time": "2022-08-05T19:35:03.853Z"
   },
   {
    "duration": 45,
    "start_time": "2022-08-05T19:40:18.636Z"
   },
   {
    "duration": 63,
    "start_time": "2022-08-05T19:40:48.425Z"
   },
   {
    "duration": 46,
    "start_time": "2022-08-05T19:41:06.794Z"
   },
   {
    "duration": 148,
    "start_time": "2022-08-05T19:43:58.151Z"
   },
   {
    "duration": 1681,
    "start_time": "2022-08-06T01:36:44.201Z"
   },
   {
    "duration": 12,
    "start_time": "2022-08-06T01:36:45.884Z"
   },
   {
    "duration": 18,
    "start_time": "2022-08-06T01:36:45.897Z"
   },
   {
    "duration": 3,
    "start_time": "2022-08-06T01:36:45.917Z"
   },
   {
    "duration": 5,
    "start_time": "2022-08-06T01:36:45.922Z"
   },
   {
    "duration": 12,
    "start_time": "2022-08-06T01:36:45.928Z"
   },
   {
    "duration": 13,
    "start_time": "2022-08-06T01:36:45.941Z"
   },
   {
    "duration": 11,
    "start_time": "2022-08-06T01:36:45.955Z"
   },
   {
    "duration": 4,
    "start_time": "2022-08-06T01:36:45.967Z"
   },
   {
    "duration": 30,
    "start_time": "2022-08-06T01:36:45.972Z"
   },
   {
    "duration": 4,
    "start_time": "2022-08-06T01:36:46.003Z"
   },
   {
    "duration": 942,
    "start_time": "2022-08-06T01:36:46.008Z"
   },
   {
    "duration": 5,
    "start_time": "2022-08-06T01:36:46.952Z"
   },
   {
    "duration": 9,
    "start_time": "2022-08-06T01:36:46.960Z"
   },
   {
    "duration": 18,
    "start_time": "2022-08-06T01:36:46.970Z"
   },
   {
    "duration": 26,
    "start_time": "2022-08-06T01:36:46.990Z"
   },
   {
    "duration": 25,
    "start_time": "2022-08-06T01:36:47.018Z"
   },
   {
    "duration": 32,
    "start_time": "2022-08-06T01:36:47.045Z"
   },
   {
    "duration": 26,
    "start_time": "2022-08-06T01:36:47.079Z"
   },
   {
    "duration": 41,
    "start_time": "2022-08-06T01:36:47.107Z"
   },
   {
    "duration": 33,
    "start_time": "2022-08-06T01:36:47.149Z"
   },
   {
    "duration": 123,
    "start_time": "2022-08-06T01:36:47.183Z"
   },
   {
    "duration": 235,
    "start_time": "2022-08-06T01:36:47.307Z"
   },
   {
    "duration": 134,
    "start_time": "2022-08-06T01:36:47.543Z"
   },
   {
    "duration": 4760,
    "start_time": "2022-08-06T01:36:47.678Z"
   },
   {
    "duration": 8216,
    "start_time": "2022-08-06T01:36:52.440Z"
   },
   {
    "duration": 242,
    "start_time": "2022-08-06T01:37:00.657Z"
   },
   {
    "duration": 4555,
    "start_time": "2022-08-06T01:37:00.902Z"
   },
   {
    "duration": 14,
    "start_time": "2022-08-06T01:37:05.459Z"
   },
   {
    "duration": 128,
    "start_time": "2022-08-06T01:37:05.474Z"
   },
   {
    "duration": 6022,
    "start_time": "2022-08-06T01:37:05.605Z"
   },
   {
    "duration": 12018,
    "start_time": "2022-08-06T01:37:11.628Z"
   },
   {
    "duration": 11,
    "start_time": "2022-08-06T01:37:23.648Z"
   },
   {
    "duration": 241,
    "start_time": "2022-08-06T01:37:23.660Z"
   },
   {
    "duration": 2768,
    "start_time": "2022-08-06T01:37:23.903Z"
   },
   {
    "duration": 6105,
    "start_time": "2022-08-06T01:37:26.673Z"
   },
   {
    "duration": 42,
    "start_time": "2022-08-06T01:37:32.780Z"
   },
   {
    "duration": 127,
    "start_time": "2022-08-06T01:37:32.824Z"
   },
   {
    "duration": 1712,
    "start_time": "2022-08-06T17:47:56.827Z"
   },
   {
    "duration": 14,
    "start_time": "2022-08-06T17:47:58.541Z"
   },
   {
    "duration": 24,
    "start_time": "2022-08-06T17:47:58.557Z"
   },
   {
    "duration": 4,
    "start_time": "2022-08-06T17:47:58.583Z"
   },
   {
    "duration": 11,
    "start_time": "2022-08-06T17:47:58.589Z"
   },
   {
    "duration": 17,
    "start_time": "2022-08-06T17:47:58.602Z"
   },
   {
    "duration": 14,
    "start_time": "2022-08-06T17:47:58.621Z"
   },
   {
    "duration": 12,
    "start_time": "2022-08-06T17:47:58.636Z"
   },
   {
    "duration": 4,
    "start_time": "2022-08-06T17:47:58.649Z"
   },
   {
    "duration": 6,
    "start_time": "2022-08-06T17:47:58.655Z"
   },
   {
    "duration": 6,
    "start_time": "2022-08-06T17:47:58.662Z"
   },
   {
    "duration": 1056,
    "start_time": "2022-08-06T17:47:58.670Z"
   },
   {
    "duration": 5,
    "start_time": "2022-08-06T17:47:59.728Z"
   },
   {
    "duration": 6,
    "start_time": "2022-08-06T17:47:59.736Z"
   },
   {
    "duration": 7,
    "start_time": "2022-08-06T17:47:59.744Z"
   },
   {
    "duration": 11,
    "start_time": "2022-08-06T17:47:59.752Z"
   },
   {
    "duration": 5,
    "start_time": "2022-08-06T17:47:59.764Z"
   },
   {
    "duration": 22,
    "start_time": "2022-08-06T17:47:59.770Z"
   },
   {
    "duration": 10,
    "start_time": "2022-08-06T17:47:59.793Z"
   },
   {
    "duration": 4,
    "start_time": "2022-08-06T17:47:59.804Z"
   },
   {
    "duration": 10,
    "start_time": "2022-08-06T17:47:59.809Z"
   },
   {
    "duration": 176,
    "start_time": "2022-08-06T17:47:59.820Z"
   },
   {
    "duration": 153,
    "start_time": "2022-08-06T17:48:00.089Z"
   },
   {
    "duration": 147,
    "start_time": "2022-08-06T17:48:00.244Z"
   },
   {
    "duration": 5318,
    "start_time": "2022-08-06T17:48:00.393Z"
   },
   {
    "duration": 9371,
    "start_time": "2022-08-06T17:48:05.713Z"
   },
   {
    "duration": 108,
    "start_time": "2022-08-06T17:48:15.087Z"
   },
   {
    "duration": 5110,
    "start_time": "2022-08-06T17:48:15.197Z"
   },
   {
    "duration": 14,
    "start_time": "2022-08-06T17:48:20.309Z"
   },
   {
    "duration": 162,
    "start_time": "2022-08-06T17:48:20.325Z"
   },
   {
    "duration": 6775,
    "start_time": "2022-08-06T17:48:20.490Z"
   },
   {
    "duration": 12842,
    "start_time": "2022-08-06T17:48:27.267Z"
   },
   {
    "duration": 12,
    "start_time": "2022-08-06T17:48:40.110Z"
   },
   {
    "duration": 168,
    "start_time": "2022-08-06T17:48:40.124Z"
   },
   {
    "duration": 3029,
    "start_time": "2022-08-06T17:48:40.294Z"
   },
   {
    "duration": 6583,
    "start_time": "2022-08-06T17:48:43.324Z"
   },
   {
    "duration": 38,
    "start_time": "2022-08-06T17:48:49.908Z"
   },
   {
    "duration": 150,
    "start_time": "2022-08-06T17:48:49.948Z"
   },
   {
    "duration": 1599,
    "start_time": "2022-08-07T08:20:56.882Z"
   },
   {
    "duration": 13,
    "start_time": "2022-08-07T08:21:00.169Z"
   },
   {
    "duration": 18,
    "start_time": "2022-08-07T08:21:06.607Z"
   },
   {
    "duration": 4,
    "start_time": "2022-08-07T08:21:14.967Z"
   },
   {
    "duration": 4,
    "start_time": "2022-08-07T08:23:08.375Z"
   },
   {
    "duration": 3,
    "start_time": "2022-08-07T08:23:10.046Z"
   },
   {
    "duration": 12,
    "start_time": "2022-08-07T08:23:13.216Z"
   },
   {
    "duration": 10,
    "start_time": "2022-08-07T08:24:02.702Z"
   },
   {
    "duration": 11,
    "start_time": "2022-08-07T08:24:06.565Z"
   },
   {
    "duration": 4,
    "start_time": "2022-08-07T08:24:15.093Z"
   },
   {
    "duration": 4,
    "start_time": "2022-08-07T08:24:16.936Z"
   },
   {
    "duration": 5,
    "start_time": "2022-08-07T08:24:20.349Z"
   },
   {
    "duration": 1036,
    "start_time": "2022-08-07T08:24:26.949Z"
   },
   {
    "duration": 1116,
    "start_time": "2022-08-10T15:21:33.068Z"
   },
   {
    "duration": 1600,
    "start_time": "2022-08-10T15:21:41.906Z"
   },
   {
    "duration": 14,
    "start_time": "2022-08-10T15:21:43.508Z"
   },
   {
    "duration": 17,
    "start_time": "2022-08-10T15:21:43.523Z"
   },
   {
    "duration": 4,
    "start_time": "2022-08-10T15:21:43.543Z"
   },
   {
    "duration": 6,
    "start_time": "2022-08-10T15:21:43.549Z"
   },
   {
    "duration": 13,
    "start_time": "2022-08-10T15:21:43.556Z"
   },
   {
    "duration": 38,
    "start_time": "2022-08-10T15:21:43.571Z"
   },
   {
    "duration": 12,
    "start_time": "2022-08-10T15:21:43.611Z"
   },
   {
    "duration": 5,
    "start_time": "2022-08-10T15:21:43.625Z"
   },
   {
    "duration": 4,
    "start_time": "2022-08-10T15:21:43.633Z"
   },
   {
    "duration": 5,
    "start_time": "2022-08-10T15:21:43.639Z"
   },
   {
    "duration": 1064,
    "start_time": "2022-08-10T15:21:43.646Z"
   },
   {
    "duration": 19,
    "start_time": "2022-08-10T15:21:44.712Z"
   },
   {
    "duration": 5,
    "start_time": "2022-08-10T15:21:44.732Z"
   },
   {
    "duration": 5,
    "start_time": "2022-08-10T15:21:44.739Z"
   },
   {
    "duration": 7,
    "start_time": "2022-08-10T15:21:44.745Z"
   },
   {
    "duration": 15,
    "start_time": "2022-08-10T15:21:44.754Z"
   },
   {
    "duration": 8,
    "start_time": "2022-08-10T15:21:44.770Z"
   },
   {
    "duration": 33,
    "start_time": "2022-08-10T15:21:44.779Z"
   },
   {
    "duration": 9,
    "start_time": "2022-08-10T15:21:44.814Z"
   },
   {
    "duration": 5,
    "start_time": "2022-08-10T15:21:44.824Z"
   },
   {
    "duration": 7,
    "start_time": "2022-08-10T15:21:44.831Z"
   },
   {
    "duration": 172,
    "start_time": "2022-08-10T15:21:44.839Z"
   },
   {
    "duration": 134,
    "start_time": "2022-08-10T15:21:45.013Z"
   },
   {
    "duration": 128,
    "start_time": "2022-08-10T15:21:45.149Z"
   },
   {
    "duration": 3649,
    "start_time": "2022-08-10T15:21:45.279Z"
   },
   {
    "duration": 8581,
    "start_time": "2022-08-10T15:21:48.929Z"
   },
   {
    "duration": 107,
    "start_time": "2022-08-10T15:21:57.513Z"
   },
   {
    "duration": 3418,
    "start_time": "2022-08-10T15:21:57.715Z"
   },
   {
    "duration": 14,
    "start_time": "2022-08-10T15:22:01.134Z"
   },
   {
    "duration": 260,
    "start_time": "2022-08-10T15:22:01.150Z"
   },
   {
    "duration": 4496,
    "start_time": "2022-08-10T15:22:01.412Z"
   },
   {
    "duration": 11377,
    "start_time": "2022-08-10T15:22:05.909Z"
   },
   {
    "duration": 28,
    "start_time": "2022-08-10T15:22:17.288Z"
   },
   {
    "duration": 195,
    "start_time": "2022-08-10T15:22:17.318Z"
   },
   {
    "duration": 2129,
    "start_time": "2022-08-10T15:22:17.515Z"
   },
   {
    "duration": 6323,
    "start_time": "2022-08-10T15:22:19.646Z"
   },
   {
    "duration": 51,
    "start_time": "2022-08-10T15:22:25.970Z"
   },
   {
    "duration": 143,
    "start_time": "2022-08-10T15:22:26.024Z"
   },
   {
    "duration": 1403,
    "start_time": "2022-08-10T15:46:14.723Z"
   },
   {
    "duration": 1319,
    "start_time": "2022-08-10T15:46:37.030Z"
   },
   {
    "duration": 4822,
    "start_time": "2022-08-10T15:48:52.096Z"
   },
   {
    "duration": 1140,
    "start_time": "2022-08-10T15:49:56.000Z"
   },
   {
    "duration": 4294,
    "start_time": "2022-08-10T15:50:11.005Z"
   },
   {
    "duration": 4449,
    "start_time": "2022-08-10T15:52:00.593Z"
   },
   {
    "duration": 203,
    "start_time": "2022-08-10T15:53:26.329Z"
   },
   {
    "duration": 5260,
    "start_time": "2022-08-10T15:55:07.579Z"
   },
   {
    "duration": 5891,
    "start_time": "2022-08-10T15:55:44.365Z"
   },
   {
    "duration": 4,
    "start_time": "2022-08-10T15:57:03.025Z"
   },
   {
    "duration": 6339,
    "start_time": "2022-08-10T15:57:03.723Z"
   },
   {
    "duration": 1411,
    "start_time": "2022-08-10T15:57:13.947Z"
   },
   {
    "duration": 13,
    "start_time": "2022-08-10T15:57:15.360Z"
   },
   {
    "duration": 32,
    "start_time": "2022-08-10T15:57:15.374Z"
   },
   {
    "duration": 4,
    "start_time": "2022-08-10T15:57:15.408Z"
   },
   {
    "duration": 22,
    "start_time": "2022-08-10T15:57:15.414Z"
   },
   {
    "duration": 43,
    "start_time": "2022-08-10T15:57:15.438Z"
   },
   {
    "duration": 18,
    "start_time": "2022-08-10T15:57:15.482Z"
   },
   {
    "duration": 22,
    "start_time": "2022-08-10T15:57:15.502Z"
   },
   {
    "duration": 6,
    "start_time": "2022-08-10T15:57:15.526Z"
   },
   {
    "duration": 10,
    "start_time": "2022-08-10T15:57:15.535Z"
   },
   {
    "duration": 8,
    "start_time": "2022-08-10T15:57:15.546Z"
   },
   {
    "duration": 1043,
    "start_time": "2022-08-10T15:57:15.555Z"
   },
   {
    "duration": 20,
    "start_time": "2022-08-10T15:57:16.599Z"
   },
   {
    "duration": 123,
    "start_time": "2022-08-10T15:57:16.620Z"
   },
   {
    "duration": 0,
    "start_time": "2022-08-10T15:57:16.745Z"
   },
   {
    "duration": 0,
    "start_time": "2022-08-10T15:57:16.746Z"
   },
   {
    "duration": 0,
    "start_time": "2022-08-10T15:57:16.747Z"
   },
   {
    "duration": 0,
    "start_time": "2022-08-10T15:57:16.748Z"
   },
   {
    "duration": 0,
    "start_time": "2022-08-10T15:57:16.750Z"
   },
   {
    "duration": 0,
    "start_time": "2022-08-10T15:57:16.751Z"
   },
   {
    "duration": 0,
    "start_time": "2022-08-10T15:57:16.753Z"
   },
   {
    "duration": 0,
    "start_time": "2022-08-10T15:57:16.754Z"
   },
   {
    "duration": 0,
    "start_time": "2022-08-10T15:57:16.755Z"
   },
   {
    "duration": 0,
    "start_time": "2022-08-10T15:57:16.756Z"
   },
   {
    "duration": 1,
    "start_time": "2022-08-10T15:57:16.757Z"
   },
   {
    "duration": 0,
    "start_time": "2022-08-10T15:57:16.759Z"
   },
   {
    "duration": 0,
    "start_time": "2022-08-10T15:57:16.760Z"
   },
   {
    "duration": 0,
    "start_time": "2022-08-10T15:57:16.761Z"
   },
   {
    "duration": 0,
    "start_time": "2022-08-10T15:57:16.762Z"
   },
   {
    "duration": 0,
    "start_time": "2022-08-10T15:57:16.763Z"
   },
   {
    "duration": 0,
    "start_time": "2022-08-10T15:57:16.764Z"
   },
   {
    "duration": 0,
    "start_time": "2022-08-10T15:57:16.764Z"
   },
   {
    "duration": 0,
    "start_time": "2022-08-10T15:57:16.766Z"
   },
   {
    "duration": 0,
    "start_time": "2022-08-10T15:57:16.767Z"
   },
   {
    "duration": 1,
    "start_time": "2022-08-10T15:57:16.767Z"
   },
   {
    "duration": 0,
    "start_time": "2022-08-10T15:57:16.769Z"
   },
   {
    "duration": 0,
    "start_time": "2022-08-10T15:57:16.770Z"
   },
   {
    "duration": 0,
    "start_time": "2022-08-10T15:57:16.809Z"
   },
   {
    "duration": 0,
    "start_time": "2022-08-10T15:57:16.810Z"
   },
   {
    "duration": 0,
    "start_time": "2022-08-10T15:57:16.811Z"
   },
   {
    "duration": 21,
    "start_time": "2022-08-10T17:56:28.679Z"
   },
   {
    "duration": 18,
    "start_time": "2022-08-10T17:56:53.466Z"
   },
   {
    "duration": 20,
    "start_time": "2022-08-10T17:57:36.656Z"
   },
   {
    "duration": 15,
    "start_time": "2022-08-10T17:59:13.549Z"
   },
   {
    "duration": 15,
    "start_time": "2022-08-10T17:59:33.693Z"
   },
   {
    "duration": 12,
    "start_time": "2022-08-10T17:59:38.638Z"
   },
   {
    "duration": 4862,
    "start_time": "2022-08-10T18:00:11.780Z"
   },
   {
    "duration": 4822,
    "start_time": "2022-08-10T18:02:39.778Z"
   },
   {
    "duration": 3,
    "start_time": "2022-08-10T18:03:05.190Z"
   },
   {
    "duration": 2,
    "start_time": "2022-08-10T18:03:20.328Z"
   },
   {
    "duration": 4680,
    "start_time": "2022-08-10T18:03:21.485Z"
   },
   {
    "duration": 1419,
    "start_time": "2022-08-10T18:03:48.410Z"
   },
   {
    "duration": 12,
    "start_time": "2022-08-10T18:03:49.831Z"
   },
   {
    "duration": 23,
    "start_time": "2022-08-10T18:03:49.845Z"
   },
   {
    "duration": 5,
    "start_time": "2022-08-10T18:03:49.869Z"
   },
   {
    "duration": 5,
    "start_time": "2022-08-10T18:03:49.876Z"
   },
   {
    "duration": 27,
    "start_time": "2022-08-10T18:03:49.883Z"
   },
   {
    "duration": 10,
    "start_time": "2022-08-10T18:03:49.912Z"
   },
   {
    "duration": 11,
    "start_time": "2022-08-10T18:03:49.924Z"
   },
   {
    "duration": 4,
    "start_time": "2022-08-10T18:03:49.937Z"
   },
   {
    "duration": 6,
    "start_time": "2022-08-10T18:03:49.943Z"
   },
   {
    "duration": 7,
    "start_time": "2022-08-10T18:03:49.951Z"
   },
   {
    "duration": 1775,
    "start_time": "2022-08-10T18:03:49.959Z"
   },
   {
    "duration": 21,
    "start_time": "2022-08-10T18:03:51.736Z"
   },
   {
    "duration": 4614,
    "start_time": "2022-08-10T18:03:51.761Z"
   },
   {
    "duration": 6,
    "start_time": "2022-08-10T18:03:56.377Z"
   },
   {
    "duration": 11,
    "start_time": "2022-08-10T18:03:56.385Z"
   },
   {
    "duration": 6,
    "start_time": "2022-08-10T18:03:56.409Z"
   },
   {
    "duration": 25,
    "start_time": "2022-08-10T18:03:56.417Z"
   },
   {
    "duration": 6,
    "start_time": "2022-08-10T18:03:56.444Z"
   },
   {
    "duration": 24,
    "start_time": "2022-08-10T18:03:56.451Z"
   },
   {
    "duration": 15,
    "start_time": "2022-08-10T18:03:56.477Z"
   },
   {
    "duration": 5,
    "start_time": "2022-08-10T18:03:56.494Z"
   },
   {
    "duration": 15,
    "start_time": "2022-08-10T18:03:56.508Z"
   },
   {
    "duration": 284,
    "start_time": "2022-08-10T18:03:56.525Z"
   },
   {
    "duration": 138,
    "start_time": "2022-08-10T18:03:56.812Z"
   },
   {
    "duration": 131,
    "start_time": "2022-08-10T18:03:56.951Z"
   },
   {
    "duration": 3469,
    "start_time": "2022-08-10T18:03:57.083Z"
   },
   {
    "duration": 8289,
    "start_time": "2022-08-10T18:04:00.554Z"
   },
   {
    "duration": 174,
    "start_time": "2022-08-10T18:04:08.845Z"
   },
   {
    "duration": 3608,
    "start_time": "2022-08-10T18:04:09.022Z"
   },
   {
    "duration": 14,
    "start_time": "2022-08-10T18:04:12.631Z"
   },
   {
    "duration": 175,
    "start_time": "2022-08-10T18:04:12.646Z"
   },
   {
    "duration": 4655,
    "start_time": "2022-08-10T18:04:12.823Z"
   },
   {
    "duration": 11734,
    "start_time": "2022-08-10T18:04:17.482Z"
   },
   {
    "duration": 13,
    "start_time": "2022-08-10T18:04:29.217Z"
   },
   {
    "duration": 178,
    "start_time": "2022-08-10T18:04:29.232Z"
   },
   {
    "duration": 2238,
    "start_time": "2022-08-10T18:04:29.412Z"
   },
   {
    "duration": 6287,
    "start_time": "2022-08-10T18:04:31.651Z"
   },
   {
    "duration": 41,
    "start_time": "2022-08-10T18:04:37.940Z"
   },
   {
    "duration": 153,
    "start_time": "2022-08-10T18:04:37.984Z"
   },
   {
    "duration": 1697,
    "start_time": "2022-08-12T08:04:12.066Z"
   },
   {
    "duration": 19,
    "start_time": "2022-08-12T08:04:13.765Z"
   },
   {
    "duration": 24,
    "start_time": "2022-08-12T08:04:13.786Z"
   },
   {
    "duration": 5,
    "start_time": "2022-08-12T08:04:13.812Z"
   },
   {
    "duration": 7,
    "start_time": "2022-08-12T08:04:13.819Z"
   },
   {
    "duration": 16,
    "start_time": "2022-08-12T08:04:13.828Z"
   },
   {
    "duration": 13,
    "start_time": "2022-08-12T08:04:13.847Z"
   },
   {
    "duration": 12,
    "start_time": "2022-08-12T08:04:13.862Z"
   },
   {
    "duration": 25,
    "start_time": "2022-08-12T08:04:13.876Z"
   },
   {
    "duration": 6,
    "start_time": "2022-08-12T08:04:13.903Z"
   },
   {
    "duration": 22,
    "start_time": "2022-08-12T08:04:13.910Z"
   },
   {
    "duration": 1081,
    "start_time": "2022-08-12T08:04:13.934Z"
   },
   {
    "duration": 25,
    "start_time": "2022-08-12T08:04:15.017Z"
   },
   {
    "duration": 5436,
    "start_time": "2022-08-12T08:04:15.047Z"
   },
   {
    "duration": 7,
    "start_time": "2022-08-12T08:04:20.484Z"
   },
   {
    "duration": 6,
    "start_time": "2022-08-12T08:04:20.500Z"
   },
   {
    "duration": 19,
    "start_time": "2022-08-12T08:04:20.507Z"
   },
   {
    "duration": 13,
    "start_time": "2022-08-12T08:04:20.528Z"
   },
   {
    "duration": 5,
    "start_time": "2022-08-12T08:04:20.542Z"
   },
   {
    "duration": 14,
    "start_time": "2022-08-12T08:04:20.549Z"
   },
   {
    "duration": 10,
    "start_time": "2022-08-12T08:04:20.565Z"
   },
   {
    "duration": 26,
    "start_time": "2022-08-12T08:04:20.577Z"
   },
   {
    "duration": 8,
    "start_time": "2022-08-12T08:04:20.605Z"
   },
   {
    "duration": 93,
    "start_time": "2022-08-12T08:04:20.615Z"
   },
   {
    "duration": 211,
    "start_time": "2022-08-12T08:04:20.709Z"
   },
   {
    "duration": 151,
    "start_time": "2022-08-12T08:04:20.922Z"
   },
   {
    "duration": 3382,
    "start_time": "2022-08-12T08:04:21.075Z"
   },
   {
    "duration": 8080,
    "start_time": "2022-08-12T08:04:24.459Z"
   },
   {
    "duration": 159,
    "start_time": "2022-08-12T08:04:32.541Z"
   },
   {
    "duration": 3454,
    "start_time": "2022-08-12T08:04:32.702Z"
   },
   {
    "duration": 15,
    "start_time": "2022-08-12T08:04:36.158Z"
   },
   {
    "duration": 134,
    "start_time": "2022-08-12T08:04:36.175Z"
   },
   {
    "duration": 4475,
    "start_time": "2022-08-12T08:04:36.311Z"
   },
   {
    "duration": 11264,
    "start_time": "2022-08-12T08:04:40.787Z"
   },
   {
    "duration": 13,
    "start_time": "2022-08-12T08:04:52.053Z"
   },
   {
    "duration": 137,
    "start_time": "2022-08-12T08:04:52.068Z"
   },
   {
    "duration": 2153,
    "start_time": "2022-08-12T08:04:52.208Z"
   },
   {
    "duration": 6054,
    "start_time": "2022-08-12T08:04:54.363Z"
   },
   {
    "duration": 51,
    "start_time": "2022-08-12T08:05:00.419Z"
   },
   {
    "duration": 149,
    "start_time": "2022-08-12T08:05:00.472Z"
   },
   {
    "duration": 4,
    "start_time": "2022-08-12T08:14:36.225Z"
   },
   {
    "duration": 5,
    "start_time": "2022-08-12T08:15:07.484Z"
   },
   {
    "duration": 104,
    "start_time": "2022-08-12T08:20:15.935Z"
   },
   {
    "duration": 11,
    "start_time": "2022-08-12T08:20:32.940Z"
   },
   {
    "duration": 11,
    "start_time": "2022-08-12T08:21:23.523Z"
   },
   {
    "duration": 11,
    "start_time": "2022-08-12T08:21:29.972Z"
   },
   {
    "duration": 11,
    "start_time": "2022-08-12T08:21:34.604Z"
   },
   {
    "duration": 10,
    "start_time": "2022-08-12T08:21:44.567Z"
   },
   {
    "duration": 6,
    "start_time": "2022-08-12T08:22:40.183Z"
   },
   {
    "duration": 7,
    "start_time": "2022-08-12T08:22:53.364Z"
   },
   {
    "duration": 7,
    "start_time": "2022-08-12T08:23:58.943Z"
   },
   {
    "duration": 8,
    "start_time": "2022-08-12T08:23:59.683Z"
   },
   {
    "duration": 10,
    "start_time": "2022-08-12T08:24:00.296Z"
   },
   {
    "duration": 6,
    "start_time": "2022-08-12T08:25:00.114Z"
   },
   {
    "duration": 4,
    "start_time": "2022-08-12T08:25:18.144Z"
   },
   {
    "duration": 10,
    "start_time": "2022-08-12T08:29:27.924Z"
   },
   {
    "duration": 13,
    "start_time": "2022-08-12T08:29:57.536Z"
   },
   {
    "duration": 6,
    "start_time": "2022-08-12T08:30:00.235Z"
   },
   {
    "duration": 9,
    "start_time": "2022-08-12T08:30:42.724Z"
   },
   {
    "duration": 1547,
    "start_time": "2022-08-12T08:30:52.760Z"
   },
   {
    "duration": 17,
    "start_time": "2022-08-12T08:30:54.310Z"
   },
   {
    "duration": 22,
    "start_time": "2022-08-12T08:30:54.329Z"
   },
   {
    "duration": 18,
    "start_time": "2022-08-12T08:30:54.354Z"
   },
   {
    "duration": 30,
    "start_time": "2022-08-12T08:30:54.375Z"
   },
   {
    "duration": 18,
    "start_time": "2022-08-12T08:30:54.407Z"
   },
   {
    "duration": 30,
    "start_time": "2022-08-12T08:30:54.427Z"
   },
   {
    "duration": 17,
    "start_time": "2022-08-12T08:30:54.458Z"
   },
   {
    "duration": 6,
    "start_time": "2022-08-12T08:30:54.477Z"
   },
   {
    "duration": 13,
    "start_time": "2022-08-12T08:30:54.485Z"
   },
   {
    "duration": 8,
    "start_time": "2022-08-12T08:30:54.500Z"
   },
   {
    "duration": 1078,
    "start_time": "2022-08-12T08:30:54.509Z"
   },
   {
    "duration": 22,
    "start_time": "2022-08-12T08:30:55.589Z"
   },
   {
    "duration": 6102,
    "start_time": "2022-08-12T08:30:55.616Z"
   },
   {
    "duration": 6,
    "start_time": "2022-08-12T08:31:01.720Z"
   },
   {
    "duration": 10,
    "start_time": "2022-08-12T08:31:01.728Z"
   },
   {
    "duration": 22,
    "start_time": "2022-08-12T08:31:01.739Z"
   },
   {
    "duration": 38,
    "start_time": "2022-08-12T08:31:01.763Z"
   },
   {
    "duration": 18,
    "start_time": "2022-08-12T08:31:01.803Z"
   },
   {
    "duration": 17,
    "start_time": "2022-08-12T08:31:01.823Z"
   },
   {
    "duration": 16,
    "start_time": "2022-08-12T08:31:01.841Z"
   },
   {
    "duration": 4,
    "start_time": "2022-08-12T08:31:01.859Z"
   },
   {
    "duration": 20,
    "start_time": "2022-08-12T08:31:01.865Z"
   },
   {
    "duration": 16,
    "start_time": "2022-08-12T08:31:01.887Z"
   },
   {
    "duration": 19,
    "start_time": "2022-08-12T08:31:01.905Z"
   },
   {
    "duration": 7,
    "start_time": "2022-08-12T08:31:01.925Z"
   },
   {
    "duration": 28,
    "start_time": "2022-08-12T08:31:01.933Z"
   },
   {
    "duration": 18,
    "start_time": "2022-08-12T08:31:01.963Z"
   },
   {
    "duration": 13,
    "start_time": "2022-08-12T08:31:01.983Z"
   },
   {
    "duration": 12,
    "start_time": "2022-08-12T08:31:01.998Z"
   },
   {
    "duration": 121,
    "start_time": "2022-08-12T08:31:02.011Z"
   },
   {
    "duration": 0,
    "start_time": "2022-08-12T08:31:02.135Z"
   },
   {
    "duration": 0,
    "start_time": "2022-08-12T08:31:02.136Z"
   },
   {
    "duration": 0,
    "start_time": "2022-08-12T08:31:02.137Z"
   },
   {
    "duration": 0,
    "start_time": "2022-08-12T08:31:02.138Z"
   },
   {
    "duration": 0,
    "start_time": "2022-08-12T08:31:02.139Z"
   },
   {
    "duration": 0,
    "start_time": "2022-08-12T08:31:02.140Z"
   },
   {
    "duration": 1,
    "start_time": "2022-08-12T08:31:02.140Z"
   },
   {
    "duration": 0,
    "start_time": "2022-08-12T08:31:02.141Z"
   },
   {
    "duration": 0,
    "start_time": "2022-08-12T08:31:02.142Z"
   },
   {
    "duration": 0,
    "start_time": "2022-08-12T08:31:02.143Z"
   },
   {
    "duration": 0,
    "start_time": "2022-08-12T08:31:02.144Z"
   },
   {
    "duration": 0,
    "start_time": "2022-08-12T08:31:02.145Z"
   },
   {
    "duration": 0,
    "start_time": "2022-08-12T08:31:02.146Z"
   },
   {
    "duration": 0,
    "start_time": "2022-08-12T08:31:02.147Z"
   },
   {
    "duration": 0,
    "start_time": "2022-08-12T08:31:02.148Z"
   },
   {
    "duration": 0,
    "start_time": "2022-08-12T08:31:02.149Z"
   },
   {
    "duration": 6,
    "start_time": "2022-08-12T08:41:08.028Z"
   },
   {
    "duration": 13,
    "start_time": "2022-08-12T08:41:30.564Z"
   },
   {
    "duration": 14,
    "start_time": "2022-08-12T08:41:37.538Z"
   },
   {
    "duration": 10,
    "start_time": "2022-08-12T08:42:23.232Z"
   },
   {
    "duration": 15,
    "start_time": "2022-08-12T08:44:39.503Z"
   },
   {
    "duration": 21,
    "start_time": "2022-08-12T08:46:23.493Z"
   },
   {
    "duration": 44,
    "start_time": "2022-08-12T08:46:53.437Z"
   },
   {
    "duration": 15,
    "start_time": "2022-08-12T08:46:57.705Z"
   },
   {
    "duration": 17,
    "start_time": "2022-08-12T08:46:58.260Z"
   },
   {
    "duration": 6,
    "start_time": "2022-08-12T08:46:59.215Z"
   },
   {
    "duration": 4,
    "start_time": "2022-08-12T08:46:59.754Z"
   },
   {
    "duration": 14,
    "start_time": "2022-08-12T08:47:00.453Z"
   },
   {
    "duration": 14,
    "start_time": "2022-08-12T08:47:00.694Z"
   },
   {
    "duration": 21,
    "start_time": "2022-08-12T08:47:01.093Z"
   },
   {
    "duration": 5,
    "start_time": "2022-08-12T08:47:01.314Z"
   },
   {
    "duration": 6,
    "start_time": "2022-08-12T08:47:01.541Z"
   },
   {
    "duration": 6,
    "start_time": "2022-08-12T08:47:01.761Z"
   },
   {
    "duration": 971,
    "start_time": "2022-08-12T08:47:02.194Z"
   },
   {
    "duration": 2,
    "start_time": "2022-08-12T08:47:03.525Z"
   },
   {
    "duration": 5020,
    "start_time": "2022-08-12T08:47:03.902Z"
   },
   {
    "duration": 46,
    "start_time": "2022-08-12T08:48:36.481Z"
   },
   {
    "duration": 1517,
    "start_time": "2022-08-12T08:56:57.100Z"
   },
   {
    "duration": 15,
    "start_time": "2022-08-12T08:56:58.621Z"
   },
   {
    "duration": 20,
    "start_time": "2022-08-12T08:56:58.637Z"
   },
   {
    "duration": 4,
    "start_time": "2022-08-12T08:56:58.659Z"
   },
   {
    "duration": 6,
    "start_time": "2022-08-12T08:56:58.665Z"
   },
   {
    "duration": 16,
    "start_time": "2022-08-12T08:56:58.673Z"
   },
   {
    "duration": 17,
    "start_time": "2022-08-12T08:56:58.708Z"
   },
   {
    "duration": 13,
    "start_time": "2022-08-12T08:56:58.730Z"
   },
   {
    "duration": 4,
    "start_time": "2022-08-12T08:56:58.745Z"
   },
   {
    "duration": 5,
    "start_time": "2022-08-12T08:56:58.751Z"
   },
   {
    "duration": 6,
    "start_time": "2022-08-12T08:56:58.757Z"
   },
   {
    "duration": 1174,
    "start_time": "2022-08-12T08:56:58.765Z"
   },
   {
    "duration": 22,
    "start_time": "2022-08-12T08:56:59.940Z"
   },
   {
    "duration": 5566,
    "start_time": "2022-08-12T08:56:59.965Z"
   },
   {
    "duration": 7,
    "start_time": "2022-08-12T08:57:05.533Z"
   },
   {
    "duration": 5,
    "start_time": "2022-08-12T08:57:05.541Z"
   },
   {
    "duration": 10,
    "start_time": "2022-08-12T08:57:05.548Z"
   },
   {
    "duration": 14,
    "start_time": "2022-08-12T08:57:05.560Z"
   },
   {
    "duration": 17,
    "start_time": "2022-08-12T08:57:05.576Z"
   },
   {
    "duration": 27,
    "start_time": "2022-08-12T08:57:05.595Z"
   },
   {
    "duration": 21,
    "start_time": "2022-08-12T08:57:05.627Z"
   },
   {
    "duration": 5,
    "start_time": "2022-08-12T08:57:05.650Z"
   },
   {
    "duration": 22,
    "start_time": "2022-08-12T08:57:05.656Z"
   },
   {
    "duration": 129,
    "start_time": "2022-08-12T08:57:05.681Z"
   },
   {
    "duration": 132,
    "start_time": "2022-08-12T08:57:05.812Z"
   },
   {
    "duration": 122,
    "start_time": "2022-08-12T08:57:05.946Z"
   },
   {
    "duration": 2369,
    "start_time": "2022-08-12T08:57:06.069Z"
   },
   {
    "duration": 6892,
    "start_time": "2022-08-12T08:57:08.440Z"
   },
   {
    "duration": 135,
    "start_time": "2022-08-12T08:57:15.334Z"
   },
   {
    "duration": 0,
    "start_time": "2022-08-12T08:57:15.471Z"
   },
   {
    "duration": 0,
    "start_time": "2022-08-12T08:57:15.472Z"
   },
   {
    "duration": 0,
    "start_time": "2022-08-12T08:57:15.473Z"
   },
   {
    "duration": 0,
    "start_time": "2022-08-12T08:57:15.475Z"
   },
   {
    "duration": 0,
    "start_time": "2022-08-12T08:57:15.476Z"
   },
   {
    "duration": 0,
    "start_time": "2022-08-12T08:57:15.477Z"
   },
   {
    "duration": 0,
    "start_time": "2022-08-12T08:57:15.478Z"
   },
   {
    "duration": 0,
    "start_time": "2022-08-12T08:57:15.479Z"
   },
   {
    "duration": 0,
    "start_time": "2022-08-12T08:57:15.480Z"
   },
   {
    "duration": 0,
    "start_time": "2022-08-12T08:57:15.481Z"
   },
   {
    "duration": 0,
    "start_time": "2022-08-12T08:57:15.482Z"
   },
   {
    "duration": 91,
    "start_time": "2022-08-12T08:59:16.426Z"
   },
   {
    "duration": 1513,
    "start_time": "2022-08-12T08:59:30.494Z"
   },
   {
    "duration": 14,
    "start_time": "2022-08-12T08:59:32.008Z"
   },
   {
    "duration": 39,
    "start_time": "2022-08-12T08:59:32.027Z"
   },
   {
    "duration": 5,
    "start_time": "2022-08-12T08:59:32.068Z"
   },
   {
    "duration": 21,
    "start_time": "2022-08-12T08:59:32.075Z"
   },
   {
    "duration": 52,
    "start_time": "2022-08-12T08:59:32.098Z"
   },
   {
    "duration": 27,
    "start_time": "2022-08-12T08:59:32.152Z"
   },
   {
    "duration": 43,
    "start_time": "2022-08-12T08:59:32.181Z"
   },
   {
    "duration": 12,
    "start_time": "2022-08-12T08:59:32.226Z"
   },
   {
    "duration": 37,
    "start_time": "2022-08-12T08:59:32.239Z"
   },
   {
    "duration": 55,
    "start_time": "2022-08-12T08:59:32.277Z"
   },
   {
    "duration": 1028,
    "start_time": "2022-08-12T08:59:32.334Z"
   },
   {
    "duration": 19,
    "start_time": "2022-08-12T08:59:33.364Z"
   },
   {
    "duration": 5096,
    "start_time": "2022-08-12T08:59:33.386Z"
   },
   {
    "duration": 6,
    "start_time": "2022-08-12T08:59:38.484Z"
   },
   {
    "duration": 41,
    "start_time": "2022-08-12T08:59:38.491Z"
   },
   {
    "duration": 7,
    "start_time": "2022-08-12T08:59:38.533Z"
   },
   {
    "duration": 10,
    "start_time": "2022-08-12T08:59:38.542Z"
   },
   {
    "duration": 5,
    "start_time": "2022-08-12T08:59:38.554Z"
   },
   {
    "duration": 12,
    "start_time": "2022-08-12T08:59:38.560Z"
   },
   {
    "duration": 13,
    "start_time": "2022-08-12T08:59:38.573Z"
   },
   {
    "duration": 4,
    "start_time": "2022-08-12T08:59:38.587Z"
   },
   {
    "duration": 23,
    "start_time": "2022-08-12T08:59:38.593Z"
   },
   {
    "duration": 96,
    "start_time": "2022-08-12T08:59:38.617Z"
   },
   {
    "duration": 135,
    "start_time": "2022-08-12T08:59:38.716Z"
   },
   {
    "duration": 161,
    "start_time": "2022-08-12T08:59:38.853Z"
   },
   {
    "duration": 2360,
    "start_time": "2022-08-12T08:59:39.024Z"
   },
   {
    "duration": 6810,
    "start_time": "2022-08-12T08:59:41.386Z"
   },
   {
    "duration": 214,
    "start_time": "2022-08-12T08:59:48.197Z"
   },
   {
    "duration": 2491,
    "start_time": "2022-08-12T08:59:48.419Z"
   },
   {
    "duration": 22,
    "start_time": "2022-08-12T08:59:50.912Z"
   },
   {
    "duration": 117,
    "start_time": "2022-08-12T08:59:50.936Z"
   },
   {
    "duration": 0,
    "start_time": "2022-08-12T08:59:51.055Z"
   },
   {
    "duration": 0,
    "start_time": "2022-08-12T08:59:51.056Z"
   },
   {
    "duration": 0,
    "start_time": "2022-08-12T08:59:51.056Z"
   },
   {
    "duration": 0,
    "start_time": "2022-08-12T08:59:51.057Z"
   },
   {
    "duration": 0,
    "start_time": "2022-08-12T08:59:51.058Z"
   },
   {
    "duration": 0,
    "start_time": "2022-08-12T08:59:51.059Z"
   },
   {
    "duration": 0,
    "start_time": "2022-08-12T08:59:51.060Z"
   },
   {
    "duration": 0,
    "start_time": "2022-08-12T08:59:51.061Z"
   },
   {
    "duration": 96,
    "start_time": "2022-08-12T09:00:45.725Z"
   },
   {
    "duration": 3067,
    "start_time": "2022-08-12T09:00:46.749Z"
   },
   {
    "duration": 9331,
    "start_time": "2022-08-12T09:00:53.181Z"
   },
   {
    "duration": 18,
    "start_time": "2022-08-12T09:01:02.520Z"
   },
   {
    "duration": 90,
    "start_time": "2022-08-12T09:01:02.540Z"
   },
   {
    "duration": 1715,
    "start_time": "2022-08-12T09:01:02.717Z"
   },
   {
    "duration": 5365,
    "start_time": "2022-08-12T09:01:04.433Z"
   },
   {
    "duration": 29,
    "start_time": "2022-08-12T09:01:09.800Z"
   },
   {
    "duration": 149,
    "start_time": "2022-08-12T09:01:09.832Z"
   },
   {
    "duration": 8,
    "start_time": "2022-08-12T09:08:22.063Z"
   },
   {
    "duration": 5,
    "start_time": "2022-08-12T09:08:33.980Z"
   },
   {
    "duration": 7,
    "start_time": "2022-08-12T09:09:55.199Z"
   },
   {
    "duration": 4,
    "start_time": "2022-08-12T09:14:37.983Z"
   },
   {
    "duration": 14,
    "start_time": "2022-08-12T09:14:49.925Z"
   },
   {
    "duration": 9,
    "start_time": "2022-08-12T09:14:50.721Z"
   },
   {
    "duration": 12,
    "start_time": "2022-08-12T09:14:56.455Z"
   },
   {
    "duration": 6,
    "start_time": "2022-08-12T09:14:57.026Z"
   },
   {
    "duration": 26,
    "start_time": "2022-08-12T09:15:20.414Z"
   },
   {
    "duration": 11,
    "start_time": "2022-08-12T09:15:26.143Z"
   },
   {
    "duration": 19,
    "start_time": "2022-08-12T09:15:41.519Z"
   },
   {
    "duration": 5,
    "start_time": "2022-08-12T09:15:42.557Z"
   },
   {
    "duration": 12,
    "start_time": "2022-08-12T09:15:51.928Z"
   },
   {
    "duration": 5,
    "start_time": "2022-08-12T09:15:52.795Z"
   },
   {
    "duration": 6,
    "start_time": "2022-08-12T09:17:03.263Z"
   },
   {
    "duration": 12,
    "start_time": "2022-08-12T09:17:12.170Z"
   },
   {
    "duration": 11,
    "start_time": "2022-08-12T09:17:12.795Z"
   },
   {
    "duration": 12,
    "start_time": "2022-08-12T09:17:17.542Z"
   },
   {
    "duration": 4,
    "start_time": "2022-08-12T09:17:18.475Z"
   },
   {
    "duration": 14,
    "start_time": "2022-08-12T09:17:23.442Z"
   },
   {
    "duration": 6,
    "start_time": "2022-08-12T09:17:24.129Z"
   },
   {
    "duration": 22,
    "start_time": "2022-08-12T09:17:29.403Z"
   },
   {
    "duration": 6,
    "start_time": "2022-08-12T09:17:30.033Z"
   },
   {
    "duration": 11,
    "start_time": "2022-08-12T09:17:38.275Z"
   },
   {
    "duration": 4,
    "start_time": "2022-08-12T09:17:38.737Z"
   },
   {
    "duration": 20,
    "start_time": "2022-08-12T09:17:54.991Z"
   },
   {
    "duration": 6,
    "start_time": "2022-08-12T09:17:55.674Z"
   },
   {
    "duration": 13,
    "start_time": "2022-08-12T09:18:00.527Z"
   },
   {
    "duration": 5,
    "start_time": "2022-08-12T09:18:00.926Z"
   },
   {
    "duration": 13,
    "start_time": "2022-08-12T09:18:09.863Z"
   },
   {
    "duration": 6,
    "start_time": "2022-08-12T09:18:10.536Z"
   },
   {
    "duration": 1520,
    "start_time": "2022-08-12T09:18:23.833Z"
   },
   {
    "duration": 13,
    "start_time": "2022-08-12T09:18:25.355Z"
   },
   {
    "duration": 20,
    "start_time": "2022-08-12T09:18:25.370Z"
   },
   {
    "duration": 4,
    "start_time": "2022-08-12T09:18:25.392Z"
   },
   {
    "duration": 33,
    "start_time": "2022-08-12T09:18:25.398Z"
   },
   {
    "duration": 18,
    "start_time": "2022-08-12T09:18:25.433Z"
   },
   {
    "duration": 17,
    "start_time": "2022-08-12T09:18:25.452Z"
   },
   {
    "duration": 80,
    "start_time": "2022-08-12T09:18:25.471Z"
   },
   {
    "duration": 9,
    "start_time": "2022-08-12T09:18:25.553Z"
   },
   {
    "duration": 32,
    "start_time": "2022-08-12T09:18:25.564Z"
   },
   {
    "duration": 32,
    "start_time": "2022-08-12T09:18:25.598Z"
   },
   {
    "duration": 1033,
    "start_time": "2022-08-12T09:18:25.632Z"
   },
   {
    "duration": 20,
    "start_time": "2022-08-12T09:18:26.667Z"
   },
   {
    "duration": 5584,
    "start_time": "2022-08-12T09:18:26.688Z"
   },
   {
    "duration": 7,
    "start_time": "2022-08-12T09:18:32.274Z"
   },
   {
    "duration": 6,
    "start_time": "2022-08-12T09:18:32.282Z"
   },
   {
    "duration": 17,
    "start_time": "2022-08-12T09:18:32.300Z"
   },
   {
    "duration": 25,
    "start_time": "2022-08-12T09:18:32.322Z"
   },
   {
    "duration": 6,
    "start_time": "2022-08-12T09:18:32.349Z"
   },
   {
    "duration": 12,
    "start_time": "2022-08-12T09:18:32.356Z"
   },
   {
    "duration": 16,
    "start_time": "2022-08-12T09:18:32.370Z"
   },
   {
    "duration": 4,
    "start_time": "2022-08-12T09:18:32.388Z"
   },
   {
    "duration": 15,
    "start_time": "2022-08-12T09:18:32.412Z"
   },
   {
    "duration": 86,
    "start_time": "2022-08-12T09:18:32.434Z"
   },
   {
    "duration": 225,
    "start_time": "2022-08-12T09:18:32.522Z"
   },
   {
    "duration": 105,
    "start_time": "2022-08-12T09:18:32.749Z"
   },
   {
    "duration": 2538,
    "start_time": "2022-08-12T09:18:32.856Z"
   },
   {
    "duration": 6713,
    "start_time": "2022-08-12T09:18:35.400Z"
   },
   {
    "duration": 99,
    "start_time": "2022-08-12T09:18:42.115Z"
   },
   {
    "duration": 2499,
    "start_time": "2022-08-12T09:18:42.216Z"
   },
   {
    "duration": 13,
    "start_time": "2022-08-12T09:18:44.725Z"
   },
   {
    "duration": 20,
    "start_time": "2022-08-12T09:18:44.740Z"
   },
   {
    "duration": 253,
    "start_time": "2022-08-12T09:18:44.762Z"
   },
   {
    "duration": 2854,
    "start_time": "2022-08-12T09:18:45.017Z"
   },
   {
    "duration": 8690,
    "start_time": "2022-08-12T09:18:47.873Z"
   },
   {
    "duration": 12,
    "start_time": "2022-08-12T09:18:56.565Z"
   },
   {
    "duration": 32,
    "start_time": "2022-08-12T09:18:56.579Z"
   },
   {
    "duration": 116,
    "start_time": "2022-08-12T09:18:56.612Z"
   },
   {
    "duration": 1416,
    "start_time": "2022-08-12T09:18:56.731Z"
   },
   {
    "duration": 5179,
    "start_time": "2022-08-12T09:18:58.148Z"
   },
   {
    "duration": 23,
    "start_time": "2022-08-12T09:19:03.328Z"
   },
   {
    "duration": 141,
    "start_time": "2022-08-12T09:19:03.353Z"
   },
   {
    "duration": 115,
    "start_time": "2022-08-12T09:28:33.525Z"
   },
   {
    "duration": 10,
    "start_time": "2022-08-12T09:29:58.383Z"
   },
   {
    "duration": 46,
    "start_time": "2022-08-12T09:30:56.631Z"
   },
   {
    "duration": 1431,
    "start_time": "2022-08-12T09:31:06.537Z"
   },
   {
    "duration": 12,
    "start_time": "2022-08-12T09:31:07.970Z"
   },
   {
    "duration": 27,
    "start_time": "2022-08-12T09:31:07.984Z"
   },
   {
    "duration": 10,
    "start_time": "2022-08-12T09:31:08.018Z"
   },
   {
    "duration": 6,
    "start_time": "2022-08-12T09:31:08.029Z"
   },
   {
    "duration": 18,
    "start_time": "2022-08-12T09:31:08.037Z"
   },
   {
    "duration": 11,
    "start_time": "2022-08-12T09:31:08.057Z"
   },
   {
    "duration": 11,
    "start_time": "2022-08-12T09:31:08.070Z"
   },
   {
    "duration": 4,
    "start_time": "2022-08-12T09:31:08.082Z"
   },
   {
    "duration": 4,
    "start_time": "2022-08-12T09:31:08.088Z"
   },
   {
    "duration": 8,
    "start_time": "2022-08-12T09:31:08.094Z"
   },
   {
    "duration": 1007,
    "start_time": "2022-08-12T09:31:08.103Z"
   },
   {
    "duration": 24,
    "start_time": "2022-08-12T09:31:09.116Z"
   },
   {
    "duration": 5518,
    "start_time": "2022-08-12T09:31:09.141Z"
   },
   {
    "duration": 7,
    "start_time": "2022-08-12T09:31:14.661Z"
   },
   {
    "duration": 11,
    "start_time": "2022-08-12T09:31:14.670Z"
   },
   {
    "duration": 13,
    "start_time": "2022-08-12T09:31:14.682Z"
   },
   {
    "duration": 38,
    "start_time": "2022-08-12T09:31:14.700Z"
   },
   {
    "duration": 4,
    "start_time": "2022-08-12T09:31:14.740Z"
   },
   {
    "duration": 13,
    "start_time": "2022-08-12T09:31:14.745Z"
   },
   {
    "duration": 13,
    "start_time": "2022-08-12T09:31:14.760Z"
   },
   {
    "duration": 5,
    "start_time": "2022-08-12T09:31:14.775Z"
   },
   {
    "duration": 7,
    "start_time": "2022-08-12T09:31:14.781Z"
   },
   {
    "duration": 22,
    "start_time": "2022-08-12T09:31:14.789Z"
   },
   {
    "duration": 135,
    "start_time": "2022-08-12T09:31:14.812Z"
   },
   {
    "duration": 0,
    "start_time": "2022-08-12T09:31:14.949Z"
   },
   {
    "duration": 0,
    "start_time": "2022-08-12T09:31:14.950Z"
   },
   {
    "duration": 0,
    "start_time": "2022-08-12T09:31:14.951Z"
   },
   {
    "duration": 0,
    "start_time": "2022-08-12T09:31:14.952Z"
   },
   {
    "duration": 0,
    "start_time": "2022-08-12T09:31:14.953Z"
   },
   {
    "duration": 0,
    "start_time": "2022-08-12T09:31:14.954Z"
   },
   {
    "duration": 0,
    "start_time": "2022-08-12T09:31:14.955Z"
   },
   {
    "duration": 0,
    "start_time": "2022-08-12T09:31:14.956Z"
   },
   {
    "duration": 0,
    "start_time": "2022-08-12T09:31:14.957Z"
   },
   {
    "duration": 0,
    "start_time": "2022-08-12T09:31:14.958Z"
   },
   {
    "duration": 0,
    "start_time": "2022-08-12T09:31:14.959Z"
   },
   {
    "duration": 0,
    "start_time": "2022-08-12T09:31:14.960Z"
   },
   {
    "duration": 0,
    "start_time": "2022-08-12T09:31:14.961Z"
   },
   {
    "duration": 0,
    "start_time": "2022-08-12T09:31:14.962Z"
   },
   {
    "duration": 0,
    "start_time": "2022-08-12T09:31:14.963Z"
   },
   {
    "duration": 0,
    "start_time": "2022-08-12T09:31:14.964Z"
   },
   {
    "duration": 0,
    "start_time": "2022-08-12T09:31:14.965Z"
   },
   {
    "duration": 0,
    "start_time": "2022-08-12T09:31:14.965Z"
   },
   {
    "duration": 0,
    "start_time": "2022-08-12T09:31:14.966Z"
   },
   {
    "duration": 4,
    "start_time": "2022-08-12T09:31:45.131Z"
   },
   {
    "duration": 7,
    "start_time": "2022-08-12T09:31:51.775Z"
   },
   {
    "duration": 8,
    "start_time": "2022-08-12T09:32:03.335Z"
   },
   {
    "duration": 1480,
    "start_time": "2022-08-12T09:32:11.846Z"
   },
   {
    "duration": 14,
    "start_time": "2022-08-12T09:32:13.329Z"
   },
   {
    "duration": 42,
    "start_time": "2022-08-12T09:32:13.345Z"
   },
   {
    "duration": 29,
    "start_time": "2022-08-12T09:32:13.388Z"
   },
   {
    "duration": 12,
    "start_time": "2022-08-12T09:32:13.423Z"
   },
   {
    "duration": 13,
    "start_time": "2022-08-12T09:32:13.437Z"
   },
   {
    "duration": 19,
    "start_time": "2022-08-12T09:32:13.452Z"
   },
   {
    "duration": 15,
    "start_time": "2022-08-12T09:32:13.473Z"
   },
   {
    "duration": 5,
    "start_time": "2022-08-12T09:32:13.489Z"
   },
   {
    "duration": 40,
    "start_time": "2022-08-12T09:32:13.495Z"
   },
   {
    "duration": 22,
    "start_time": "2022-08-12T09:32:13.537Z"
   },
   {
    "duration": 1078,
    "start_time": "2022-08-12T09:32:13.561Z"
   },
   {
    "duration": 21,
    "start_time": "2022-08-12T09:32:14.640Z"
   },
   {
    "duration": 6068,
    "start_time": "2022-08-12T09:32:14.664Z"
   },
   {
    "duration": 7,
    "start_time": "2022-08-12T09:32:20.734Z"
   },
   {
    "duration": 63,
    "start_time": "2022-08-12T09:32:20.742Z"
   },
   {
    "duration": 61,
    "start_time": "2022-08-12T09:32:20.807Z"
   },
   {
    "duration": 45,
    "start_time": "2022-08-12T09:32:20.870Z"
   },
   {
    "duration": 40,
    "start_time": "2022-08-12T09:32:20.919Z"
   },
   {
    "duration": 50,
    "start_time": "2022-08-12T09:32:20.961Z"
   },
   {
    "duration": 53,
    "start_time": "2022-08-12T09:32:21.020Z"
   },
   {
    "duration": 64,
    "start_time": "2022-08-12T09:32:21.074Z"
   },
   {
    "duration": 28,
    "start_time": "2022-08-12T09:32:21.140Z"
   },
   {
    "duration": 63,
    "start_time": "2022-08-12T09:32:21.169Z"
   },
   {
    "duration": 22,
    "start_time": "2022-08-12T09:32:21.234Z"
   },
   {
    "duration": 266,
    "start_time": "2022-08-12T09:32:21.258Z"
   },
   {
    "duration": 221,
    "start_time": "2022-08-12T09:32:21.528Z"
   },
   {
    "duration": 141,
    "start_time": "2022-08-12T09:32:21.751Z"
   },
   {
    "duration": 2149,
    "start_time": "2022-08-12T09:32:21.894Z"
   },
   {
    "duration": 6596,
    "start_time": "2022-08-12T09:32:24.045Z"
   },
   {
    "duration": 158,
    "start_time": "2022-08-12T09:32:30.644Z"
   },
   {
    "duration": 2472,
    "start_time": "2022-08-12T09:32:30.804Z"
   },
   {
    "duration": 138,
    "start_time": "2022-08-12T09:32:33.278Z"
   },
   {
    "duration": 0,
    "start_time": "2022-08-12T09:32:33.420Z"
   },
   {
    "duration": 0,
    "start_time": "2022-08-12T09:32:33.421Z"
   },
   {
    "duration": 0,
    "start_time": "2022-08-12T09:32:33.421Z"
   },
   {
    "duration": 0,
    "start_time": "2022-08-12T09:32:33.422Z"
   },
   {
    "duration": 0,
    "start_time": "2022-08-12T09:32:33.423Z"
   },
   {
    "duration": 0,
    "start_time": "2022-08-12T09:32:33.423Z"
   },
   {
    "duration": 0,
    "start_time": "2022-08-12T09:32:33.424Z"
   },
   {
    "duration": 0,
    "start_time": "2022-08-12T09:32:33.425Z"
   },
   {
    "duration": 0,
    "start_time": "2022-08-12T09:32:33.426Z"
   },
   {
    "duration": 0,
    "start_time": "2022-08-12T09:32:33.426Z"
   },
   {
    "duration": 0,
    "start_time": "2022-08-12T09:32:33.427Z"
   },
   {
    "duration": 13,
    "start_time": "2022-08-12T09:34:25.939Z"
   },
   {
    "duration": 5,
    "start_time": "2022-08-12T09:35:01.559Z"
   },
   {
    "duration": 1479,
    "start_time": "2022-08-12T09:35:11.331Z"
   },
   {
    "duration": 17,
    "start_time": "2022-08-12T09:35:12.812Z"
   },
   {
    "duration": 19,
    "start_time": "2022-08-12T09:35:12.835Z"
   },
   {
    "duration": 4,
    "start_time": "2022-08-12T09:35:12.856Z"
   },
   {
    "duration": 5,
    "start_time": "2022-08-12T09:35:12.862Z"
   },
   {
    "duration": 13,
    "start_time": "2022-08-12T09:35:12.869Z"
   },
   {
    "duration": 20,
    "start_time": "2022-08-12T09:35:12.883Z"
   },
   {
    "duration": 41,
    "start_time": "2022-08-12T09:35:12.904Z"
   },
   {
    "duration": 5,
    "start_time": "2022-08-12T09:35:12.947Z"
   },
   {
    "duration": 5,
    "start_time": "2022-08-12T09:35:12.955Z"
   },
   {
    "duration": 6,
    "start_time": "2022-08-12T09:35:12.961Z"
   },
   {
    "duration": 1077,
    "start_time": "2022-08-12T09:35:12.969Z"
   },
   {
    "duration": 19,
    "start_time": "2022-08-12T09:35:14.048Z"
   },
   {
    "duration": 5799,
    "start_time": "2022-08-12T09:35:14.069Z"
   },
   {
    "duration": 7,
    "start_time": "2022-08-12T09:35:19.869Z"
   },
   {
    "duration": 7,
    "start_time": "2022-08-12T09:35:19.877Z"
   },
   {
    "duration": 23,
    "start_time": "2022-08-12T09:35:19.885Z"
   },
   {
    "duration": 32,
    "start_time": "2022-08-12T09:35:19.911Z"
   },
   {
    "duration": 4,
    "start_time": "2022-08-12T09:35:19.944Z"
   },
   {
    "duration": 14,
    "start_time": "2022-08-12T09:35:19.950Z"
   },
   {
    "duration": 11,
    "start_time": "2022-08-12T09:35:19.965Z"
   },
   {
    "duration": 4,
    "start_time": "2022-08-12T09:35:19.978Z"
   },
   {
    "duration": 10,
    "start_time": "2022-08-12T09:35:19.983Z"
   },
   {
    "duration": 42,
    "start_time": "2022-08-12T09:35:19.994Z"
   },
   {
    "duration": 14,
    "start_time": "2022-08-12T09:35:20.038Z"
   },
   {
    "duration": 75,
    "start_time": "2022-08-12T09:35:20.054Z"
   },
   {
    "duration": 185,
    "start_time": "2022-08-12T09:35:20.130Z"
   },
   {
    "duration": 135,
    "start_time": "2022-08-12T09:35:20.319Z"
   },
   {
    "duration": 2585,
    "start_time": "2022-08-12T09:35:20.457Z"
   },
   {
    "duration": 6694,
    "start_time": "2022-08-12T09:35:23.044Z"
   },
   {
    "duration": 76,
    "start_time": "2022-08-12T09:35:29.740Z"
   },
   {
    "duration": 2635,
    "start_time": "2022-08-12T09:35:29.818Z"
   },
   {
    "duration": 127,
    "start_time": "2022-08-12T09:35:32.455Z"
   },
   {
    "duration": 0,
    "start_time": "2022-08-12T09:35:32.584Z"
   },
   {
    "duration": 0,
    "start_time": "2022-08-12T09:35:32.585Z"
   },
   {
    "duration": 0,
    "start_time": "2022-08-12T09:35:32.586Z"
   },
   {
    "duration": 0,
    "start_time": "2022-08-12T09:35:32.601Z"
   },
   {
    "duration": 0,
    "start_time": "2022-08-12T09:35:32.602Z"
   },
   {
    "duration": 0,
    "start_time": "2022-08-12T09:35:32.604Z"
   },
   {
    "duration": 0,
    "start_time": "2022-08-12T09:35:32.605Z"
   },
   {
    "duration": 0,
    "start_time": "2022-08-12T09:35:32.606Z"
   },
   {
    "duration": 0,
    "start_time": "2022-08-12T09:35:32.607Z"
   },
   {
    "duration": 0,
    "start_time": "2022-08-12T09:35:32.609Z"
   },
   {
    "duration": 0,
    "start_time": "2022-08-12T09:35:32.612Z"
   },
   {
    "duration": 8,
    "start_time": "2022-08-12T09:44:51.472Z"
   },
   {
    "duration": 5,
    "start_time": "2022-08-12T09:45:06.463Z"
   },
   {
    "duration": 10,
    "start_time": "2022-08-12T09:45:43.475Z"
   },
   {
    "duration": 3,
    "start_time": "2022-08-12T09:45:50.275Z"
   },
   {
    "duration": 20,
    "start_time": "2022-08-12T09:45:59.945Z"
   },
   {
    "duration": 10,
    "start_time": "2022-08-12T09:50:18.931Z"
   },
   {
    "duration": 6,
    "start_time": "2022-08-12T09:50:24.464Z"
   },
   {
    "duration": 3,
    "start_time": "2022-08-12T09:50:25.055Z"
   },
   {
    "duration": 19,
    "start_time": "2022-08-12T09:50:30.124Z"
   },
   {
    "duration": 16,
    "start_time": "2022-08-12T09:51:30.217Z"
   },
   {
    "duration": 1531,
    "start_time": "2022-08-12T09:51:39.484Z"
   },
   {
    "duration": 18,
    "start_time": "2022-08-12T09:51:41.023Z"
   },
   {
    "duration": 52,
    "start_time": "2022-08-12T09:51:41.043Z"
   },
   {
    "duration": 29,
    "start_time": "2022-08-12T09:51:41.097Z"
   },
   {
    "duration": 9,
    "start_time": "2022-08-12T09:51:41.128Z"
   },
   {
    "duration": 23,
    "start_time": "2022-08-12T09:51:41.139Z"
   },
   {
    "duration": 16,
    "start_time": "2022-08-12T09:51:41.164Z"
   },
   {
    "duration": 13,
    "start_time": "2022-08-12T09:51:41.182Z"
   },
   {
    "duration": 9,
    "start_time": "2022-08-12T09:51:41.196Z"
   },
   {
    "duration": 23,
    "start_time": "2022-08-12T09:51:41.215Z"
   },
   {
    "duration": 17,
    "start_time": "2022-08-12T09:51:41.239Z"
   },
   {
    "duration": 1101,
    "start_time": "2022-08-12T09:51:41.257Z"
   },
   {
    "duration": 19,
    "start_time": "2022-08-12T09:51:42.360Z"
   },
   {
    "duration": 5288,
    "start_time": "2022-08-12T09:51:42.381Z"
   },
   {
    "duration": 8,
    "start_time": "2022-08-12T09:51:47.671Z"
   },
   {
    "duration": 4,
    "start_time": "2022-08-12T09:51:47.681Z"
   },
   {
    "duration": 16,
    "start_time": "2022-08-12T09:51:47.704Z"
   },
   {
    "duration": 18,
    "start_time": "2022-08-12T09:51:47.722Z"
   },
   {
    "duration": 5,
    "start_time": "2022-08-12T09:51:47.742Z"
   },
   {
    "duration": 11,
    "start_time": "2022-08-12T09:51:47.748Z"
   },
   {
    "duration": 12,
    "start_time": "2022-08-12T09:51:47.761Z"
   },
   {
    "duration": 4,
    "start_time": "2022-08-12T09:51:47.774Z"
   },
   {
    "duration": 28,
    "start_time": "2022-08-12T09:51:47.780Z"
   },
   {
    "duration": 12,
    "start_time": "2022-08-12T09:51:47.817Z"
   },
   {
    "duration": 7,
    "start_time": "2022-08-12T09:51:47.831Z"
   },
   {
    "duration": 4,
    "start_time": "2022-08-12T09:51:47.839Z"
   },
   {
    "duration": 21,
    "start_time": "2022-08-12T09:51:47.844Z"
   },
   {
    "duration": 56,
    "start_time": "2022-08-12T09:51:47.868Z"
   },
   {
    "duration": 126,
    "start_time": "2022-08-12T09:51:48.000Z"
   },
   {
    "duration": 105,
    "start_time": "2022-08-12T09:51:48.130Z"
   },
   {
    "duration": 2338,
    "start_time": "2022-08-12T09:51:48.237Z"
   },
   {
    "duration": 6840,
    "start_time": "2022-08-12T09:51:50.576Z"
   },
   {
    "duration": 108,
    "start_time": "2022-08-12T09:51:57.422Z"
   },
   {
    "duration": 2496,
    "start_time": "2022-08-12T09:51:57.532Z"
   },
   {
    "duration": 134,
    "start_time": "2022-08-12T09:52:00.030Z"
   },
   {
    "duration": 0,
    "start_time": "2022-08-12T09:52:00.166Z"
   },
   {
    "duration": 0,
    "start_time": "2022-08-12T09:52:00.168Z"
   },
   {
    "duration": 0,
    "start_time": "2022-08-12T09:52:00.169Z"
   },
   {
    "duration": 0,
    "start_time": "2022-08-12T09:52:00.171Z"
   },
   {
    "duration": 0,
    "start_time": "2022-08-12T09:52:00.172Z"
   },
   {
    "duration": 0,
    "start_time": "2022-08-12T09:52:00.173Z"
   },
   {
    "duration": 0,
    "start_time": "2022-08-12T09:52:00.175Z"
   },
   {
    "duration": 0,
    "start_time": "2022-08-12T09:52:00.176Z"
   },
   {
    "duration": 0,
    "start_time": "2022-08-12T09:52:00.178Z"
   },
   {
    "duration": 0,
    "start_time": "2022-08-12T09:52:00.179Z"
   },
   {
    "duration": 0,
    "start_time": "2022-08-12T09:52:00.204Z"
   },
   {
    "duration": 6,
    "start_time": "2022-08-12T09:55:03.012Z"
   },
   {
    "duration": 6,
    "start_time": "2022-08-12T09:55:14.998Z"
   },
   {
    "duration": 1583,
    "start_time": "2022-08-13T16:36:24.190Z"
   },
   {
    "duration": 12,
    "start_time": "2022-08-13T16:36:25.775Z"
   },
   {
    "duration": 16,
    "start_time": "2022-08-13T16:36:25.789Z"
   },
   {
    "duration": 5,
    "start_time": "2022-08-13T16:36:25.806Z"
   },
   {
    "duration": 8,
    "start_time": "2022-08-13T16:36:25.812Z"
   },
   {
    "duration": 13,
    "start_time": "2022-08-13T16:36:25.821Z"
   },
   {
    "duration": 12,
    "start_time": "2022-08-13T16:36:25.835Z"
   },
   {
    "duration": 10,
    "start_time": "2022-08-13T16:36:25.849Z"
   },
   {
    "duration": 4,
    "start_time": "2022-08-13T16:36:25.861Z"
   },
   {
    "duration": 4,
    "start_time": "2022-08-13T16:36:25.868Z"
   },
   {
    "duration": 5,
    "start_time": "2022-08-13T16:36:25.874Z"
   },
   {
    "duration": 1025,
    "start_time": "2022-08-13T16:36:25.880Z"
   },
   {
    "duration": 18,
    "start_time": "2022-08-13T16:36:26.907Z"
   },
   {
    "duration": 4393,
    "start_time": "2022-08-13T16:36:26.926Z"
   },
   {
    "duration": 6,
    "start_time": "2022-08-13T16:36:31.321Z"
   },
   {
    "duration": 12,
    "start_time": "2022-08-13T16:36:31.338Z"
   },
   {
    "duration": 12,
    "start_time": "2022-08-13T16:36:31.351Z"
   },
   {
    "duration": 20,
    "start_time": "2022-08-13T16:36:31.364Z"
   },
   {
    "duration": 11,
    "start_time": "2022-08-13T16:36:31.385Z"
   },
   {
    "duration": 20,
    "start_time": "2022-08-13T16:36:31.397Z"
   },
   {
    "duration": 14,
    "start_time": "2022-08-13T16:36:31.419Z"
   },
   {
    "duration": 12,
    "start_time": "2022-08-13T16:36:31.434Z"
   },
   {
    "duration": 16,
    "start_time": "2022-08-13T16:36:31.447Z"
   },
   {
    "duration": 21,
    "start_time": "2022-08-13T16:36:31.464Z"
   },
   {
    "duration": 10,
    "start_time": "2022-08-13T16:36:31.486Z"
   },
   {
    "duration": 15,
    "start_time": "2022-08-13T16:36:31.497Z"
   },
   {
    "duration": 18,
    "start_time": "2022-08-13T16:36:31.513Z"
   },
   {
    "duration": 31,
    "start_time": "2022-08-13T16:36:31.534Z"
   },
   {
    "duration": 15,
    "start_time": "2022-08-13T16:36:31.567Z"
   },
   {
    "duration": 158,
    "start_time": "2022-08-13T16:36:31.583Z"
   },
   {
    "duration": 126,
    "start_time": "2022-08-13T16:36:31.743Z"
   },
   {
    "duration": 93,
    "start_time": "2022-08-13T16:36:31.870Z"
   },
   {
    "duration": 2118,
    "start_time": "2022-08-13T16:36:31.964Z"
   },
   {
    "duration": 6064,
    "start_time": "2022-08-13T16:36:34.083Z"
   },
   {
    "duration": 99,
    "start_time": "2022-08-13T16:36:40.148Z"
   },
   {
    "duration": 2285,
    "start_time": "2022-08-13T16:36:40.339Z"
   },
   {
    "duration": 116,
    "start_time": "2022-08-13T16:36:42.626Z"
   },
   {
    "duration": 0,
    "start_time": "2022-08-13T16:36:42.743Z"
   },
   {
    "duration": 0,
    "start_time": "2022-08-13T16:36:42.744Z"
   },
   {
    "duration": 0,
    "start_time": "2022-08-13T16:36:42.745Z"
   },
   {
    "duration": 0,
    "start_time": "2022-08-13T16:36:42.746Z"
   },
   {
    "duration": 0,
    "start_time": "2022-08-13T16:36:42.747Z"
   },
   {
    "duration": 0,
    "start_time": "2022-08-13T16:36:42.748Z"
   },
   {
    "duration": 0,
    "start_time": "2022-08-13T16:36:42.749Z"
   },
   {
    "duration": 0,
    "start_time": "2022-08-13T16:36:42.750Z"
   },
   {
    "duration": 0,
    "start_time": "2022-08-13T16:36:42.751Z"
   },
   {
    "duration": 0,
    "start_time": "2022-08-13T16:36:42.752Z"
   },
   {
    "duration": 0,
    "start_time": "2022-08-13T16:36:42.753Z"
   },
   {
    "duration": 3,
    "start_time": "2022-08-13T16:39:52.111Z"
   },
   {
    "duration": 3,
    "start_time": "2022-08-13T16:40:25.194Z"
   },
   {
    "duration": 3,
    "start_time": "2022-08-13T16:40:57.283Z"
   },
   {
    "duration": 3,
    "start_time": "2022-08-13T16:42:32.840Z"
   },
   {
    "duration": 1357,
    "start_time": "2022-08-13T16:42:45.337Z"
   },
   {
    "duration": 11,
    "start_time": "2022-08-13T16:42:46.696Z"
   },
   {
    "duration": 15,
    "start_time": "2022-08-13T16:42:46.709Z"
   },
   {
    "duration": 4,
    "start_time": "2022-08-13T16:42:46.726Z"
   },
   {
    "duration": 6,
    "start_time": "2022-08-13T16:42:46.732Z"
   },
   {
    "duration": 12,
    "start_time": "2022-08-13T16:42:46.739Z"
   },
   {
    "duration": 11,
    "start_time": "2022-08-13T16:42:46.752Z"
   },
   {
    "duration": 21,
    "start_time": "2022-08-13T16:42:46.764Z"
   },
   {
    "duration": 4,
    "start_time": "2022-08-13T16:42:46.786Z"
   },
   {
    "duration": 7,
    "start_time": "2022-08-13T16:42:46.792Z"
   },
   {
    "duration": 8,
    "start_time": "2022-08-13T16:42:46.800Z"
   },
   {
    "duration": 1040,
    "start_time": "2022-08-13T16:42:46.809Z"
   },
   {
    "duration": 18,
    "start_time": "2022-08-13T16:42:47.850Z"
   },
   {
    "duration": 4502,
    "start_time": "2022-08-13T16:42:47.869Z"
   },
   {
    "duration": 5,
    "start_time": "2022-08-13T16:42:52.373Z"
   },
   {
    "duration": 4,
    "start_time": "2022-08-13T16:42:52.380Z"
   },
   {
    "duration": 9,
    "start_time": "2022-08-13T16:42:52.385Z"
   },
   {
    "duration": 11,
    "start_time": "2022-08-13T16:42:52.395Z"
   },
   {
    "duration": 4,
    "start_time": "2022-08-13T16:42:52.407Z"
   },
   {
    "duration": 31,
    "start_time": "2022-08-13T16:42:52.413Z"
   },
   {
    "duration": 12,
    "start_time": "2022-08-13T16:42:52.445Z"
   },
   {
    "duration": 4,
    "start_time": "2022-08-13T16:42:52.459Z"
   },
   {
    "duration": 11,
    "start_time": "2022-08-13T16:42:52.464Z"
   },
   {
    "duration": 8,
    "start_time": "2022-08-13T16:42:52.476Z"
   },
   {
    "duration": 5,
    "start_time": "2022-08-13T16:42:52.486Z"
   },
   {
    "duration": 3,
    "start_time": "2022-08-13T16:42:52.492Z"
   },
   {
    "duration": 43,
    "start_time": "2022-08-13T16:42:52.496Z"
   },
   {
    "duration": 6,
    "start_time": "2022-08-13T16:42:52.542Z"
   },
   {
    "duration": 7,
    "start_time": "2022-08-13T16:42:52.549Z"
   },
   {
    "duration": 86,
    "start_time": "2022-08-13T16:42:52.558Z"
   },
   {
    "duration": 209,
    "start_time": "2022-08-13T16:42:52.646Z"
   },
   {
    "duration": 104,
    "start_time": "2022-08-13T16:42:52.856Z"
   },
   {
    "duration": 2151,
    "start_time": "2022-08-13T16:42:52.962Z"
   },
   {
    "duration": 5960,
    "start_time": "2022-08-13T16:42:55.114Z"
   },
   {
    "duration": 73,
    "start_time": "2022-08-13T16:43:01.075Z"
   },
   {
    "duration": 2376,
    "start_time": "2022-08-13T16:43:01.150Z"
   },
   {
    "duration": 3,
    "start_time": "2022-08-13T16:43:03.528Z"
   },
   {
    "duration": 10,
    "start_time": "2022-08-13T16:43:03.538Z"
   },
   {
    "duration": 5,
    "start_time": "2022-08-13T16:43:03.549Z"
   },
   {
    "duration": 183,
    "start_time": "2022-08-13T16:43:03.555Z"
   },
   {
    "duration": 2626,
    "start_time": "2022-08-13T16:43:03.740Z"
   },
   {
    "duration": 7686,
    "start_time": "2022-08-13T16:43:06.368Z"
   },
   {
    "duration": 9,
    "start_time": "2022-08-13T16:43:14.056Z"
   },
   {
    "duration": 6,
    "start_time": "2022-08-13T16:43:14.066Z"
   },
   {
    "duration": 73,
    "start_time": "2022-08-13T16:43:14.074Z"
   },
   {
    "duration": 1166,
    "start_time": "2022-08-13T16:43:14.149Z"
   },
   {
    "duration": 4161,
    "start_time": "2022-08-13T16:43:15.316Z"
   },
   {
    "duration": 21,
    "start_time": "2022-08-13T16:43:19.479Z"
   },
   {
    "duration": 133,
    "start_time": "2022-08-13T16:43:19.501Z"
   },
   {
    "duration": 12,
    "start_time": "2022-08-13T17:24:50.882Z"
   },
   {
    "duration": 15,
    "start_time": "2022-08-13T17:24:54.262Z"
   },
   {
    "duration": 88,
    "start_time": "2022-08-13T17:26:44.977Z"
   },
   {
    "duration": 37,
    "start_time": "2022-08-13T17:26:55.626Z"
   },
   {
    "duration": 34,
    "start_time": "2022-08-13T17:27:08.439Z"
   },
   {
    "duration": 35,
    "start_time": "2022-08-13T17:27:20.709Z"
   },
   {
    "duration": 11,
    "start_time": "2022-08-13T17:35:44.403Z"
   },
   {
    "duration": 114,
    "start_time": "2022-08-13T17:35:54.026Z"
   },
   {
    "duration": 21,
    "start_time": "2022-08-13T17:37:56.634Z"
   },
   {
    "duration": 22,
    "start_time": "2022-08-13T17:38:39.909Z"
   },
   {
    "duration": 119,
    "start_time": "2022-08-13T17:47:30.960Z"
   },
   {
    "duration": 8,
    "start_time": "2022-08-13T17:47:35.179Z"
   },
   {
    "duration": 3,
    "start_time": "2022-08-13T17:47:35.921Z"
   },
   {
    "duration": 13,
    "start_time": "2022-08-13T17:48:05.002Z"
   },
   {
    "duration": 14,
    "start_time": "2022-08-13T17:48:13.465Z"
   },
   {
    "duration": 24,
    "start_time": "2022-08-13T17:48:36.110Z"
   },
   {
    "duration": 133,
    "start_time": "2022-08-13T17:55:48.469Z"
   },
   {
    "duration": 131,
    "start_time": "2022-08-13T17:56:24.660Z"
   },
   {
    "duration": 6,
    "start_time": "2022-08-13T17:58:47.576Z"
   },
   {
    "duration": 132,
    "start_time": "2022-08-13T17:58:48.560Z"
   },
   {
    "duration": 28,
    "start_time": "2022-08-13T18:00:59.078Z"
   },
   {
    "duration": 24,
    "start_time": "2022-08-13T18:02:32.269Z"
   },
   {
    "duration": 153,
    "start_time": "2022-08-13T18:02:59.181Z"
   },
   {
    "duration": 77,
    "start_time": "2022-08-13T18:44:40.024Z"
   },
   {
    "duration": 53,
    "start_time": "2022-08-13T18:44:48.693Z"
   },
   {
    "duration": 104,
    "start_time": "2022-08-13T18:44:55.525Z"
   },
   {
    "duration": 97,
    "start_time": "2022-08-13T18:45:00.883Z"
   },
   {
    "duration": 1545,
    "start_time": "2022-08-13T18:45:28.624Z"
   },
   {
    "duration": 14,
    "start_time": "2022-08-13T18:45:30.171Z"
   },
   {
    "duration": 23,
    "start_time": "2022-08-13T18:45:30.187Z"
   },
   {
    "duration": 5,
    "start_time": "2022-08-13T18:45:30.212Z"
   },
   {
    "duration": 7,
    "start_time": "2022-08-13T18:45:30.218Z"
   },
   {
    "duration": 45,
    "start_time": "2022-08-13T18:45:30.227Z"
   },
   {
    "duration": 14,
    "start_time": "2022-08-13T18:45:30.273Z"
   },
   {
    "duration": 30,
    "start_time": "2022-08-13T18:45:30.289Z"
   },
   {
    "duration": 6,
    "start_time": "2022-08-13T18:45:30.321Z"
   },
   {
    "duration": 15,
    "start_time": "2022-08-13T18:45:30.329Z"
   },
   {
    "duration": 17,
    "start_time": "2022-08-13T18:45:30.345Z"
   },
   {
    "duration": 969,
    "start_time": "2022-08-13T18:45:30.364Z"
   },
   {
    "duration": 23,
    "start_time": "2022-08-13T18:45:31.335Z"
   },
   {
    "duration": 4901,
    "start_time": "2022-08-13T18:45:31.359Z"
   },
   {
    "duration": 6,
    "start_time": "2022-08-13T18:45:36.262Z"
   },
   {
    "duration": 8,
    "start_time": "2022-08-13T18:45:36.269Z"
   },
   {
    "duration": 8,
    "start_time": "2022-08-13T18:45:36.279Z"
   },
   {
    "duration": 12,
    "start_time": "2022-08-13T18:45:36.289Z"
   },
   {
    "duration": 7,
    "start_time": "2022-08-13T18:45:36.302Z"
   },
   {
    "duration": 37,
    "start_time": "2022-08-13T18:45:36.310Z"
   },
   {
    "duration": 18,
    "start_time": "2022-08-13T18:45:36.353Z"
   },
   {
    "duration": 5,
    "start_time": "2022-08-13T18:45:36.373Z"
   },
   {
    "duration": 13,
    "start_time": "2022-08-13T18:45:36.380Z"
   },
   {
    "duration": 9,
    "start_time": "2022-08-13T18:45:36.394Z"
   },
   {
    "duration": 9,
    "start_time": "2022-08-13T18:45:36.405Z"
   },
   {
    "duration": 5,
    "start_time": "2022-08-13T18:45:36.447Z"
   },
   {
    "duration": 18,
    "start_time": "2022-08-13T18:45:36.453Z"
   },
   {
    "duration": 15,
    "start_time": "2022-08-13T18:45:36.474Z"
   },
   {
    "duration": 14,
    "start_time": "2022-08-13T18:45:36.490Z"
   },
   {
    "duration": 47,
    "start_time": "2022-08-13T18:45:36.505Z"
   },
   {
    "duration": 204,
    "start_time": "2022-08-13T18:45:36.554Z"
   },
   {
    "duration": 109,
    "start_time": "2022-08-13T18:45:36.760Z"
   },
   {
    "duration": 2335,
    "start_time": "2022-08-13T18:45:36.870Z"
   },
   {
    "duration": 6664,
    "start_time": "2022-08-13T18:45:39.207Z"
   },
   {
    "duration": 79,
    "start_time": "2022-08-13T18:45:45.873Z"
   },
   {
    "duration": 84,
    "start_time": "2022-08-13T18:45:45.955Z"
   },
   {
    "duration": 107,
    "start_time": "2022-08-13T18:45:46.043Z"
   },
   {
    "duration": 192,
    "start_time": "2022-08-13T18:45:46.152Z"
   },
   {
    "duration": 2988,
    "start_time": "2022-08-13T18:45:46.346Z"
   },
   {
    "duration": 7940,
    "start_time": "2022-08-13T18:45:49.337Z"
   },
   {
    "duration": 10,
    "start_time": "2022-08-13T18:45:57.278Z"
   },
   {
    "duration": 7,
    "start_time": "2022-08-13T18:45:57.289Z"
   },
   {
    "duration": 158,
    "start_time": "2022-08-13T18:45:57.297Z"
   },
   {
    "duration": 1204,
    "start_time": "2022-08-13T18:45:57.459Z"
   },
   {
    "duration": 4466,
    "start_time": "2022-08-13T18:45:58.664Z"
   },
   {
    "duration": 30,
    "start_time": "2022-08-13T18:46:03.132Z"
   },
   {
    "duration": 6,
    "start_time": "2022-08-13T18:46:03.164Z"
   },
   {
    "duration": 147,
    "start_time": "2022-08-13T18:46:03.171Z"
   },
   {
    "duration": 2021,
    "start_time": "2022-08-13T19:41:45.507Z"
   },
   {
    "duration": 1057,
    "start_time": "2022-08-13T19:42:42.460Z"
   },
   {
    "duration": 5256,
    "start_time": "2022-08-13T19:46:08.217Z"
   },
   {
    "duration": 13,
    "start_time": "2022-08-13T19:50:14.835Z"
   },
   {
    "duration": 6,
    "start_time": "2022-08-13T19:50:21.401Z"
   },
   {
    "duration": 1388,
    "start_time": "2022-08-13T19:50:27.011Z"
   },
   {
    "duration": 12,
    "start_time": "2022-08-13T19:50:28.401Z"
   },
   {
    "duration": 17,
    "start_time": "2022-08-13T19:50:28.414Z"
   },
   {
    "duration": 4,
    "start_time": "2022-08-13T19:50:28.433Z"
   },
   {
    "duration": 7,
    "start_time": "2022-08-13T19:50:28.438Z"
   },
   {
    "duration": 14,
    "start_time": "2022-08-13T19:50:28.446Z"
   },
   {
    "duration": 10,
    "start_time": "2022-08-13T19:50:28.461Z"
   },
   {
    "duration": 11,
    "start_time": "2022-08-13T19:50:28.472Z"
   },
   {
    "duration": 4,
    "start_time": "2022-08-13T19:50:28.485Z"
   },
   {
    "duration": 13,
    "start_time": "2022-08-13T19:50:28.491Z"
   },
   {
    "duration": 6,
    "start_time": "2022-08-13T19:50:28.505Z"
   },
   {
    "duration": 1045,
    "start_time": "2022-08-13T19:50:28.512Z"
   },
   {
    "duration": 19,
    "start_time": "2022-08-13T19:50:29.558Z"
   },
   {
    "duration": 4516,
    "start_time": "2022-08-13T19:50:29.579Z"
   },
   {
    "duration": 6,
    "start_time": "2022-08-13T19:50:34.097Z"
   },
   {
    "duration": 51,
    "start_time": "2022-08-13T19:50:34.105Z"
   },
   {
    "duration": 4,
    "start_time": "2022-08-13T19:50:34.157Z"
   },
   {
    "duration": 11,
    "start_time": "2022-08-13T19:50:34.162Z"
   },
   {
    "duration": 11,
    "start_time": "2022-08-13T19:50:34.174Z"
   },
   {
    "duration": 7,
    "start_time": "2022-08-13T19:50:34.186Z"
   },
   {
    "duration": 10,
    "start_time": "2022-08-13T19:50:34.195Z"
   },
   {
    "duration": 14,
    "start_time": "2022-08-13T19:50:34.206Z"
   },
   {
    "duration": 4,
    "start_time": "2022-08-13T19:50:34.221Z"
   },
   {
    "duration": 15,
    "start_time": "2022-08-13T19:50:34.227Z"
   },
   {
    "duration": 8,
    "start_time": "2022-08-13T19:50:34.243Z"
   },
   {
    "duration": 9,
    "start_time": "2022-08-13T19:50:34.253Z"
   },
   {
    "duration": 4,
    "start_time": "2022-08-13T19:50:34.263Z"
   },
   {
    "duration": 15,
    "start_time": "2022-08-13T19:50:34.271Z"
   },
   {
    "duration": 15,
    "start_time": "2022-08-13T19:50:34.287Z"
   },
   {
    "duration": 44,
    "start_time": "2022-08-13T19:50:34.303Z"
   },
   {
    "duration": 189,
    "start_time": "2022-08-13T19:50:34.349Z"
   },
   {
    "duration": 129,
    "start_time": "2022-08-13T19:50:34.542Z"
   },
   {
    "duration": 121,
    "start_time": "2022-08-13T19:50:34.673Z"
   },
   {
    "duration": 2243,
    "start_time": "2022-08-13T19:50:34.796Z"
   },
   {
    "duration": 6221,
    "start_time": "2022-08-13T19:50:37.041Z"
   },
   {
    "duration": 173,
    "start_time": "2022-08-13T19:50:43.264Z"
   },
   {
    "duration": 99,
    "start_time": "2022-08-13T19:50:43.440Z"
   },
   {
    "duration": 5,
    "start_time": "2022-08-13T19:50:43.540Z"
   },
   {
    "duration": 294,
    "start_time": "2022-08-13T19:50:43.547Z"
   },
   {
    "duration": 2741,
    "start_time": "2022-08-13T19:50:43.843Z"
   },
   {
    "duration": 7921,
    "start_time": "2022-08-13T19:50:46.585Z"
   },
   {
    "duration": 9,
    "start_time": "2022-08-13T19:50:54.508Z"
   },
   {
    "duration": 9,
    "start_time": "2022-08-13T19:50:54.518Z"
   },
   {
    "duration": 110,
    "start_time": "2022-08-13T19:50:54.529Z"
   },
   {
    "duration": 1227,
    "start_time": "2022-08-13T19:50:54.641Z"
   },
   {
    "duration": 4485,
    "start_time": "2022-08-13T19:50:55.869Z"
   },
   {
    "duration": 22,
    "start_time": "2022-08-13T19:51:00.356Z"
   },
   {
    "duration": 5,
    "start_time": "2022-08-13T19:51:00.380Z"
   },
   {
    "duration": 146,
    "start_time": "2022-08-13T19:51:00.386Z"
   },
   {
    "duration": 2402,
    "start_time": "2022-08-14T15:38:35.162Z"
   },
   {
    "duration": 17,
    "start_time": "2022-08-14T15:38:37.566Z"
   },
   {
    "duration": 35,
    "start_time": "2022-08-14T15:38:37.585Z"
   },
   {
    "duration": 9,
    "start_time": "2022-08-14T15:38:37.623Z"
   },
   {
    "duration": 6,
    "start_time": "2022-08-14T15:38:37.634Z"
   },
   {
    "duration": 17,
    "start_time": "2022-08-14T15:38:37.642Z"
   },
   {
    "duration": 41,
    "start_time": "2022-08-14T15:38:37.662Z"
   },
   {
    "duration": 21,
    "start_time": "2022-08-14T15:38:37.711Z"
   },
   {
    "duration": 12,
    "start_time": "2022-08-14T15:38:37.733Z"
   },
   {
    "duration": 11,
    "start_time": "2022-08-14T15:38:37.747Z"
   },
   {
    "duration": 17,
    "start_time": "2022-08-14T15:38:37.759Z"
   },
   {
    "duration": 1254,
    "start_time": "2022-08-14T15:38:37.778Z"
   },
   {
    "duration": 24,
    "start_time": "2022-08-14T15:38:39.034Z"
   },
   {
    "duration": 6855,
    "start_time": "2022-08-14T15:38:39.062Z"
   },
   {
    "duration": 10,
    "start_time": "2022-08-14T15:38:45.919Z"
   },
   {
    "duration": 41,
    "start_time": "2022-08-14T15:38:45.931Z"
   },
   {
    "duration": 22,
    "start_time": "2022-08-14T15:38:45.974Z"
   },
   {
    "duration": 44,
    "start_time": "2022-08-14T15:38:45.998Z"
   },
   {
    "duration": 19,
    "start_time": "2022-08-14T15:38:46.044Z"
   },
   {
    "duration": 15,
    "start_time": "2022-08-14T15:38:46.065Z"
   },
   {
    "duration": 17,
    "start_time": "2022-08-14T15:38:46.083Z"
   },
   {
    "duration": 47,
    "start_time": "2022-08-14T15:38:46.104Z"
   },
   {
    "duration": 18,
    "start_time": "2022-08-14T15:38:46.154Z"
   },
   {
    "duration": 55,
    "start_time": "2022-08-14T15:38:46.174Z"
   },
   {
    "duration": 23,
    "start_time": "2022-08-14T15:38:46.231Z"
   },
   {
    "duration": 51,
    "start_time": "2022-08-14T15:38:46.256Z"
   },
   {
    "duration": 11,
    "start_time": "2022-08-14T15:38:46.310Z"
   },
   {
    "duration": 28,
    "start_time": "2022-08-14T15:38:46.324Z"
   },
   {
    "duration": 22,
    "start_time": "2022-08-14T15:38:46.354Z"
   },
   {
    "duration": 23,
    "start_time": "2022-08-14T15:38:46.378Z"
   },
   {
    "duration": 204,
    "start_time": "2022-08-14T15:38:46.402Z"
   },
   {
    "duration": 186,
    "start_time": "2022-08-14T15:38:46.609Z"
   },
   {
    "duration": 140,
    "start_time": "2022-08-14T15:38:46.802Z"
   },
   {
    "duration": 3358,
    "start_time": "2022-08-14T15:38:46.944Z"
   },
   {
    "duration": 8570,
    "start_time": "2022-08-14T15:38:50.311Z"
   },
   {
    "duration": 220,
    "start_time": "2022-08-14T15:38:58.883Z"
   },
   {
    "duration": 94,
    "start_time": "2022-08-14T15:38:59.112Z"
   },
   {
    "duration": 10,
    "start_time": "2022-08-14T15:38:59.214Z"
   },
   {
    "duration": 172,
    "start_time": "2022-08-14T15:38:59.227Z"
   },
   {
    "duration": 3734,
    "start_time": "2022-08-14T15:38:59.403Z"
   },
   {
    "duration": 10691,
    "start_time": "2022-08-14T15:39:03.141Z"
   },
   {
    "duration": 12,
    "start_time": "2022-08-14T15:39:13.834Z"
   },
   {
    "duration": 26,
    "start_time": "2022-08-14T15:39:13.848Z"
   },
   {
    "duration": 236,
    "start_time": "2022-08-14T15:39:13.876Z"
   },
   {
    "duration": 1549,
    "start_time": "2022-08-14T15:39:14.115Z"
   },
   {
    "duration": 5751,
    "start_time": "2022-08-14T15:39:15.666Z"
   },
   {
    "duration": 35,
    "start_time": "2022-08-14T15:39:21.419Z"
   },
   {
    "duration": 6,
    "start_time": "2022-08-14T15:39:21.457Z"
   },
   {
    "duration": 195,
    "start_time": "2022-08-14T15:39:21.465Z"
   },
   {
    "duration": 8089,
    "start_time": "2022-08-14T15:48:01.566Z"
   },
   {
    "duration": 173,
    "start_time": "2022-08-14T15:50:53.915Z"
   },
   {
    "duration": 149,
    "start_time": "2022-08-14T16:07:45.723Z"
   },
   {
    "duration": 15,
    "start_time": "2022-08-14T16:07:59.118Z"
   },
   {
    "duration": 8,
    "start_time": "2022-08-14T16:08:02.850Z"
   },
   {
    "duration": 8206,
    "start_time": "2022-08-14T16:11:00.877Z"
   },
   {
    "duration": 8585,
    "start_time": "2022-08-14T16:11:36.589Z"
   },
   {
    "duration": 13,
    "start_time": "2022-08-14T16:23:21.646Z"
   },
   {
    "duration": 16,
    "start_time": "2022-08-14T16:23:28.907Z"
   },
   {
    "duration": 8339,
    "start_time": "2022-08-14T16:23:52.639Z"
   },
   {
    "duration": 8652,
    "start_time": "2022-08-14T16:24:53.805Z"
   },
   {
    "duration": 8889,
    "start_time": "2022-08-14T16:26:44.714Z"
   },
   {
    "duration": 3134,
    "start_time": "2022-08-14T16:27:04.274Z"
   },
   {
    "duration": 1494,
    "start_time": "2022-08-14T16:27:07.411Z"
   },
   {
    "duration": 20,
    "start_time": "2022-08-14T16:27:08.907Z"
   },
   {
    "duration": 29,
    "start_time": "2022-08-14T16:27:08.929Z"
   },
   {
    "duration": 30,
    "start_time": "2022-08-14T16:27:08.961Z"
   },
   {
    "duration": 5,
    "start_time": "2022-08-14T16:27:08.994Z"
   },
   {
    "duration": 23,
    "start_time": "2022-08-14T16:27:09.001Z"
   },
   {
    "duration": 21,
    "start_time": "2022-08-14T16:27:09.027Z"
   },
   {
    "duration": 14,
    "start_time": "2022-08-14T16:27:09.051Z"
   },
   {
    "duration": 27,
    "start_time": "2022-08-14T16:27:09.067Z"
   },
   {
    "duration": 8,
    "start_time": "2022-08-14T16:27:09.095Z"
   },
   {
    "duration": 8,
    "start_time": "2022-08-14T16:27:09.105Z"
   },
   {
    "duration": 1208,
    "start_time": "2022-08-14T16:27:09.115Z"
   },
   {
    "duration": 35,
    "start_time": "2022-08-14T16:27:10.327Z"
   },
   {
    "duration": 6419,
    "start_time": "2022-08-14T16:27:10.364Z"
   },
   {
    "duration": 10,
    "start_time": "2022-08-14T16:27:16.785Z"
   },
   {
    "duration": 14,
    "start_time": "2022-08-14T16:27:16.797Z"
   },
   {
    "duration": 17,
    "start_time": "2022-08-14T16:27:16.813Z"
   },
   {
    "duration": 9,
    "start_time": "2022-08-14T16:27:16.832Z"
   },
   {
    "duration": 13,
    "start_time": "2022-08-14T16:27:16.843Z"
   },
   {
    "duration": 5,
    "start_time": "2022-08-14T16:27:16.858Z"
   },
   {
    "duration": 38,
    "start_time": "2022-08-14T16:27:16.865Z"
   },
   {
    "duration": 18,
    "start_time": "2022-08-14T16:27:16.905Z"
   },
   {
    "duration": 6,
    "start_time": "2022-08-14T16:27:16.925Z"
   },
   {
    "duration": 10,
    "start_time": "2022-08-14T16:27:16.933Z"
   },
   {
    "duration": 9,
    "start_time": "2022-08-14T16:27:16.945Z"
   },
   {
    "duration": 47,
    "start_time": "2022-08-14T16:27:16.956Z"
   },
   {
    "duration": 5,
    "start_time": "2022-08-14T16:27:17.005Z"
   },
   {
    "duration": 25,
    "start_time": "2022-08-14T16:27:17.012Z"
   },
   {
    "duration": 16,
    "start_time": "2022-08-14T16:27:17.039Z"
   },
   {
    "duration": 19,
    "start_time": "2022-08-14T16:27:17.056Z"
   },
   {
    "duration": 305,
    "start_time": "2022-08-14T16:27:17.092Z"
   },
   {
    "duration": 124,
    "start_time": "2022-08-14T16:27:17.400Z"
   },
   {
    "duration": 131,
    "start_time": "2022-08-14T16:27:17.526Z"
   },
   {
    "duration": 2835,
    "start_time": "2022-08-14T16:27:17.659Z"
   },
   {
    "duration": 8188,
    "start_time": "2022-08-14T16:27:20.496Z"
   },
   {
    "duration": 176,
    "start_time": "2022-08-14T16:27:28.686Z"
   },
   {
    "duration": 29,
    "start_time": "2022-08-14T16:27:28.864Z"
   },
   {
    "duration": 8903,
    "start_time": "2022-08-14T16:27:28.895Z"
   },
   {
    "duration": 104,
    "start_time": "2022-08-14T16:27:37.800Z"
   },
   {
    "duration": 197,
    "start_time": "2022-08-14T16:27:37.910Z"
   },
   {
    "duration": 38,
    "start_time": "2022-08-14T16:27:38.109Z"
   },
   {
    "duration": 147,
    "start_time": "2022-08-14T16:27:38.149Z"
   },
   {
    "duration": 3796,
    "start_time": "2022-08-14T16:27:38.299Z"
   },
   {
    "duration": 10312,
    "start_time": "2022-08-14T16:27:42.097Z"
   },
   {
    "duration": 15,
    "start_time": "2022-08-14T16:27:52.410Z"
   },
   {
    "duration": 14,
    "start_time": "2022-08-14T16:27:52.427Z"
   },
   {
    "duration": 150,
    "start_time": "2022-08-14T16:27:52.443Z"
   },
   {
    "duration": 1489,
    "start_time": "2022-08-14T16:27:52.596Z"
   },
   {
    "duration": 5429,
    "start_time": "2022-08-14T16:27:54.086Z"
   },
   {
    "duration": 34,
    "start_time": "2022-08-14T16:27:59.517Z"
   },
   {
    "duration": 7,
    "start_time": "2022-08-14T16:27:59.553Z"
   },
   {
    "duration": 181,
    "start_time": "2022-08-14T16:27:59.562Z"
   },
   {
    "duration": 8135,
    "start_time": "2022-08-14T16:30:56.211Z"
   },
   {
    "duration": 8640,
    "start_time": "2022-08-14T16:32:52.759Z"
   },
   {
    "duration": 193,
    "start_time": "2022-08-14T16:38:34.090Z"
   },
   {
    "duration": 2097,
    "start_time": "2022-08-14T16:39:19.630Z"
   },
   {
    "duration": 2076,
    "start_time": "2022-08-14T16:39:43.753Z"
   },
   {
    "duration": 8587,
    "start_time": "2022-08-14T16:40:15.267Z"
   },
   {
    "duration": 8169,
    "start_time": "2022-08-14T16:41:39.707Z"
   },
   {
    "duration": 8048,
    "start_time": "2022-08-14T16:42:21.522Z"
   },
   {
    "duration": 8311,
    "start_time": "2022-08-14T16:42:55.225Z"
   },
   {
    "duration": 7996,
    "start_time": "2022-08-14T16:44:12.041Z"
   },
   {
    "duration": 1921,
    "start_time": "2022-08-23T12:23:24.974Z"
   },
   {
    "duration": 14,
    "start_time": "2022-08-23T12:23:26.897Z"
   },
   {
    "duration": 19,
    "start_time": "2022-08-23T12:23:26.912Z"
   },
   {
    "duration": 4,
    "start_time": "2022-08-23T12:23:26.933Z"
   },
   {
    "duration": 10,
    "start_time": "2022-08-23T12:23:26.938Z"
   },
   {
    "duration": 14,
    "start_time": "2022-08-23T12:23:26.950Z"
   },
   {
    "duration": 36,
    "start_time": "2022-08-23T12:23:26.966Z"
   },
   {
    "duration": 12,
    "start_time": "2022-08-23T12:23:27.004Z"
   },
   {
    "duration": 4,
    "start_time": "2022-08-23T12:23:27.018Z"
   },
   {
    "duration": 6,
    "start_time": "2022-08-23T12:23:27.024Z"
   },
   {
    "duration": 6,
    "start_time": "2022-08-23T12:23:27.032Z"
   },
   {
    "duration": 1194,
    "start_time": "2022-08-23T12:23:27.039Z"
   },
   {
    "duration": 26,
    "start_time": "2022-08-23T12:23:28.235Z"
   },
   {
    "duration": 5575,
    "start_time": "2022-08-23T12:23:28.263Z"
   },
   {
    "duration": 58,
    "start_time": "2022-08-23T12:23:33.840Z"
   },
   {
    "duration": 10,
    "start_time": "2022-08-23T12:23:33.899Z"
   },
   {
    "duration": 5,
    "start_time": "2022-08-23T12:23:33.910Z"
   },
   {
    "duration": 10,
    "start_time": "2022-08-23T12:23:33.916Z"
   },
   {
    "duration": 66,
    "start_time": "2022-08-23T12:23:33.928Z"
   },
   {
    "duration": 7,
    "start_time": "2022-08-23T12:23:33.996Z"
   },
   {
    "duration": 21,
    "start_time": "2022-08-23T12:23:34.005Z"
   },
   {
    "duration": 13,
    "start_time": "2022-08-23T12:23:34.028Z"
   },
   {
    "duration": 53,
    "start_time": "2022-08-23T12:23:34.043Z"
   },
   {
    "duration": 11,
    "start_time": "2022-08-23T12:23:34.098Z"
   },
   {
    "duration": 11,
    "start_time": "2022-08-23T12:23:34.111Z"
   },
   {
    "duration": 12,
    "start_time": "2022-08-23T12:23:34.124Z"
   },
   {
    "duration": 59,
    "start_time": "2022-08-23T12:23:34.137Z"
   },
   {
    "duration": 22,
    "start_time": "2022-08-23T12:23:34.200Z"
   },
   {
    "duration": 70,
    "start_time": "2022-08-23T12:23:34.224Z"
   },
   {
    "duration": 19,
    "start_time": "2022-08-23T12:23:34.296Z"
   },
   {
    "duration": 187,
    "start_time": "2022-08-23T12:23:34.317Z"
   },
   {
    "duration": 220,
    "start_time": "2022-08-23T12:23:34.506Z"
   },
   {
    "duration": 199,
    "start_time": "2022-08-23T12:23:34.728Z"
   },
   {
    "duration": 2438,
    "start_time": "2022-08-23T12:23:34.929Z"
   },
   {
    "duration": 6386,
    "start_time": "2022-08-23T12:23:37.368Z"
   },
   {
    "duration": 154,
    "start_time": "2022-08-23T12:23:43.756Z"
   },
   {
    "duration": 99,
    "start_time": "2022-08-23T12:23:43.995Z"
   },
   {
    "duration": 7,
    "start_time": "2022-08-23T12:23:44.096Z"
   },
   {
    "duration": 191,
    "start_time": "2022-08-23T12:23:44.105Z"
   },
   {
    "duration": 2684,
    "start_time": "2022-08-23T12:23:44.298Z"
   },
   {
    "duration": 8116,
    "start_time": "2022-08-23T12:23:46.992Z"
   },
   {
    "duration": 12,
    "start_time": "2022-08-23T12:23:55.110Z"
   },
   {
    "duration": 9,
    "start_time": "2022-08-23T12:23:55.124Z"
   },
   {
    "duration": 265,
    "start_time": "2022-08-23T12:23:55.134Z"
   },
   {
    "duration": 1116,
    "start_time": "2022-08-23T12:23:55.401Z"
   },
   {
    "duration": 4750,
    "start_time": "2022-08-23T12:23:56.519Z"
   },
   {
    "duration": 41,
    "start_time": "2022-08-23T12:24:01.271Z"
   },
   {
    "duration": 3,
    "start_time": "2022-08-23T12:24:01.314Z"
   },
   {
    "duration": 195,
    "start_time": "2022-08-23T12:24:01.319Z"
   },
   {
    "duration": 1541,
    "start_time": "2022-08-23T12:24:53.957Z"
   },
   {
    "duration": 13,
    "start_time": "2022-08-23T12:24:55.500Z"
   },
   {
    "duration": 22,
    "start_time": "2022-08-23T12:24:55.515Z"
   },
   {
    "duration": 5,
    "start_time": "2022-08-23T12:24:55.540Z"
   },
   {
    "duration": 7,
    "start_time": "2022-08-23T12:24:55.546Z"
   },
   {
    "duration": 13,
    "start_time": "2022-08-23T12:24:55.555Z"
   },
   {
    "duration": 30,
    "start_time": "2022-08-23T12:24:55.570Z"
   },
   {
    "duration": 13,
    "start_time": "2022-08-23T12:24:55.601Z"
   },
   {
    "duration": 4,
    "start_time": "2022-08-23T12:24:55.615Z"
   },
   {
    "duration": 5,
    "start_time": "2022-08-23T12:24:55.622Z"
   },
   {
    "duration": 5,
    "start_time": "2022-08-23T12:24:55.629Z"
   },
   {
    "duration": 1801,
    "start_time": "2022-08-23T12:24:55.636Z"
   },
   {
    "duration": 58,
    "start_time": "2022-08-23T12:24:57.438Z"
   },
   {
    "duration": 5819,
    "start_time": "2022-08-23T12:24:57.497Z"
   },
   {
    "duration": 7,
    "start_time": "2022-08-23T12:25:03.317Z"
   },
   {
    "duration": 12,
    "start_time": "2022-08-23T12:25:03.326Z"
   },
   {
    "duration": 5,
    "start_time": "2022-08-23T12:25:03.340Z"
   },
   {
    "duration": 8,
    "start_time": "2022-08-23T12:25:03.347Z"
   },
   {
    "duration": 13,
    "start_time": "2022-08-23T12:25:03.359Z"
   },
   {
    "duration": 7,
    "start_time": "2022-08-23T12:25:03.393Z"
   },
   {
    "duration": 15,
    "start_time": "2022-08-23T12:25:03.402Z"
   },
   {
    "duration": 14,
    "start_time": "2022-08-23T12:25:03.418Z"
   },
   {
    "duration": 5,
    "start_time": "2022-08-23T12:25:03.434Z"
   },
   {
    "duration": 8,
    "start_time": "2022-08-23T12:25:03.440Z"
   },
   {
    "duration": 10,
    "start_time": "2022-08-23T12:25:03.450Z"
   },
   {
    "duration": 10,
    "start_time": "2022-08-23T12:25:03.493Z"
   },
   {
    "duration": 8,
    "start_time": "2022-08-23T12:25:03.505Z"
   },
   {
    "duration": 34,
    "start_time": "2022-08-23T12:25:03.518Z"
   },
   {
    "duration": 21,
    "start_time": "2022-08-23T12:25:03.554Z"
   },
   {
    "duration": 21,
    "start_time": "2022-08-23T12:25:03.576Z"
   },
   {
    "duration": 106,
    "start_time": "2022-08-23T12:25:03.598Z"
   },
   {
    "duration": 131,
    "start_time": "2022-08-23T12:25:03.794Z"
   },
   {
    "duration": 122,
    "start_time": "2022-08-23T12:25:03.927Z"
   },
   {
    "duration": 3082,
    "start_time": "2022-08-23T12:25:04.051Z"
   },
   {
    "duration": 7917,
    "start_time": "2022-08-23T12:25:07.134Z"
   },
   {
    "duration": 140,
    "start_time": "2022-08-23T12:25:15.053Z"
   },
   {
    "duration": 100,
    "start_time": "2022-08-23T12:25:15.196Z"
   },
   {
    "duration": 15,
    "start_time": "2022-08-23T12:25:15.297Z"
   },
   {
    "duration": 181,
    "start_time": "2022-08-23T12:25:15.313Z"
   },
   {
    "duration": 3816,
    "start_time": "2022-08-23T12:25:15.496Z"
   },
   {
    "duration": 10507,
    "start_time": "2022-08-23T12:25:19.314Z"
   },
   {
    "duration": 12,
    "start_time": "2022-08-23T12:25:29.823Z"
   },
   {
    "duration": 7,
    "start_time": "2022-08-23T12:25:29.837Z"
   },
   {
    "duration": 155,
    "start_time": "2022-08-23T12:25:29.845Z"
   },
   {
    "duration": 1544,
    "start_time": "2022-08-23T12:25:30.002Z"
   },
   {
    "duration": 5350,
    "start_time": "2022-08-23T12:25:31.548Z"
   },
   {
    "duration": 28,
    "start_time": "2022-08-23T12:25:36.900Z"
   },
   {
    "duration": 2,
    "start_time": "2022-08-23T12:25:36.930Z"
   },
   {
    "duration": 169,
    "start_time": "2022-08-23T12:25:36.934Z"
   },
   {
    "duration": 8054,
    "start_time": "2022-08-23T12:30:37.404Z"
   },
   {
    "duration": 8112,
    "start_time": "2022-08-23T12:30:54.020Z"
   },
   {
    "duration": 8033,
    "start_time": "2022-08-23T12:31:28.420Z"
   },
   {
    "duration": 158,
    "start_time": "2022-08-23T12:40:09.344Z"
   },
   {
    "duration": 47,
    "start_time": "2022-08-23T12:42:19.143Z"
   },
   {
    "duration": 158,
    "start_time": "2022-08-23T12:42:36.735Z"
   },
   {
    "duration": 1682,
    "start_time": "2022-08-29T09:19:36.616Z"
   },
   {
    "duration": 15,
    "start_time": "2022-08-29T09:19:38.300Z"
   },
   {
    "duration": 22,
    "start_time": "2022-08-29T09:19:38.316Z"
   },
   {
    "duration": 4,
    "start_time": "2022-08-29T09:19:38.341Z"
   },
   {
    "duration": 6,
    "start_time": "2022-08-29T09:19:38.346Z"
   },
   {
    "duration": 15,
    "start_time": "2022-08-29T09:19:38.354Z"
   },
   {
    "duration": 13,
    "start_time": "2022-08-29T09:19:38.370Z"
   },
   {
    "duration": 11,
    "start_time": "2022-08-29T09:19:38.384Z"
   },
   {
    "duration": 4,
    "start_time": "2022-08-29T09:19:38.397Z"
   },
   {
    "duration": 6,
    "start_time": "2022-08-29T09:19:38.404Z"
   },
   {
    "duration": 30,
    "start_time": "2022-08-29T09:19:38.411Z"
   },
   {
    "duration": 1127,
    "start_time": "2022-08-29T09:19:38.442Z"
   },
   {
    "duration": 23,
    "start_time": "2022-08-29T09:19:39.571Z"
   },
   {
    "duration": 5633,
    "start_time": "2022-08-29T09:19:39.596Z"
   },
   {
    "duration": 10,
    "start_time": "2022-08-29T09:19:45.230Z"
   },
   {
    "duration": 27,
    "start_time": "2022-08-29T09:19:45.242Z"
   },
   {
    "duration": 13,
    "start_time": "2022-08-29T09:19:45.271Z"
   },
   {
    "duration": 18,
    "start_time": "2022-08-29T09:19:45.285Z"
   },
   {
    "duration": 32,
    "start_time": "2022-08-29T09:19:45.305Z"
   },
   {
    "duration": 6,
    "start_time": "2022-08-29T09:19:45.339Z"
   },
   {
    "duration": 21,
    "start_time": "2022-08-29T09:19:45.347Z"
   },
   {
    "duration": 23,
    "start_time": "2022-08-29T09:19:45.369Z"
   },
   {
    "duration": 16,
    "start_time": "2022-08-29T09:19:45.393Z"
   },
   {
    "duration": 24,
    "start_time": "2022-08-29T09:19:45.411Z"
   },
   {
    "duration": 19,
    "start_time": "2022-08-29T09:19:45.437Z"
   },
   {
    "duration": 14,
    "start_time": "2022-08-29T09:19:45.458Z"
   },
   {
    "duration": 19,
    "start_time": "2022-08-29T09:19:45.474Z"
   },
   {
    "duration": 29,
    "start_time": "2022-08-29T09:19:45.497Z"
   },
   {
    "duration": 30,
    "start_time": "2022-08-29T09:19:45.528Z"
   },
   {
    "duration": 22,
    "start_time": "2022-08-29T09:19:45.560Z"
   },
   {
    "duration": 63,
    "start_time": "2022-08-29T09:19:45.584Z"
   },
   {
    "duration": 132,
    "start_time": "2022-08-29T09:19:45.739Z"
   },
   {
    "duration": 119,
    "start_time": "2022-08-29T09:19:45.872Z"
   },
   {
    "duration": 2846,
    "start_time": "2022-08-29T09:19:45.992Z"
   },
   {
    "duration": 9136,
    "start_time": "2022-08-29T09:19:48.840Z"
   },
   {
    "duration": 168,
    "start_time": "2022-08-29T09:19:57.978Z"
   },
   {
    "duration": 191,
    "start_time": "2022-08-29T09:19:58.148Z"
   },
   {
    "duration": 6,
    "start_time": "2022-08-29T09:19:58.341Z"
   },
   {
    "duration": 191,
    "start_time": "2022-08-29T09:19:58.349Z"
   },
   {
    "duration": 3642,
    "start_time": "2022-08-29T09:19:58.543Z"
   },
   {
    "duration": 9918,
    "start_time": "2022-08-29T09:20:02.186Z"
   },
   {
    "duration": 13,
    "start_time": "2022-08-29T09:20:12.106Z"
   },
   {
    "duration": 20,
    "start_time": "2022-08-29T09:20:12.121Z"
   },
   {
    "duration": 208,
    "start_time": "2022-08-29T09:20:12.143Z"
   },
   {
    "duration": 1539,
    "start_time": "2022-08-29T09:20:12.354Z"
   },
   {
    "duration": 5185,
    "start_time": "2022-08-29T09:20:13.895Z"
   },
   {
    "duration": 67,
    "start_time": "2022-08-29T09:20:19.082Z"
   },
   {
    "duration": 3,
    "start_time": "2022-08-29T09:20:19.151Z"
   },
   {
    "duration": 188,
    "start_time": "2022-08-29T09:20:19.157Z"
   },
   {
    "duration": 118,
    "start_time": "2022-08-29T09:20:19.347Z"
   },
   {
    "duration": 12,
    "start_time": "2022-08-29T09:21:41.665Z"
   },
   {
    "duration": 10,
    "start_time": "2022-08-29T09:21:45.048Z"
   },
   {
    "duration": 10,
    "start_time": "2022-08-29T09:21:58.608Z"
   },
   {
    "duration": 22,
    "start_time": "2022-08-29T09:22:07.760Z"
   },
   {
    "duration": 40,
    "start_time": "2022-08-29T09:22:28.568Z"
   },
   {
    "duration": 42,
    "start_time": "2022-08-29T09:22:46.655Z"
   },
   {
    "duration": 1391,
    "start_time": "2022-08-29T09:23:26.596Z"
   },
   {
    "duration": 12,
    "start_time": "2022-08-29T09:23:27.989Z"
   },
   {
    "duration": 18,
    "start_time": "2022-08-29T09:23:28.003Z"
   },
   {
    "duration": 4,
    "start_time": "2022-08-29T09:23:28.023Z"
   },
   {
    "duration": 10,
    "start_time": "2022-08-29T09:23:28.029Z"
   },
   {
    "duration": 14,
    "start_time": "2022-08-29T09:23:28.040Z"
   },
   {
    "duration": 19,
    "start_time": "2022-08-29T09:23:28.056Z"
   },
   {
    "duration": 11,
    "start_time": "2022-08-29T09:23:28.077Z"
   },
   {
    "duration": 5,
    "start_time": "2022-08-29T09:23:28.090Z"
   },
   {
    "duration": 9,
    "start_time": "2022-08-29T09:23:28.096Z"
   },
   {
    "duration": 6,
    "start_time": "2022-08-29T09:23:28.106Z"
   },
   {
    "duration": 1111,
    "start_time": "2022-08-29T09:23:28.114Z"
   },
   {
    "duration": 19,
    "start_time": "2022-08-29T09:23:29.227Z"
   },
   {
    "duration": 4825,
    "start_time": "2022-08-29T09:23:29.249Z"
   },
   {
    "duration": 7,
    "start_time": "2022-08-29T09:23:34.076Z"
   },
   {
    "duration": 44,
    "start_time": "2022-08-29T09:23:34.084Z"
   },
   {
    "duration": 12,
    "start_time": "2022-08-29T09:23:34.130Z"
   },
   {
    "duration": 40,
    "start_time": "2022-08-29T09:23:34.144Z"
   },
   {
    "duration": 5,
    "start_time": "2022-08-29T09:23:34.186Z"
   },
   {
    "duration": 7,
    "start_time": "2022-08-29T09:23:34.192Z"
   },
   {
    "duration": 39,
    "start_time": "2022-08-29T09:23:34.200Z"
   },
   {
    "duration": 6,
    "start_time": "2022-08-29T09:23:34.241Z"
   },
   {
    "duration": 22,
    "start_time": "2022-08-29T09:23:34.248Z"
   },
   {
    "duration": 12,
    "start_time": "2022-08-29T09:23:34.272Z"
   },
   {
    "duration": 5,
    "start_time": "2022-08-29T09:23:34.285Z"
   },
   {
    "duration": 16,
    "start_time": "2022-08-29T09:23:34.291Z"
   },
   {
    "duration": 9,
    "start_time": "2022-08-29T09:23:34.308Z"
   },
   {
    "duration": 11,
    "start_time": "2022-08-29T09:23:34.339Z"
   },
   {
    "duration": 4,
    "start_time": "2022-08-29T09:23:34.351Z"
   },
   {
    "duration": 21,
    "start_time": "2022-08-29T09:23:34.356Z"
   },
   {
    "duration": 14,
    "start_time": "2022-08-29T09:23:34.378Z"
   },
   {
    "duration": 15,
    "start_time": "2022-08-29T09:23:34.394Z"
   },
   {
    "duration": 233,
    "start_time": "2022-08-29T09:23:34.410Z"
   },
   {
    "duration": 124,
    "start_time": "2022-08-29T09:23:34.646Z"
   },
   {
    "duration": 120,
    "start_time": "2022-08-29T09:23:34.772Z"
   },
   {
    "duration": 2808,
    "start_time": "2022-08-29T09:23:34.894Z"
   },
   {
    "duration": 7335,
    "start_time": "2022-08-29T09:23:37.704Z"
   },
   {
    "duration": 198,
    "start_time": "2022-08-29T09:23:45.041Z"
   },
   {
    "duration": 109,
    "start_time": "2022-08-29T09:23:45.241Z"
   },
   {
    "duration": 14,
    "start_time": "2022-08-29T09:23:45.352Z"
   },
   {
    "duration": 170,
    "start_time": "2022-08-29T09:23:45.370Z"
   },
   {
    "duration": 3497,
    "start_time": "2022-08-29T09:23:45.541Z"
   },
   {
    "duration": 9757,
    "start_time": "2022-08-29T09:23:49.040Z"
   },
   {
    "duration": 10,
    "start_time": "2022-08-29T09:23:58.799Z"
   },
   {
    "duration": 17,
    "start_time": "2022-08-29T09:23:58.810Z"
   },
   {
    "duration": 116,
    "start_time": "2022-08-29T09:23:58.828Z"
   },
   {
    "duration": 1460,
    "start_time": "2022-08-29T09:23:58.946Z"
   },
   {
    "duration": 5067,
    "start_time": "2022-08-29T09:24:00.408Z"
   },
   {
    "duration": 41,
    "start_time": "2022-08-29T09:24:05.477Z"
   },
   {
    "duration": 3,
    "start_time": "2022-08-29T09:24:05.519Z"
   },
   {
    "duration": 148,
    "start_time": "2022-08-29T09:24:05.538Z"
   },
   {
    "duration": 123,
    "start_time": "2022-08-29T09:24:05.688Z"
   },
   {
    "duration": 6,
    "start_time": "2022-08-29T09:27:14.017Z"
   },
   {
    "duration": 1383,
    "start_time": "2022-08-29T09:27:22.365Z"
   },
   {
    "duration": 14,
    "start_time": "2022-08-29T09:27:23.750Z"
   },
   {
    "duration": 18,
    "start_time": "2022-08-29T09:27:23.768Z"
   },
   {
    "duration": 4,
    "start_time": "2022-08-29T09:27:23.787Z"
   },
   {
    "duration": 8,
    "start_time": "2022-08-29T09:27:23.793Z"
   },
   {
    "duration": 18,
    "start_time": "2022-08-29T09:27:23.803Z"
   },
   {
    "duration": 25,
    "start_time": "2022-08-29T09:27:23.822Z"
   },
   {
    "duration": 12,
    "start_time": "2022-08-29T09:27:23.849Z"
   },
   {
    "duration": 5,
    "start_time": "2022-08-29T09:27:23.863Z"
   },
   {
    "duration": 6,
    "start_time": "2022-08-29T09:27:23.869Z"
   },
   {
    "duration": 4,
    "start_time": "2022-08-29T09:27:23.877Z"
   },
   {
    "duration": 1082,
    "start_time": "2022-08-29T09:27:23.883Z"
   },
   {
    "duration": 19,
    "start_time": "2022-08-29T09:27:24.967Z"
   },
   {
    "duration": 4776,
    "start_time": "2022-08-29T09:27:24.988Z"
   },
   {
    "duration": 6,
    "start_time": "2022-08-29T09:27:29.766Z"
   },
   {
    "duration": 75,
    "start_time": "2022-08-29T09:27:29.774Z"
   },
   {
    "duration": 6,
    "start_time": "2022-08-29T09:27:29.850Z"
   },
   {
    "duration": 41,
    "start_time": "2022-08-29T09:27:29.858Z"
   },
   {
    "duration": 4,
    "start_time": "2022-08-29T09:27:29.901Z"
   },
   {
    "duration": 7,
    "start_time": "2022-08-29T09:27:29.906Z"
   },
   {
    "duration": 12,
    "start_time": "2022-08-29T09:27:29.915Z"
   },
   {
    "duration": 10,
    "start_time": "2022-08-29T09:27:29.929Z"
   },
   {
    "duration": 21,
    "start_time": "2022-08-29T09:27:29.940Z"
   },
   {
    "duration": 11,
    "start_time": "2022-08-29T09:27:29.963Z"
   },
   {
    "duration": 6,
    "start_time": "2022-08-29T09:27:29.976Z"
   },
   {
    "duration": 10,
    "start_time": "2022-08-29T09:27:29.984Z"
   },
   {
    "duration": 7,
    "start_time": "2022-08-29T09:27:29.998Z"
   },
   {
    "duration": 8,
    "start_time": "2022-08-29T09:27:30.006Z"
   },
   {
    "duration": 11,
    "start_time": "2022-08-29T09:27:30.016Z"
   },
   {
    "duration": 28,
    "start_time": "2022-08-29T09:27:30.028Z"
   },
   {
    "duration": 16,
    "start_time": "2022-08-29T09:27:30.058Z"
   },
   {
    "duration": 23,
    "start_time": "2022-08-29T09:27:30.076Z"
   },
   {
    "duration": 47,
    "start_time": "2022-08-29T09:27:30.101Z"
   },
   {
    "duration": 140,
    "start_time": "2022-08-29T09:27:30.240Z"
   },
   {
    "duration": 183,
    "start_time": "2022-08-29T09:27:30.381Z"
   },
   {
    "duration": 2937,
    "start_time": "2022-08-29T09:27:30.566Z"
   },
   {
    "duration": 7335,
    "start_time": "2022-08-29T09:27:33.504Z"
   },
   {
    "duration": 198,
    "start_time": "2022-08-29T09:27:40.841Z"
   },
   {
    "duration": 102,
    "start_time": "2022-08-29T09:27:41.042Z"
   },
   {
    "duration": 7,
    "start_time": "2022-08-29T09:27:41.146Z"
   },
   {
    "duration": 184,
    "start_time": "2022-08-29T09:27:41.155Z"
   },
   {
    "duration": 3528,
    "start_time": "2022-08-29T09:27:41.341Z"
   },
   {
    "duration": 9831,
    "start_time": "2022-08-29T09:27:44.871Z"
   },
   {
    "duration": 10,
    "start_time": "2022-08-29T09:27:54.704Z"
   },
   {
    "duration": 7,
    "start_time": "2022-08-29T09:27:54.716Z"
   },
   {
    "duration": 122,
    "start_time": "2022-08-29T09:27:54.725Z"
   },
   {
    "duration": 1326,
    "start_time": "2022-08-29T09:27:54.939Z"
   },
   {
    "duration": 5085,
    "start_time": "2022-08-29T09:27:56.267Z"
   },
   {
    "duration": 43,
    "start_time": "2022-08-29T09:28:01.353Z"
   },
   {
    "duration": 3,
    "start_time": "2022-08-29T09:28:01.397Z"
   },
   {
    "duration": 174,
    "start_time": "2022-08-29T09:28:01.401Z"
   },
   {
    "duration": 121,
    "start_time": "2022-08-29T09:28:01.577Z"
   },
   {
    "duration": 1502,
    "start_time": "2022-08-29T10:22:23.025Z"
   },
   {
    "duration": 15,
    "start_time": "2022-08-29T10:22:24.530Z"
   },
   {
    "duration": 19,
    "start_time": "2022-08-29T10:22:24.547Z"
   },
   {
    "duration": 5,
    "start_time": "2022-08-29T10:22:24.568Z"
   },
   {
    "duration": 6,
    "start_time": "2022-08-29T10:22:24.575Z"
   },
   {
    "duration": 15,
    "start_time": "2022-08-29T10:22:24.583Z"
   },
   {
    "duration": 44,
    "start_time": "2022-08-29T10:22:24.599Z"
   },
   {
    "duration": 13,
    "start_time": "2022-08-29T10:22:24.645Z"
   },
   {
    "duration": 5,
    "start_time": "2022-08-29T10:22:24.660Z"
   },
   {
    "duration": 5,
    "start_time": "2022-08-29T10:22:24.669Z"
   },
   {
    "duration": 9,
    "start_time": "2022-08-29T10:22:24.675Z"
   },
   {
    "duration": 1084,
    "start_time": "2022-08-29T10:22:24.685Z"
   },
   {
    "duration": 22,
    "start_time": "2022-08-29T10:22:25.771Z"
   },
   {
    "duration": 4907,
    "start_time": "2022-08-29T10:22:25.795Z"
   },
   {
    "duration": 7,
    "start_time": "2022-08-29T10:22:30.704Z"
   },
   {
    "duration": 56,
    "start_time": "2022-08-29T10:22:30.713Z"
   },
   {
    "duration": 6,
    "start_time": "2022-08-29T10:22:30.771Z"
   },
   {
    "duration": 54,
    "start_time": "2022-08-29T10:22:30.778Z"
   },
   {
    "duration": 6,
    "start_time": "2022-08-29T10:22:30.834Z"
   },
   {
    "duration": 31,
    "start_time": "2022-08-29T10:22:30.842Z"
   },
   {
    "duration": 20,
    "start_time": "2022-08-29T10:22:30.875Z"
   },
   {
    "duration": 5,
    "start_time": "2022-08-29T10:22:30.897Z"
   },
   {
    "duration": 23,
    "start_time": "2022-08-29T10:22:30.903Z"
   },
   {
    "duration": 21,
    "start_time": "2022-08-29T10:22:30.928Z"
   },
   {
    "duration": 7,
    "start_time": "2022-08-29T10:22:30.951Z"
   },
   {
    "duration": 11,
    "start_time": "2022-08-29T10:22:30.960Z"
   },
   {
    "duration": 24,
    "start_time": "2022-08-29T10:22:30.973Z"
   },
   {
    "duration": 13,
    "start_time": "2022-08-29T10:22:31.001Z"
   },
   {
    "duration": 32,
    "start_time": "2022-08-29T10:22:31.015Z"
   },
   {
    "duration": 27,
    "start_time": "2022-08-29T10:22:31.050Z"
   },
   {
    "duration": 32,
    "start_time": "2022-08-29T10:22:31.079Z"
   },
   {
    "duration": 46,
    "start_time": "2022-08-29T10:22:31.112Z"
   },
   {
    "duration": 180,
    "start_time": "2022-08-29T10:22:31.160Z"
   },
   {
    "duration": 133,
    "start_time": "2022-08-29T10:22:31.343Z"
   },
   {
    "duration": 118,
    "start_time": "2022-08-29T10:22:31.478Z"
   },
   {
    "duration": 2905,
    "start_time": "2022-08-29T10:22:31.599Z"
   },
   {
    "duration": 7569,
    "start_time": "2022-08-29T10:22:34.506Z"
   },
   {
    "duration": 67,
    "start_time": "2022-08-29T10:22:42.077Z"
   },
   {
    "duration": 98,
    "start_time": "2022-08-29T10:22:42.146Z"
   },
   {
    "duration": 6,
    "start_time": "2022-08-29T10:22:42.246Z"
   },
   {
    "duration": 107,
    "start_time": "2022-08-29T10:22:42.340Z"
   },
   {
    "duration": 3717,
    "start_time": "2022-08-29T10:22:42.449Z"
   },
   {
    "duration": 10042,
    "start_time": "2022-08-29T10:22:46.167Z"
   },
   {
    "duration": 10,
    "start_time": "2022-08-29T10:22:56.211Z"
   },
   {
    "duration": 17,
    "start_time": "2022-08-29T10:22:56.222Z"
   },
   {
    "duration": 299,
    "start_time": "2022-08-29T10:22:56.240Z"
   },
   {
    "duration": 1359,
    "start_time": "2022-08-29T10:22:56.541Z"
   },
   {
    "duration": 5214,
    "start_time": "2022-08-29T10:22:57.902Z"
   },
   {
    "duration": 48,
    "start_time": "2022-08-29T10:23:03.118Z"
   },
   {
    "duration": 2,
    "start_time": "2022-08-29T10:23:03.168Z"
   },
   {
    "duration": 159,
    "start_time": "2022-08-29T10:23:03.172Z"
   },
   {
    "duration": 1445,
    "start_time": "2022-08-29T10:33:12.683Z"
   },
   {
    "duration": 16,
    "start_time": "2022-08-29T10:33:14.130Z"
   },
   {
    "duration": 33,
    "start_time": "2022-08-29T10:33:14.148Z"
   },
   {
    "duration": 5,
    "start_time": "2022-08-29T10:33:14.184Z"
   },
   {
    "duration": 6,
    "start_time": "2022-08-29T10:33:14.191Z"
   },
   {
    "duration": 14,
    "start_time": "2022-08-29T10:33:14.199Z"
   },
   {
    "duration": 16,
    "start_time": "2022-08-29T10:33:14.214Z"
   },
   {
    "duration": 21,
    "start_time": "2022-08-29T10:33:14.239Z"
   },
   {
    "duration": 11,
    "start_time": "2022-08-29T10:33:14.262Z"
   },
   {
    "duration": 6,
    "start_time": "2022-08-29T10:33:14.275Z"
   },
   {
    "duration": 9,
    "start_time": "2022-08-29T10:33:14.283Z"
   },
   {
    "duration": 1156,
    "start_time": "2022-08-29T10:33:14.294Z"
   },
   {
    "duration": 27,
    "start_time": "2022-08-29T10:33:15.452Z"
   },
   {
    "duration": 5397,
    "start_time": "2022-08-29T10:33:15.483Z"
   },
   {
    "duration": 6,
    "start_time": "2022-08-29T10:33:20.882Z"
   },
   {
    "duration": 62,
    "start_time": "2022-08-29T10:33:20.890Z"
   },
   {
    "duration": 7,
    "start_time": "2022-08-29T10:33:20.954Z"
   },
   {
    "duration": 41,
    "start_time": "2022-08-29T10:33:20.963Z"
   },
   {
    "duration": 4,
    "start_time": "2022-08-29T10:33:21.006Z"
   },
   {
    "duration": 33,
    "start_time": "2022-08-29T10:33:21.011Z"
   },
   {
    "duration": 11,
    "start_time": "2022-08-29T10:33:21.046Z"
   },
   {
    "duration": 5,
    "start_time": "2022-08-29T10:33:21.059Z"
   },
   {
    "duration": 29,
    "start_time": "2022-08-29T10:33:21.066Z"
   },
   {
    "duration": 14,
    "start_time": "2022-08-29T10:33:21.098Z"
   },
   {
    "duration": 38,
    "start_time": "2022-08-29T10:33:21.113Z"
   },
   {
    "duration": 13,
    "start_time": "2022-08-29T10:33:21.153Z"
   },
   {
    "duration": 11,
    "start_time": "2022-08-29T10:33:21.168Z"
   },
   {
    "duration": 9,
    "start_time": "2022-08-29T10:33:21.180Z"
   },
   {
    "duration": 3,
    "start_time": "2022-08-29T10:33:21.191Z"
   },
   {
    "duration": 15,
    "start_time": "2022-08-29T10:33:21.196Z"
   },
   {
    "duration": 35,
    "start_time": "2022-08-29T10:33:21.213Z"
   },
   {
    "duration": 17,
    "start_time": "2022-08-29T10:33:21.250Z"
   },
   {
    "duration": 185,
    "start_time": "2022-08-29T10:33:21.269Z"
   },
   {
    "duration": 138,
    "start_time": "2022-08-29T10:33:21.543Z"
   },
   {
    "duration": 131,
    "start_time": "2022-08-29T10:33:21.683Z"
   },
   {
    "duration": 3161,
    "start_time": "2022-08-29T10:33:21.816Z"
   },
   {
    "duration": 7920,
    "start_time": "2022-08-29T10:33:24.978Z"
   },
   {
    "duration": 58,
    "start_time": "2022-08-29T10:33:32.900Z"
   },
   {
    "duration": 95,
    "start_time": "2022-08-29T10:33:33.044Z"
   },
   {
    "duration": 12,
    "start_time": "2022-08-29T10:33:33.141Z"
   },
   {
    "duration": 87,
    "start_time": "2022-08-29T10:33:33.159Z"
   },
   {
    "duration": 3754,
    "start_time": "2022-08-29T10:33:33.248Z"
   },
   {
    "duration": 11742,
    "start_time": "2022-08-29T10:33:37.003Z"
   },
   {
    "duration": 14,
    "start_time": "2022-08-29T10:33:48.747Z"
   },
   {
    "duration": 19,
    "start_time": "2022-08-29T10:33:48.763Z"
   },
   {
    "duration": 86,
    "start_time": "2022-08-29T10:33:48.784Z"
   },
   {
    "duration": 2026,
    "start_time": "2022-08-29T10:33:48.943Z"
   },
   {
    "duration": 6718,
    "start_time": "2022-08-29T10:33:50.972Z"
   },
   {
    "duration": 70,
    "start_time": "2022-08-29T10:33:57.697Z"
   },
   {
    "duration": 3,
    "start_time": "2022-08-29T10:33:57.769Z"
   },
   {
    "duration": 244,
    "start_time": "2022-08-29T10:33:57.774Z"
   },
   {
    "duration": 58,
    "start_time": "2022-08-29T10:36:05.627Z"
   },
   {
    "duration": 7,
    "start_time": "2022-08-29T10:36:19.555Z"
   },
   {
    "duration": 1539,
    "start_time": "2022-08-29T10:36:28.827Z"
   },
   {
    "duration": 13,
    "start_time": "2022-08-29T10:36:30.368Z"
   },
   {
    "duration": 19,
    "start_time": "2022-08-29T10:36:30.383Z"
   },
   {
    "duration": 4,
    "start_time": "2022-08-29T10:36:30.405Z"
   },
   {
    "duration": 35,
    "start_time": "2022-08-29T10:36:30.411Z"
   },
   {
    "duration": 36,
    "start_time": "2022-08-29T10:36:30.448Z"
   },
   {
    "duration": 21,
    "start_time": "2022-08-29T10:36:30.486Z"
   },
   {
    "duration": 49,
    "start_time": "2022-08-29T10:36:30.509Z"
   },
   {
    "duration": 23,
    "start_time": "2022-08-29T10:36:30.560Z"
   },
   {
    "duration": 26,
    "start_time": "2022-08-29T10:36:30.587Z"
   },
   {
    "duration": 26,
    "start_time": "2022-08-29T10:36:30.615Z"
   },
   {
    "duration": 1850,
    "start_time": "2022-08-29T10:36:30.643Z"
   },
   {
    "duration": 29,
    "start_time": "2022-08-29T10:36:32.538Z"
   },
   {
    "duration": 6011,
    "start_time": "2022-08-29T10:36:32.570Z"
   },
   {
    "duration": 8,
    "start_time": "2022-08-29T10:36:38.583Z"
   },
   {
    "duration": 63,
    "start_time": "2022-08-29T10:36:38.592Z"
   },
   {
    "duration": 7,
    "start_time": "2022-08-29T10:36:38.657Z"
   },
   {
    "duration": 48,
    "start_time": "2022-08-29T10:36:38.665Z"
   },
   {
    "duration": 22,
    "start_time": "2022-08-29T10:36:38.716Z"
   },
   {
    "duration": 7,
    "start_time": "2022-08-29T10:36:38.741Z"
   },
   {
    "duration": 18,
    "start_time": "2022-08-29T10:36:38.750Z"
   },
   {
    "duration": 13,
    "start_time": "2022-08-29T10:36:38.770Z"
   },
   {
    "duration": 16,
    "start_time": "2022-08-29T10:36:38.785Z"
   },
   {
    "duration": 13,
    "start_time": "2022-08-29T10:36:38.803Z"
   },
   {
    "duration": 24,
    "start_time": "2022-08-29T10:36:38.818Z"
   },
   {
    "duration": 16,
    "start_time": "2022-08-29T10:36:38.844Z"
   },
   {
    "duration": 19,
    "start_time": "2022-08-29T10:36:38.862Z"
   },
   {
    "duration": 22,
    "start_time": "2022-08-29T10:36:38.886Z"
   },
   {
    "duration": 6,
    "start_time": "2022-08-29T10:36:38.911Z"
   },
   {
    "duration": 28,
    "start_time": "2022-08-29T10:36:38.919Z"
   },
   {
    "duration": 47,
    "start_time": "2022-08-29T10:36:38.950Z"
   },
   {
    "duration": 49,
    "start_time": "2022-08-29T10:36:38.999Z"
   },
   {
    "duration": 98,
    "start_time": "2022-08-29T10:36:39.050Z"
   },
   {
    "duration": 210,
    "start_time": "2022-08-29T10:36:39.150Z"
   },
   {
    "duration": 126,
    "start_time": "2022-08-29T10:36:39.362Z"
   },
   {
    "duration": 2988,
    "start_time": "2022-08-29T10:36:39.491Z"
   },
   {
    "duration": 7683,
    "start_time": "2022-08-29T10:36:42.481Z"
   },
   {
    "duration": 191,
    "start_time": "2022-08-29T10:36:50.165Z"
   },
   {
    "duration": 181,
    "start_time": "2022-08-29T10:36:50.358Z"
   },
   {
    "duration": 6,
    "start_time": "2022-08-29T10:36:50.542Z"
   },
   {
    "duration": 189,
    "start_time": "2022-08-29T10:36:50.550Z"
   },
   {
    "duration": 3687,
    "start_time": "2022-08-29T10:36:50.741Z"
   },
   {
    "duration": 10156,
    "start_time": "2022-08-29T10:36:54.430Z"
   },
   {
    "duration": 11,
    "start_time": "2022-08-29T10:37:04.588Z"
   },
   {
    "duration": 13,
    "start_time": "2022-08-29T10:37:04.600Z"
   },
   {
    "duration": 225,
    "start_time": "2022-08-29T10:37:04.614Z"
   },
   {
    "duration": 1360,
    "start_time": "2022-08-29T10:37:04.841Z"
   },
   {
    "duration": 5184,
    "start_time": "2022-08-29T10:37:06.203Z"
   },
   {
    "duration": 50,
    "start_time": "2022-08-29T10:37:11.389Z"
   },
   {
    "duration": 3,
    "start_time": "2022-08-29T10:37:11.441Z"
   },
   {
    "duration": 160,
    "start_time": "2022-08-29T10:37:11.445Z"
   },
   {
    "duration": 8,
    "start_time": "2022-08-29T10:37:44.401Z"
   },
   {
    "duration": 1766,
    "start_time": "2022-08-29T10:37:50.478Z"
   },
   {
    "duration": 21,
    "start_time": "2022-08-29T10:37:52.247Z"
   },
   {
    "duration": 79,
    "start_time": "2022-08-29T10:37:52.270Z"
   },
   {
    "duration": 7,
    "start_time": "2022-08-29T10:37:52.352Z"
   },
   {
    "duration": 12,
    "start_time": "2022-08-29T10:37:52.361Z"
   },
   {
    "duration": 73,
    "start_time": "2022-08-29T10:37:52.375Z"
   },
   {
    "duration": 18,
    "start_time": "2022-08-29T10:37:52.450Z"
   },
   {
    "duration": 68,
    "start_time": "2022-08-29T10:37:52.470Z"
   },
   {
    "duration": 6,
    "start_time": "2022-08-29T10:37:52.541Z"
   },
   {
    "duration": 6,
    "start_time": "2022-08-29T10:37:52.550Z"
   },
   {
    "duration": 7,
    "start_time": "2022-08-29T10:37:52.559Z"
   },
   {
    "duration": 2021,
    "start_time": "2022-08-29T10:37:52.568Z"
   },
   {
    "duration": 60,
    "start_time": "2022-08-29T10:37:54.591Z"
   },
   {
    "duration": 5917,
    "start_time": "2022-08-29T10:37:54.653Z"
   },
   {
    "duration": 9,
    "start_time": "2022-08-29T10:38:00.572Z"
   },
   {
    "duration": 58,
    "start_time": "2022-08-29T10:38:00.582Z"
   },
   {
    "duration": 9,
    "start_time": "2022-08-29T10:38:00.643Z"
   },
   {
    "duration": 71,
    "start_time": "2022-08-29T10:38:00.654Z"
   },
   {
    "duration": 14,
    "start_time": "2022-08-29T10:38:00.727Z"
   },
   {
    "duration": 34,
    "start_time": "2022-08-29T10:38:00.743Z"
   },
   {
    "duration": 26,
    "start_time": "2022-08-29T10:38:00.780Z"
   },
   {
    "duration": 6,
    "start_time": "2022-08-29T10:38:00.808Z"
   },
   {
    "duration": 26,
    "start_time": "2022-08-29T10:38:00.816Z"
   },
   {
    "duration": 37,
    "start_time": "2022-08-29T10:38:00.844Z"
   },
   {
    "duration": 6,
    "start_time": "2022-08-29T10:38:00.884Z"
   },
   {
    "duration": 28,
    "start_time": "2022-08-29T10:38:00.892Z"
   },
   {
    "duration": 22,
    "start_time": "2022-08-29T10:38:00.923Z"
   },
   {
    "duration": 29,
    "start_time": "2022-08-29T10:38:00.952Z"
   },
   {
    "duration": 4,
    "start_time": "2022-08-29T10:38:00.983Z"
   },
   {
    "duration": 37,
    "start_time": "2022-08-29T10:38:00.990Z"
   },
   {
    "duration": 29,
    "start_time": "2022-08-29T10:38:01.030Z"
   },
   {
    "duration": 31,
    "start_time": "2022-08-29T10:38:01.061Z"
   },
   {
    "duration": 56,
    "start_time": "2022-08-29T10:38:01.094Z"
   },
   {
    "duration": 227,
    "start_time": "2022-08-29T10:38:01.152Z"
   },
   {
    "duration": 134,
    "start_time": "2022-08-29T10:38:01.381Z"
   },
   {
    "duration": 3050,
    "start_time": "2022-08-29T10:38:01.518Z"
   },
   {
    "duration": 7631,
    "start_time": "2022-08-29T10:38:04.570Z"
   },
   {
    "duration": 137,
    "start_time": "2022-08-29T10:38:12.203Z"
   },
   {
    "duration": 93,
    "start_time": "2022-08-29T10:38:12.346Z"
   },
   {
    "duration": 8,
    "start_time": "2022-08-29T10:38:12.441Z"
   },
   {
    "duration": 99,
    "start_time": "2022-08-29T10:38:12.451Z"
   },
   {
    "duration": 3694,
    "start_time": "2022-08-29T10:38:12.552Z"
   },
   {
    "duration": 10068,
    "start_time": "2022-08-29T10:38:16.249Z"
   },
   {
    "duration": 10,
    "start_time": "2022-08-29T10:38:26.319Z"
   },
   {
    "duration": 14,
    "start_time": "2022-08-29T10:38:26.340Z"
   },
   {
    "duration": 184,
    "start_time": "2022-08-29T10:38:26.356Z"
   },
   {
    "duration": 1362,
    "start_time": "2022-08-29T10:38:26.541Z"
   },
   {
    "duration": 5140,
    "start_time": "2022-08-29T10:38:27.905Z"
   },
   {
    "duration": 45,
    "start_time": "2022-08-29T10:38:33.047Z"
   },
   {
    "duration": 2,
    "start_time": "2022-08-29T10:38:33.095Z"
   },
   {
    "duration": 176,
    "start_time": "2022-08-29T10:38:33.099Z"
   },
   {
    "duration": 1480,
    "start_time": "2022-08-29T10:43:58.929Z"
   },
   {
    "duration": 14,
    "start_time": "2022-08-29T10:44:00.411Z"
   },
   {
    "duration": 30,
    "start_time": "2022-08-29T10:44:00.426Z"
   },
   {
    "duration": 10,
    "start_time": "2022-08-29T10:44:00.458Z"
   },
   {
    "duration": 18,
    "start_time": "2022-08-29T10:44:00.471Z"
   },
   {
    "duration": 27,
    "start_time": "2022-08-29T10:44:00.490Z"
   },
   {
    "duration": 33,
    "start_time": "2022-08-29T10:44:00.519Z"
   },
   {
    "duration": 26,
    "start_time": "2022-08-29T10:44:00.553Z"
   },
   {
    "duration": 15,
    "start_time": "2022-08-29T10:44:00.581Z"
   },
   {
    "duration": 21,
    "start_time": "2022-08-29T10:44:00.597Z"
   },
   {
    "duration": 19,
    "start_time": "2022-08-29T10:44:00.619Z"
   },
   {
    "duration": 1749,
    "start_time": "2022-08-29T10:44:00.640Z"
   },
   {
    "duration": 59,
    "start_time": "2022-08-29T10:44:02.391Z"
   },
   {
    "duration": 5851,
    "start_time": "2022-08-29T10:44:02.453Z"
   },
   {
    "duration": 7,
    "start_time": "2022-08-29T10:44:08.306Z"
   },
   {
    "duration": 48,
    "start_time": "2022-08-29T10:44:08.314Z"
   },
   {
    "duration": 4,
    "start_time": "2022-08-29T10:44:08.364Z"
   },
   {
    "duration": 12,
    "start_time": "2022-08-29T10:44:08.369Z"
   },
   {
    "duration": 40,
    "start_time": "2022-08-29T10:44:08.383Z"
   },
   {
    "duration": 16,
    "start_time": "2022-08-29T10:44:08.425Z"
   },
   {
    "duration": 15,
    "start_time": "2022-08-29T10:44:08.442Z"
   },
   {
    "duration": 12,
    "start_time": "2022-08-29T10:44:08.459Z"
   },
   {
    "duration": 5,
    "start_time": "2022-08-29T10:44:08.473Z"
   },
   {
    "duration": 18,
    "start_time": "2022-08-29T10:44:08.479Z"
   },
   {
    "duration": 12,
    "start_time": "2022-08-29T10:44:08.499Z"
   },
   {
    "duration": 25,
    "start_time": "2022-08-29T10:44:08.513Z"
   },
   {
    "duration": 7,
    "start_time": "2022-08-29T10:44:08.540Z"
   },
   {
    "duration": 10,
    "start_time": "2022-08-29T10:44:08.549Z"
   },
   {
    "duration": 8,
    "start_time": "2022-08-29T10:44:08.561Z"
   },
   {
    "duration": 3,
    "start_time": "2022-08-29T10:44:08.571Z"
   },
   {
    "duration": 17,
    "start_time": "2022-08-29T10:44:08.576Z"
   },
   {
    "duration": 44,
    "start_time": "2022-08-29T10:44:08.595Z"
   },
   {
    "duration": 13,
    "start_time": "2022-08-29T10:44:08.641Z"
   },
   {
    "duration": 191,
    "start_time": "2022-08-29T10:44:08.655Z"
   },
   {
    "duration": 138,
    "start_time": "2022-08-29T10:44:08.848Z"
   },
   {
    "duration": 144,
    "start_time": "2022-08-29T10:44:08.988Z"
   },
   {
    "duration": 2839,
    "start_time": "2022-08-29T10:44:09.139Z"
   },
   {
    "duration": 7332,
    "start_time": "2022-08-29T10:44:11.979Z"
   },
   {
    "duration": 132,
    "start_time": "2022-08-29T10:44:19.313Z"
   },
   {
    "duration": 102,
    "start_time": "2022-08-29T10:44:19.447Z"
   },
   {
    "duration": 86,
    "start_time": "2022-08-29T10:44:19.554Z"
   },
   {
    "duration": 197,
    "start_time": "2022-08-29T10:44:19.642Z"
   },
   {
    "duration": 3436,
    "start_time": "2022-08-29T10:44:19.841Z"
   },
   {
    "duration": 9684,
    "start_time": "2022-08-29T10:44:23.278Z"
   },
   {
    "duration": 11,
    "start_time": "2022-08-29T10:44:32.963Z"
   },
   {
    "duration": 7,
    "start_time": "2022-08-29T10:44:32.976Z"
   },
   {
    "duration": 155,
    "start_time": "2022-08-29T10:44:32.985Z"
   },
   {
    "duration": 1412,
    "start_time": "2022-08-29T10:44:33.142Z"
   },
   {
    "duration": 4984,
    "start_time": "2022-08-29T10:44:34.556Z"
   },
   {
    "duration": 40,
    "start_time": "2022-08-29T10:44:39.542Z"
   },
   {
    "duration": 2,
    "start_time": "2022-08-29T10:44:39.584Z"
   },
   {
    "duration": 176,
    "start_time": "2022-08-29T10:44:39.588Z"
   },
   {
    "duration": 78,
    "start_time": "2022-08-29T11:24:33.528Z"
   },
   {
    "duration": 42,
    "start_time": "2022-08-29T11:24:49.782Z"
   },
   {
    "duration": 42,
    "start_time": "2022-08-29T11:25:09.485Z"
   },
   {
    "duration": 7,
    "start_time": "2022-08-29T11:26:23.232Z"
   },
   {
    "duration": 1548,
    "start_time": "2022-08-29T11:26:35.755Z"
   },
   {
    "duration": 14,
    "start_time": "2022-08-29T11:26:37.305Z"
   },
   {
    "duration": 22,
    "start_time": "2022-08-29T11:26:37.320Z"
   },
   {
    "duration": 5,
    "start_time": "2022-08-29T11:26:37.344Z"
   },
   {
    "duration": 6,
    "start_time": "2022-08-29T11:26:37.352Z"
   },
   {
    "duration": 20,
    "start_time": "2022-08-29T11:26:37.359Z"
   },
   {
    "duration": 20,
    "start_time": "2022-08-29T11:26:37.380Z"
   },
   {
    "duration": 12,
    "start_time": "2022-08-29T11:26:37.402Z"
   },
   {
    "duration": 4,
    "start_time": "2022-08-29T11:26:37.416Z"
   },
   {
    "duration": 4,
    "start_time": "2022-08-29T11:26:37.439Z"
   },
   {
    "duration": 9,
    "start_time": "2022-08-29T11:26:37.445Z"
   },
   {
    "duration": 1073,
    "start_time": "2022-08-29T11:26:37.456Z"
   },
   {
    "duration": 21,
    "start_time": "2022-08-29T11:26:38.531Z"
   },
   {
    "duration": 5125,
    "start_time": "2022-08-29T11:26:38.555Z"
   },
   {
    "duration": 8,
    "start_time": "2022-08-29T11:26:43.683Z"
   },
   {
    "duration": 57,
    "start_time": "2022-08-29T11:26:43.693Z"
   },
   {
    "duration": 5,
    "start_time": "2022-08-29T11:26:43.752Z"
   },
   {
    "duration": 9,
    "start_time": "2022-08-29T11:26:43.759Z"
   },
   {
    "duration": 45,
    "start_time": "2022-08-29T11:26:43.770Z"
   },
   {
    "duration": 23,
    "start_time": "2022-08-29T11:26:43.817Z"
   },
   {
    "duration": 10,
    "start_time": "2022-08-29T11:26:43.841Z"
   },
   {
    "duration": 9,
    "start_time": "2022-08-29T11:26:43.853Z"
   },
   {
    "duration": 12,
    "start_time": "2022-08-29T11:26:43.863Z"
   },
   {
    "duration": 4,
    "start_time": "2022-08-29T11:26:43.877Z"
   },
   {
    "duration": 14,
    "start_time": "2022-08-29T11:26:43.883Z"
   },
   {
    "duration": 13,
    "start_time": "2022-08-29T11:26:43.898Z"
   },
   {
    "duration": 5,
    "start_time": "2022-08-29T11:26:43.938Z"
   },
   {
    "duration": 16,
    "start_time": "2022-08-29T11:26:43.944Z"
   },
   {
    "duration": 10,
    "start_time": "2022-08-29T11:26:43.962Z"
   },
   {
    "duration": 9,
    "start_time": "2022-08-29T11:26:43.974Z"
   },
   {
    "duration": 5,
    "start_time": "2022-08-29T11:26:43.985Z"
   },
   {
    "duration": 22,
    "start_time": "2022-08-29T11:26:43.991Z"
   },
   {
    "duration": 30,
    "start_time": "2022-08-29T11:26:44.015Z"
   },
   {
    "duration": 26,
    "start_time": "2022-08-29T11:26:44.047Z"
   },
   {
    "duration": 263,
    "start_time": "2022-08-29T11:26:44.075Z"
   },
   {
    "duration": 130,
    "start_time": "2022-08-29T11:26:44.341Z"
   },
   {
    "duration": 115,
    "start_time": "2022-08-29T11:26:44.472Z"
   },
   {
    "duration": 2901,
    "start_time": "2022-08-29T11:26:44.589Z"
   },
   {
    "duration": 7336,
    "start_time": "2022-08-29T11:26:47.492Z"
   },
   {
    "duration": 117,
    "start_time": "2022-08-29T11:26:54.829Z"
   },
   {
    "duration": 213,
    "start_time": "2022-08-29T11:26:54.951Z"
   },
   {
    "duration": 14,
    "start_time": "2022-08-29T11:26:55.165Z"
   },
   {
    "duration": 159,
    "start_time": "2022-08-29T11:26:55.180Z"
   },
   {
    "duration": 3506,
    "start_time": "2022-08-29T11:26:55.341Z"
   },
   {
    "duration": 10094,
    "start_time": "2022-08-29T11:26:58.849Z"
   },
   {
    "duration": 14,
    "start_time": "2022-08-29T11:27:08.945Z"
   },
   {
    "duration": 16,
    "start_time": "2022-08-29T11:27:08.961Z"
   },
   {
    "duration": 163,
    "start_time": "2022-08-29T11:27:08.979Z"
   },
   {
    "duration": 1433,
    "start_time": "2022-08-29T11:27:09.148Z"
   },
   {
    "duration": 4983,
    "start_time": "2022-08-29T11:27:10.582Z"
   },
   {
    "duration": 39,
    "start_time": "2022-08-29T11:27:15.567Z"
   },
   {
    "duration": 2,
    "start_time": "2022-08-29T11:27:15.608Z"
   },
   {
    "duration": 176,
    "start_time": "2022-08-29T11:27:15.612Z"
   },
   {
    "duration": 1446,
    "start_time": "2022-08-29T11:31:42.642Z"
   },
   {
    "duration": 14,
    "start_time": "2022-08-29T11:31:44.089Z"
   },
   {
    "duration": 35,
    "start_time": "2022-08-29T11:31:44.105Z"
   },
   {
    "duration": 20,
    "start_time": "2022-08-29T11:31:44.142Z"
   },
   {
    "duration": 28,
    "start_time": "2022-08-29T11:31:44.164Z"
   },
   {
    "duration": 33,
    "start_time": "2022-08-29T11:31:44.194Z"
   },
   {
    "duration": 29,
    "start_time": "2022-08-29T11:31:44.229Z"
   },
   {
    "duration": 51,
    "start_time": "2022-08-29T11:31:44.260Z"
   },
   {
    "duration": 33,
    "start_time": "2022-08-29T11:31:44.313Z"
   },
   {
    "duration": 17,
    "start_time": "2022-08-29T11:31:44.350Z"
   },
   {
    "duration": 15,
    "start_time": "2022-08-29T11:31:44.369Z"
   },
   {
    "duration": 1912,
    "start_time": "2022-08-29T11:31:44.385Z"
   },
   {
    "duration": 20,
    "start_time": "2022-08-29T11:31:46.298Z"
   },
   {
    "duration": 4844,
    "start_time": "2022-08-29T11:31:46.319Z"
   },
   {
    "duration": 7,
    "start_time": "2022-08-29T11:31:51.165Z"
   },
   {
    "duration": 49,
    "start_time": "2022-08-29T11:31:51.174Z"
   },
   {
    "duration": 14,
    "start_time": "2022-08-29T11:31:51.225Z"
   },
   {
    "duration": 9,
    "start_time": "2022-08-29T11:31:51.241Z"
   },
   {
    "duration": 44,
    "start_time": "2022-08-29T11:31:51.251Z"
   },
   {
    "duration": 5,
    "start_time": "2022-08-29T11:31:51.296Z"
   },
   {
    "duration": 6,
    "start_time": "2022-08-29T11:31:51.303Z"
   },
   {
    "duration": 28,
    "start_time": "2022-08-29T11:31:51.310Z"
   },
   {
    "duration": 11,
    "start_time": "2022-08-29T11:31:51.340Z"
   },
   {
    "duration": 2,
    "start_time": "2022-08-29T11:31:51.352Z"
   },
   {
    "duration": 16,
    "start_time": "2022-08-29T11:31:51.356Z"
   },
   {
    "duration": 12,
    "start_time": "2022-08-29T11:31:51.373Z"
   },
   {
    "duration": 5,
    "start_time": "2022-08-29T11:31:51.387Z"
   },
   {
    "duration": 8,
    "start_time": "2022-08-29T11:31:51.395Z"
   },
   {
    "duration": 8,
    "start_time": "2022-08-29T11:31:51.439Z"
   },
   {
    "duration": 9,
    "start_time": "2022-08-29T11:31:51.449Z"
   },
   {
    "duration": 3,
    "start_time": "2022-08-29T11:31:51.460Z"
   },
   {
    "duration": 15,
    "start_time": "2022-08-29T11:31:51.465Z"
   },
   {
    "duration": 15,
    "start_time": "2022-08-29T11:31:51.482Z"
   },
   {
    "duration": 40,
    "start_time": "2022-08-29T11:31:51.499Z"
   },
   {
    "duration": 108,
    "start_time": "2022-08-29T11:31:51.541Z"
   },
   {
    "duration": 132,
    "start_time": "2022-08-29T11:31:51.739Z"
   },
   {
    "duration": 122,
    "start_time": "2022-08-29T11:31:51.873Z"
   },
   {
    "duration": 2948,
    "start_time": "2022-08-29T11:31:51.997Z"
   },
   {
    "duration": 7323,
    "start_time": "2022-08-29T11:31:54.947Z"
   },
   {
    "duration": 173,
    "start_time": "2022-08-29T11:32:02.271Z"
   },
   {
    "duration": 104,
    "start_time": "2022-08-29T11:32:02.446Z"
   },
   {
    "duration": 98,
    "start_time": "2022-08-29T11:32:02.552Z"
   },
   {
    "duration": 186,
    "start_time": "2022-08-29T11:32:02.652Z"
   },
   {
    "duration": 3503,
    "start_time": "2022-08-29T11:32:02.841Z"
   },
   {
    "duration": 9689,
    "start_time": "2022-08-29T11:32:06.346Z"
   },
   {
    "duration": 10,
    "start_time": "2022-08-29T11:32:16.037Z"
   },
   {
    "duration": 42,
    "start_time": "2022-08-29T11:32:16.049Z"
   },
   {
    "duration": 147,
    "start_time": "2022-08-29T11:32:16.093Z"
   },
   {
    "duration": 1376,
    "start_time": "2022-08-29T11:32:16.243Z"
   },
   {
    "duration": 4930,
    "start_time": "2022-08-29T11:32:17.620Z"
   },
   {
    "duration": 39,
    "start_time": "2022-08-29T11:32:22.552Z"
   },
   {
    "duration": 2,
    "start_time": "2022-08-29T11:32:22.592Z"
   },
   {
    "duration": 180,
    "start_time": "2022-08-29T11:32:22.596Z"
   },
   {
    "duration": 138,
    "start_time": "2022-08-29T11:34:09.321Z"
   },
   {
    "duration": 1427,
    "start_time": "2022-08-29T11:57:21.148Z"
   },
   {
    "duration": 13,
    "start_time": "2022-08-29T11:57:22.577Z"
   },
   {
    "duration": 19,
    "start_time": "2022-08-29T11:57:22.591Z"
   },
   {
    "duration": 5,
    "start_time": "2022-08-29T11:57:22.612Z"
   },
   {
    "duration": 7,
    "start_time": "2022-08-29T11:57:22.619Z"
   },
   {
    "duration": 21,
    "start_time": "2022-08-29T11:57:22.627Z"
   },
   {
    "duration": 23,
    "start_time": "2022-08-29T11:57:22.650Z"
   },
   {
    "duration": 12,
    "start_time": "2022-08-29T11:57:22.674Z"
   },
   {
    "duration": 4,
    "start_time": "2022-08-29T11:57:22.688Z"
   },
   {
    "duration": 8,
    "start_time": "2022-08-29T11:57:22.694Z"
   },
   {
    "duration": 12,
    "start_time": "2022-08-29T11:57:22.703Z"
   },
   {
    "duration": 1349,
    "start_time": "2022-08-29T11:57:22.716Z"
   },
   {
    "duration": 19,
    "start_time": "2022-08-29T11:57:24.067Z"
   },
   {
    "duration": 5551,
    "start_time": "2022-08-29T11:57:24.087Z"
   },
   {
    "duration": 7,
    "start_time": "2022-08-29T11:57:29.640Z"
   },
   {
    "duration": 50,
    "start_time": "2022-08-29T11:57:29.648Z"
   },
   {
    "duration": 5,
    "start_time": "2022-08-29T11:57:29.701Z"
   },
   {
    "duration": 23,
    "start_time": "2022-08-29T11:57:29.708Z"
   },
   {
    "duration": 48,
    "start_time": "2022-08-29T11:57:29.739Z"
   },
   {
    "duration": 3,
    "start_time": "2022-08-29T11:57:29.788Z"
   },
   {
    "duration": 12,
    "start_time": "2022-08-29T11:57:29.793Z"
   },
   {
    "duration": 5,
    "start_time": "2022-08-29T11:57:29.807Z"
   },
   {
    "duration": 31,
    "start_time": "2022-08-29T11:57:29.814Z"
   },
   {
    "duration": 3,
    "start_time": "2022-08-29T11:57:29.846Z"
   },
   {
    "duration": 15,
    "start_time": "2022-08-29T11:57:29.850Z"
   },
   {
    "duration": 12,
    "start_time": "2022-08-29T11:57:29.866Z"
   },
   {
    "duration": 4,
    "start_time": "2022-08-29T11:57:29.880Z"
   },
   {
    "duration": 9,
    "start_time": "2022-08-29T11:57:29.888Z"
   },
   {
    "duration": 14,
    "start_time": "2022-08-29T11:57:29.899Z"
   },
   {
    "duration": 10,
    "start_time": "2022-08-29T11:57:29.939Z"
   },
   {
    "duration": 4,
    "start_time": "2022-08-29T11:57:29.950Z"
   },
   {
    "duration": 15,
    "start_time": "2022-08-29T11:57:29.956Z"
   },
   {
    "duration": 16,
    "start_time": "2022-08-29T11:57:29.973Z"
   },
   {
    "duration": 14,
    "start_time": "2022-08-29T11:57:29.991Z"
   },
   {
    "duration": 137,
    "start_time": "2022-08-29T11:57:30.008Z"
   },
   {
    "duration": 221,
    "start_time": "2022-08-29T11:57:30.147Z"
   },
   {
    "duration": 127,
    "start_time": "2022-08-29T11:57:30.370Z"
   },
   {
    "duration": 3050,
    "start_time": "2022-08-29T11:57:30.498Z"
   },
   {
    "duration": 7492,
    "start_time": "2022-08-29T11:57:33.550Z"
   },
   {
    "duration": 100,
    "start_time": "2022-08-29T11:57:41.044Z"
   },
   {
    "duration": 202,
    "start_time": "2022-08-29T11:57:41.146Z"
   },
   {
    "duration": 25,
    "start_time": "2022-08-29T11:57:41.350Z"
   },
   {
    "duration": 162,
    "start_time": "2022-08-29T11:57:41.377Z"
   },
   {
    "duration": 3621,
    "start_time": "2022-08-29T11:57:41.541Z"
   },
   {
    "duration": 10028,
    "start_time": "2022-08-29T11:57:45.164Z"
   },
   {
    "duration": 10,
    "start_time": "2022-08-29T11:57:55.194Z"
   },
   {
    "duration": 5,
    "start_time": "2022-08-29T11:57:55.206Z"
   },
   {
    "duration": 133,
    "start_time": "2022-08-29T11:57:55.212Z"
   },
   {
    "duration": 1430,
    "start_time": "2022-08-29T11:57:55.347Z"
   },
   {
    "duration": 5121,
    "start_time": "2022-08-29T11:57:56.779Z"
   },
   {
    "duration": 157,
    "start_time": "2022-08-29T11:58:01.902Z"
   },
   {
    "duration": 3,
    "start_time": "2022-08-29T11:58:02.061Z"
   },
   {
    "duration": 176,
    "start_time": "2022-08-29T11:58:02.065Z"
   },
   {
    "duration": 47,
    "start_time": "2022-08-29T11:58:40.700Z"
   },
   {
    "duration": 1481,
    "start_time": "2022-08-29T11:58:50.008Z"
   },
   {
    "duration": 13,
    "start_time": "2022-08-29T11:58:51.491Z"
   },
   {
    "duration": 18,
    "start_time": "2022-08-29T11:58:51.505Z"
   },
   {
    "duration": 5,
    "start_time": "2022-08-29T11:58:51.525Z"
   },
   {
    "duration": 7,
    "start_time": "2022-08-29T11:58:51.531Z"
   },
   {
    "duration": 17,
    "start_time": "2022-08-29T11:58:51.539Z"
   },
   {
    "duration": 14,
    "start_time": "2022-08-29T11:58:51.558Z"
   },
   {
    "duration": 12,
    "start_time": "2022-08-29T11:58:51.573Z"
   },
   {
    "duration": 5,
    "start_time": "2022-08-29T11:58:51.587Z"
   },
   {
    "duration": 5,
    "start_time": "2022-08-29T11:58:51.594Z"
   },
   {
    "duration": 7,
    "start_time": "2022-08-29T11:58:51.601Z"
   },
   {
    "duration": 1756,
    "start_time": "2022-08-29T11:58:51.609Z"
   },
   {
    "duration": 20,
    "start_time": "2022-08-29T11:58:53.367Z"
   },
   {
    "duration": 5117,
    "start_time": "2022-08-29T11:58:53.389Z"
   },
   {
    "duration": 7,
    "start_time": "2022-08-29T11:58:58.508Z"
   },
   {
    "duration": 51,
    "start_time": "2022-08-29T11:58:58.517Z"
   },
   {
    "duration": 6,
    "start_time": "2022-08-29T11:58:58.570Z"
   },
   {
    "duration": 10,
    "start_time": "2022-08-29T11:58:58.578Z"
   },
   {
    "duration": 65,
    "start_time": "2022-08-29T11:58:58.591Z"
   },
   {
    "duration": 3,
    "start_time": "2022-08-29T11:58:58.658Z"
   },
   {
    "duration": 10,
    "start_time": "2022-08-29T11:58:58.662Z"
   },
   {
    "duration": 10,
    "start_time": "2022-08-29T11:58:58.674Z"
   },
   {
    "duration": 15,
    "start_time": "2022-08-29T11:58:58.686Z"
   },
   {
    "duration": 3,
    "start_time": "2022-08-29T11:58:58.702Z"
   },
   {
    "duration": 15,
    "start_time": "2022-08-29T11:58:58.706Z"
   },
   {
    "duration": 12,
    "start_time": "2022-08-29T11:58:58.739Z"
   },
   {
    "duration": 7,
    "start_time": "2022-08-29T11:58:58.753Z"
   },
   {
    "duration": 8,
    "start_time": "2022-08-29T11:58:58.764Z"
   },
   {
    "duration": 8,
    "start_time": "2022-08-29T11:58:58.774Z"
   },
   {
    "duration": 10,
    "start_time": "2022-08-29T11:58:58.784Z"
   },
   {
    "duration": 43,
    "start_time": "2022-08-29T11:58:58.796Z"
   },
   {
    "duration": 14,
    "start_time": "2022-08-29T11:58:58.841Z"
   },
   {
    "duration": 20,
    "start_time": "2022-08-29T11:58:58.857Z"
   },
   {
    "duration": 28,
    "start_time": "2022-08-29T11:58:58.879Z"
   },
   {
    "duration": 231,
    "start_time": "2022-08-29T11:58:58.909Z"
   },
   {
    "duration": 126,
    "start_time": "2022-08-29T11:58:59.142Z"
   },
   {
    "duration": 122,
    "start_time": "2022-08-29T11:58:59.270Z"
   },
   {
    "duration": 2947,
    "start_time": "2022-08-29T11:58:59.394Z"
   },
   {
    "duration": 7526,
    "start_time": "2022-08-29T11:59:02.343Z"
   },
   {
    "duration": 79,
    "start_time": "2022-08-29T11:59:09.871Z"
   },
   {
    "duration": 186,
    "start_time": "2022-08-29T11:59:09.952Z"
   },
   {
    "duration": 9,
    "start_time": "2022-08-29T11:59:10.140Z"
   },
   {
    "duration": 187,
    "start_time": "2022-08-29T11:59:10.152Z"
   },
   {
    "duration": 3603,
    "start_time": "2022-08-29T11:59:10.342Z"
   },
   {
    "duration": 9916,
    "start_time": "2022-08-29T11:59:13.947Z"
   },
   {
    "duration": 10,
    "start_time": "2022-08-29T11:59:23.865Z"
   },
   {
    "duration": 7,
    "start_time": "2022-08-29T11:59:23.876Z"
   },
   {
    "duration": 254,
    "start_time": "2022-08-29T11:59:23.884Z"
   },
   {
    "duration": 1415,
    "start_time": "2022-08-29T11:59:24.141Z"
   },
   {
    "duration": 5163,
    "start_time": "2022-08-29T11:59:25.558Z"
   },
   {
    "duration": 158,
    "start_time": "2022-08-29T11:59:30.723Z"
   },
   {
    "duration": 3,
    "start_time": "2022-08-29T11:59:30.883Z"
   },
   {
    "duration": 177,
    "start_time": "2022-08-29T11:59:30.888Z"
   },
   {
    "duration": 11,
    "start_time": "2022-08-29T12:18:14.938Z"
   },
   {
    "duration": 9,
    "start_time": "2022-08-29T12:18:26.695Z"
   },
   {
    "duration": 1412,
    "start_time": "2022-08-29T12:18:36.289Z"
   },
   {
    "duration": 13,
    "start_time": "2022-08-29T12:18:37.704Z"
   },
   {
    "duration": 19,
    "start_time": "2022-08-29T12:18:37.719Z"
   },
   {
    "duration": 4,
    "start_time": "2022-08-29T12:18:37.740Z"
   },
   {
    "duration": 10,
    "start_time": "2022-08-29T12:18:37.745Z"
   },
   {
    "duration": 13,
    "start_time": "2022-08-29T12:18:37.756Z"
   },
   {
    "duration": 14,
    "start_time": "2022-08-29T12:18:37.771Z"
   },
   {
    "duration": 13,
    "start_time": "2022-08-29T12:18:37.787Z"
   },
   {
    "duration": 5,
    "start_time": "2022-08-29T12:18:37.801Z"
   },
   {
    "duration": 33,
    "start_time": "2022-08-29T12:18:37.808Z"
   },
   {
    "duration": 6,
    "start_time": "2022-08-29T12:18:37.842Z"
   },
   {
    "duration": 999,
    "start_time": "2022-08-29T12:18:37.850Z"
   },
   {
    "duration": 25,
    "start_time": "2022-08-29T12:18:38.851Z"
   },
   {
    "duration": 4798,
    "start_time": "2022-08-29T12:18:38.878Z"
   },
   {
    "duration": 8,
    "start_time": "2022-08-29T12:18:43.678Z"
   },
   {
    "duration": 17,
    "start_time": "2022-08-29T12:18:43.687Z"
   },
   {
    "duration": 5,
    "start_time": "2022-08-29T12:18:43.706Z"
   },
   {
    "duration": 30,
    "start_time": "2022-08-29T12:18:43.713Z"
   },
   {
    "duration": 13,
    "start_time": "2022-08-29T12:18:43.744Z"
   },
   {
    "duration": 3,
    "start_time": "2022-08-29T12:18:43.759Z"
   },
   {
    "duration": 13,
    "start_time": "2022-08-29T12:18:43.764Z"
   },
   {
    "duration": 16,
    "start_time": "2022-08-29T12:18:43.779Z"
   },
   {
    "duration": 18,
    "start_time": "2022-08-29T12:18:43.797Z"
   },
   {
    "duration": 3,
    "start_time": "2022-08-29T12:18:43.838Z"
   },
   {
    "duration": 16,
    "start_time": "2022-08-29T12:18:43.842Z"
   },
   {
    "duration": 12,
    "start_time": "2022-08-29T12:18:43.860Z"
   },
   {
    "duration": 5,
    "start_time": "2022-08-29T12:18:43.874Z"
   },
   {
    "duration": 6,
    "start_time": "2022-08-29T12:18:43.882Z"
   },
   {
    "duration": 8,
    "start_time": "2022-08-29T12:18:43.890Z"
   },
   {
    "duration": 49,
    "start_time": "2022-08-29T12:18:43.899Z"
   },
   {
    "duration": 4,
    "start_time": "2022-08-29T12:18:43.949Z"
   },
   {
    "duration": 16,
    "start_time": "2022-08-29T12:18:43.954Z"
   },
   {
    "duration": 15,
    "start_time": "2022-08-29T12:18:43.971Z"
   },
   {
    "duration": 22,
    "start_time": "2022-08-29T12:18:43.988Z"
   },
   {
    "duration": 134,
    "start_time": "2022-08-29T12:18:44.012Z"
   },
   {
    "duration": 215,
    "start_time": "2022-08-29T12:18:44.148Z"
   },
   {
    "duration": 114,
    "start_time": "2022-08-29T12:18:44.364Z"
   },
   {
    "duration": 2869,
    "start_time": "2022-08-29T12:18:44.480Z"
   },
   {
    "duration": 8182,
    "start_time": "2022-08-29T12:18:47.350Z"
   },
   {
    "duration": 110,
    "start_time": "2022-08-29T12:18:55.534Z"
   },
   {
    "duration": 193,
    "start_time": "2022-08-29T12:18:55.646Z"
   },
   {
    "duration": 8,
    "start_time": "2022-08-29T12:18:55.841Z"
   },
   {
    "duration": 189,
    "start_time": "2022-08-29T12:18:55.850Z"
   },
   {
    "duration": 3497,
    "start_time": "2022-08-29T12:18:56.041Z"
   },
   {
    "duration": 9814,
    "start_time": "2022-08-29T12:18:59.540Z"
   },
   {
    "duration": 10,
    "start_time": "2022-08-29T12:19:09.356Z"
   },
   {
    "duration": 6,
    "start_time": "2022-08-29T12:19:09.367Z"
   },
   {
    "duration": 163,
    "start_time": "2022-08-29T12:19:09.375Z"
   },
   {
    "duration": 1310,
    "start_time": "2022-08-29T12:19:09.540Z"
   },
   {
    "duration": 4977,
    "start_time": "2022-08-29T12:19:10.852Z"
   },
   {
    "duration": 144,
    "start_time": "2022-08-29T12:19:15.830Z"
   },
   {
    "duration": 3,
    "start_time": "2022-08-29T12:19:15.976Z"
   },
   {
    "duration": 173,
    "start_time": "2022-08-29T12:19:15.981Z"
   },
   {
    "duration": 7,
    "start_time": "2022-08-29T12:23:38.737Z"
   },
   {
    "duration": 8,
    "start_time": "2022-08-29T12:23:39.837Z"
   },
   {
    "duration": 1444,
    "start_time": "2022-08-29T12:23:54.139Z"
   },
   {
    "duration": 13,
    "start_time": "2022-08-29T12:23:56.932Z"
   },
   {
    "duration": 19,
    "start_time": "2022-08-29T12:23:59.875Z"
   },
   {
    "duration": 5,
    "start_time": "2022-08-29T12:24:06.404Z"
   },
   {
    "duration": 4,
    "start_time": "2022-08-29T12:24:09.570Z"
   },
   {
    "duration": 11,
    "start_time": "2022-08-29T12:24:14.034Z"
   },
   {
    "duration": 11,
    "start_time": "2022-08-29T12:24:16.196Z"
   },
   {
    "duration": 12,
    "start_time": "2022-08-29T12:24:21.439Z"
   },
   {
    "duration": 5,
    "start_time": "2022-08-29T12:24:24.232Z"
   },
   {
    "duration": 5,
    "start_time": "2022-08-29T12:24:25.868Z"
   },
   {
    "duration": 5,
    "start_time": "2022-08-29T12:24:27.629Z"
   },
   {
    "duration": 1062,
    "start_time": "2022-08-29T12:24:30.747Z"
   },
   {
    "duration": 20,
    "start_time": "2022-08-29T12:24:50.134Z"
   },
   {
    "duration": 4975,
    "start_time": "2022-08-29T12:24:51.392Z"
   },
   {
    "duration": 10,
    "start_time": "2022-08-29T12:25:38.931Z"
   },
   {
    "duration": 11,
    "start_time": "2022-08-29T12:25:40.227Z"
   },
   {
    "duration": 8,
    "start_time": "2022-08-29T13:47:02.084Z"
   },
   {
    "duration": 9,
    "start_time": "2022-08-29T13:47:03.693Z"
   },
   {
    "duration": 5,
    "start_time": "2022-08-29T13:48:24.932Z"
   },
   {
    "duration": 8,
    "start_time": "2022-08-29T13:48:41.508Z"
   },
   {
    "duration": 19,
    "start_time": "2022-08-29T13:48:46.452Z"
   },
   {
    "duration": 8,
    "start_time": "2022-08-29T13:49:00.051Z"
   },
   {
    "duration": 8,
    "start_time": "2022-08-29T13:49:01.508Z"
   },
   {
    "duration": 6,
    "start_time": "2022-08-29T13:49:06.204Z"
   },
   {
    "duration": 7,
    "start_time": "2022-08-29T13:49:06.676Z"
   },
   {
    "duration": 5,
    "start_time": "2022-08-29T13:49:10.923Z"
   },
   {
    "duration": 6,
    "start_time": "2022-08-29T13:49:11.491Z"
   },
   {
    "duration": 12,
    "start_time": "2022-08-29T13:49:13.203Z"
   },
   {
    "duration": 22,
    "start_time": "2022-08-29T13:49:52.355Z"
   },
   {
    "duration": 1474,
    "start_time": "2022-08-29T13:50:05.115Z"
   },
   {
    "duration": 13,
    "start_time": "2022-08-29T13:50:06.591Z"
   },
   {
    "duration": 19,
    "start_time": "2022-08-29T13:50:06.606Z"
   },
   {
    "duration": 6,
    "start_time": "2022-08-29T13:50:06.627Z"
   },
   {
    "duration": 11,
    "start_time": "2022-08-29T13:50:06.635Z"
   },
   {
    "duration": 18,
    "start_time": "2022-08-29T13:50:06.648Z"
   },
   {
    "duration": 13,
    "start_time": "2022-08-29T13:50:06.668Z"
   },
   {
    "duration": 13,
    "start_time": "2022-08-29T13:50:06.683Z"
   },
   {
    "duration": 5,
    "start_time": "2022-08-29T13:50:06.697Z"
   },
   {
    "duration": 9,
    "start_time": "2022-08-29T13:50:06.704Z"
   },
   {
    "duration": 26,
    "start_time": "2022-08-29T13:50:06.714Z"
   },
   {
    "duration": 1051,
    "start_time": "2022-08-29T13:50:06.742Z"
   },
   {
    "duration": 19,
    "start_time": "2022-08-29T13:50:07.795Z"
   },
   {
    "duration": 5630,
    "start_time": "2022-08-29T13:50:07.818Z"
   },
   {
    "duration": 8,
    "start_time": "2022-08-29T13:50:13.450Z"
   },
   {
    "duration": 11,
    "start_time": "2022-08-29T13:50:13.460Z"
   },
   {
    "duration": 9,
    "start_time": "2022-08-29T13:50:13.472Z"
   },
   {
    "duration": 11,
    "start_time": "2022-08-29T13:50:13.483Z"
   },
   {
    "duration": 9,
    "start_time": "2022-08-29T13:50:13.496Z"
   },
   {
    "duration": 34,
    "start_time": "2022-08-29T13:50:13.506Z"
   },
   {
    "duration": 8,
    "start_time": "2022-08-29T13:50:13.542Z"
   },
   {
    "duration": 10,
    "start_time": "2022-08-29T13:50:13.552Z"
   },
   {
    "duration": 12,
    "start_time": "2022-08-29T13:50:13.564Z"
   },
   {
    "duration": 16,
    "start_time": "2022-08-29T13:50:13.578Z"
   },
   {
    "duration": 13,
    "start_time": "2022-08-29T13:50:13.595Z"
   },
   {
    "duration": 5,
    "start_time": "2022-08-29T13:50:13.609Z"
   },
   {
    "duration": 7,
    "start_time": "2022-08-29T13:50:13.639Z"
   },
   {
    "duration": 17,
    "start_time": "2022-08-29T13:50:13.648Z"
   },
   {
    "duration": 8,
    "start_time": "2022-08-29T13:50:13.667Z"
   },
   {
    "duration": 10,
    "start_time": "2022-08-29T13:50:13.677Z"
   },
   {
    "duration": 19,
    "start_time": "2022-08-29T13:50:13.689Z"
   },
   {
    "duration": 25,
    "start_time": "2022-08-29T13:50:13.710Z"
   },
   {
    "duration": 13,
    "start_time": "2022-08-29T13:50:13.738Z"
   },
   {
    "duration": 188,
    "start_time": "2022-08-29T13:50:13.753Z"
   },
   {
    "duration": 133,
    "start_time": "2022-08-29T13:50:13.944Z"
   },
   {
    "duration": 108,
    "start_time": "2022-08-29T13:50:14.079Z"
   },
   {
    "duration": 2556,
    "start_time": "2022-08-29T13:50:14.189Z"
   },
   {
    "duration": 7090,
    "start_time": "2022-08-29T13:50:16.747Z"
   },
   {
    "duration": 109,
    "start_time": "2022-08-29T13:50:23.838Z"
   },
   {
    "duration": 105,
    "start_time": "2022-08-29T13:50:24.039Z"
   },
   {
    "duration": 4,
    "start_time": "2022-08-29T13:50:24.149Z"
   },
   {
    "duration": 90,
    "start_time": "2022-08-29T13:50:24.155Z"
   },
   {
    "duration": 3183,
    "start_time": "2022-08-29T13:50:24.246Z"
   },
   {
    "duration": 9082,
    "start_time": "2022-08-29T13:50:27.431Z"
   },
   {
    "duration": 10,
    "start_time": "2022-08-29T13:50:36.514Z"
   },
   {
    "duration": 49,
    "start_time": "2022-08-29T13:50:36.526Z"
   },
   {
    "duration": 171,
    "start_time": "2022-08-29T13:50:36.577Z"
   },
   {
    "duration": 1330,
    "start_time": "2022-08-29T13:50:36.751Z"
   },
   {
    "duration": 4783,
    "start_time": "2022-08-29T13:50:38.082Z"
   },
   {
    "duration": 153,
    "start_time": "2022-08-29T13:50:42.867Z"
   },
   {
    "duration": 3,
    "start_time": "2022-08-29T13:50:43.022Z"
   },
   {
    "duration": 217,
    "start_time": "2022-08-29T13:50:43.026Z"
   },
   {
    "duration": 1453,
    "start_time": "2022-08-29T13:50:44.956Z"
   },
   {
    "duration": 14,
    "start_time": "2022-08-29T13:50:46.412Z"
   },
   {
    "duration": 50,
    "start_time": "2022-08-29T13:50:46.430Z"
   },
   {
    "duration": 9,
    "start_time": "2022-08-29T13:50:46.483Z"
   },
   {
    "duration": 27,
    "start_time": "2022-08-29T13:50:46.494Z"
   },
   {
    "duration": 39,
    "start_time": "2022-08-29T13:50:46.523Z"
   },
   {
    "duration": 32,
    "start_time": "2022-08-29T13:50:46.564Z"
   },
   {
    "duration": 44,
    "start_time": "2022-08-29T13:50:46.598Z"
   },
   {
    "duration": 28,
    "start_time": "2022-08-29T13:50:46.644Z"
   },
   {
    "duration": 17,
    "start_time": "2022-08-29T13:50:46.674Z"
   },
   {
    "duration": 28,
    "start_time": "2022-08-29T13:50:46.693Z"
   },
   {
    "duration": 1128,
    "start_time": "2022-08-29T13:50:46.724Z"
   },
   {
    "duration": 21,
    "start_time": "2022-08-29T13:50:47.857Z"
   },
   {
    "duration": 4850,
    "start_time": "2022-08-29T13:50:47.879Z"
   },
   {
    "duration": 119,
    "start_time": "2022-08-29T13:50:52.731Z"
   },
   {
    "duration": 0,
    "start_time": "2022-08-29T13:50:52.852Z"
   },
   {
    "duration": 0,
    "start_time": "2022-08-29T13:50:52.853Z"
   },
   {
    "duration": 0,
    "start_time": "2022-08-29T13:50:52.854Z"
   },
   {
    "duration": 0,
    "start_time": "2022-08-29T13:50:52.855Z"
   },
   {
    "duration": 0,
    "start_time": "2022-08-29T13:50:52.856Z"
   },
   {
    "duration": 0,
    "start_time": "2022-08-29T13:50:52.857Z"
   },
   {
    "duration": 0,
    "start_time": "2022-08-29T13:50:52.858Z"
   },
   {
    "duration": 0,
    "start_time": "2022-08-29T13:50:52.859Z"
   },
   {
    "duration": 0,
    "start_time": "2022-08-29T13:50:52.860Z"
   },
   {
    "duration": 0,
    "start_time": "2022-08-29T13:50:52.861Z"
   },
   {
    "duration": 0,
    "start_time": "2022-08-29T13:50:52.862Z"
   },
   {
    "duration": 0,
    "start_time": "2022-08-29T13:50:52.863Z"
   },
   {
    "duration": 0,
    "start_time": "2022-08-29T13:50:52.863Z"
   },
   {
    "duration": 0,
    "start_time": "2022-08-29T13:50:52.864Z"
   },
   {
    "duration": 0,
    "start_time": "2022-08-29T13:50:52.866Z"
   },
   {
    "duration": 0,
    "start_time": "2022-08-29T13:50:52.867Z"
   },
   {
    "duration": 0,
    "start_time": "2022-08-29T13:50:52.868Z"
   },
   {
    "duration": 0,
    "start_time": "2022-08-29T13:50:52.869Z"
   },
   {
    "duration": 0,
    "start_time": "2022-08-29T13:50:52.870Z"
   },
   {
    "duration": 0,
    "start_time": "2022-08-29T13:50:52.871Z"
   },
   {
    "duration": 0,
    "start_time": "2022-08-29T13:50:52.872Z"
   },
   {
    "duration": 0,
    "start_time": "2022-08-29T13:50:52.873Z"
   },
   {
    "duration": 0,
    "start_time": "2022-08-29T13:50:52.874Z"
   },
   {
    "duration": 0,
    "start_time": "2022-08-29T13:50:52.875Z"
   },
   {
    "duration": 0,
    "start_time": "2022-08-29T13:50:52.877Z"
   },
   {
    "duration": 0,
    "start_time": "2022-08-29T13:50:52.877Z"
   },
   {
    "duration": 0,
    "start_time": "2022-08-29T13:50:52.878Z"
   },
   {
    "duration": 0,
    "start_time": "2022-08-29T13:50:52.879Z"
   },
   {
    "duration": 0,
    "start_time": "2022-08-29T13:50:52.880Z"
   },
   {
    "duration": 0,
    "start_time": "2022-08-29T13:50:52.881Z"
   },
   {
    "duration": 0,
    "start_time": "2022-08-29T13:50:52.882Z"
   },
   {
    "duration": 0,
    "start_time": "2022-08-29T13:50:52.883Z"
   },
   {
    "duration": 0,
    "start_time": "2022-08-29T13:50:52.939Z"
   },
   {
    "duration": 0,
    "start_time": "2022-08-29T13:50:52.940Z"
   },
   {
    "duration": 0,
    "start_time": "2022-08-29T13:50:52.941Z"
   },
   {
    "duration": 0,
    "start_time": "2022-08-29T13:50:52.942Z"
   },
   {
    "duration": 0,
    "start_time": "2022-08-29T13:50:52.943Z"
   },
   {
    "duration": 18,
    "start_time": "2022-08-29T13:53:28.294Z"
   },
   {
    "duration": 9,
    "start_time": "2022-08-29T13:53:47.918Z"
   },
   {
    "duration": 4,
    "start_time": "2022-08-29T13:53:52.957Z"
   },
   {
    "duration": 12,
    "start_time": "2022-08-29T13:53:54.285Z"
   },
   {
    "duration": 10,
    "start_time": "2022-08-29T13:53:57.549Z"
   },
   {
    "duration": 7,
    "start_time": "2022-08-29T13:54:02.299Z"
   },
   {
    "duration": 1442,
    "start_time": "2022-08-29T13:54:11.735Z"
   },
   {
    "duration": 13,
    "start_time": "2022-08-29T13:54:13.180Z"
   },
   {
    "duration": 18,
    "start_time": "2022-08-29T13:54:13.197Z"
   },
   {
    "duration": 5,
    "start_time": "2022-08-29T13:54:13.216Z"
   },
   {
    "duration": 11,
    "start_time": "2022-08-29T13:54:13.222Z"
   },
   {
    "duration": 18,
    "start_time": "2022-08-29T13:54:13.235Z"
   },
   {
    "duration": 18,
    "start_time": "2022-08-29T13:54:13.255Z"
   },
   {
    "duration": 26,
    "start_time": "2022-08-29T13:54:13.275Z"
   },
   {
    "duration": 10,
    "start_time": "2022-08-29T13:54:13.303Z"
   },
   {
    "duration": 7,
    "start_time": "2022-08-29T13:54:13.314Z"
   },
   {
    "duration": 11,
    "start_time": "2022-08-29T13:54:13.322Z"
   },
   {
    "duration": 1063,
    "start_time": "2022-08-29T13:54:13.334Z"
   },
   {
    "duration": 20,
    "start_time": "2022-08-29T13:54:14.398Z"
   },
   {
    "duration": 5093,
    "start_time": "2022-08-29T13:54:14.420Z"
   },
   {
    "duration": 4,
    "start_time": "2022-08-29T13:54:19.515Z"
   },
   {
    "duration": 18,
    "start_time": "2022-08-29T13:54:19.520Z"
   },
   {
    "duration": 15,
    "start_time": "2022-08-29T13:54:19.540Z"
   },
   {
    "duration": 8,
    "start_time": "2022-08-29T13:54:19.557Z"
   },
   {
    "duration": 13,
    "start_time": "2022-08-29T13:54:19.566Z"
   },
   {
    "duration": 5,
    "start_time": "2022-08-29T13:54:19.581Z"
   },
   {
    "duration": 13,
    "start_time": "2022-08-29T13:54:19.587Z"
   },
   {
    "duration": 12,
    "start_time": "2022-08-29T13:54:19.602Z"
   },
   {
    "duration": 24,
    "start_time": "2022-08-29T13:54:19.615Z"
   },
   {
    "duration": 14,
    "start_time": "2022-08-29T13:54:19.641Z"
   },
   {
    "duration": 12,
    "start_time": "2022-08-29T13:54:19.657Z"
   },
   {
    "duration": 5,
    "start_time": "2022-08-29T13:54:19.671Z"
   },
   {
    "duration": 8,
    "start_time": "2022-08-29T13:54:19.679Z"
   },
   {
    "duration": 9,
    "start_time": "2022-08-29T13:54:19.689Z"
   },
   {
    "duration": 39,
    "start_time": "2022-08-29T13:54:19.701Z"
   },
   {
    "duration": 11,
    "start_time": "2022-08-29T13:54:19.742Z"
   },
   {
    "duration": 15,
    "start_time": "2022-08-29T13:54:19.754Z"
   },
   {
    "duration": 14,
    "start_time": "2022-08-29T13:54:19.771Z"
   },
   {
    "duration": 14,
    "start_time": "2022-08-29T13:54:19.787Z"
   },
   {
    "duration": 142,
    "start_time": "2022-08-29T13:54:19.803Z"
   },
   {
    "duration": 130,
    "start_time": "2022-08-29T13:54:19.947Z"
   },
   {
    "duration": 119,
    "start_time": "2022-08-29T13:54:20.079Z"
   },
   {
    "duration": 2572,
    "start_time": "2022-08-29T13:54:20.200Z"
   },
   {
    "duration": 7046,
    "start_time": "2022-08-29T13:54:22.774Z"
   },
   {
    "duration": 125,
    "start_time": "2022-08-29T13:54:29.822Z"
   },
   {
    "duration": 100,
    "start_time": "2022-08-29T13:54:30.039Z"
   },
   {
    "duration": 6,
    "start_time": "2022-08-29T13:54:30.141Z"
   },
   {
    "duration": 101,
    "start_time": "2022-08-29T13:54:30.148Z"
   },
   {
    "duration": 3188,
    "start_time": "2022-08-29T13:54:30.340Z"
   },
   {
    "duration": 9295,
    "start_time": "2022-08-29T13:54:33.530Z"
   },
   {
    "duration": 18,
    "start_time": "2022-08-29T13:54:42.826Z"
   },
   {
    "duration": 4,
    "start_time": "2022-08-29T13:54:42.845Z"
   },
   {
    "duration": 194,
    "start_time": "2022-08-29T13:54:42.851Z"
   },
   {
    "duration": 1309,
    "start_time": "2022-08-29T13:54:43.047Z"
   },
   {
    "duration": 4890,
    "start_time": "2022-08-29T13:54:44.358Z"
   },
   {
    "duration": 148,
    "start_time": "2022-08-29T13:54:49.250Z"
   },
   {
    "duration": 2,
    "start_time": "2022-08-29T13:54:49.399Z"
   },
   {
    "duration": 166,
    "start_time": "2022-08-29T13:54:49.403Z"
   },
   {
    "duration": 5,
    "start_time": "2022-08-29T13:57:05.244Z"
   },
   {
    "duration": 11,
    "start_time": "2022-08-29T13:57:08.091Z"
   },
   {
    "duration": 11,
    "start_time": "2022-08-29T13:57:13.805Z"
   },
   {
    "duration": 12,
    "start_time": "2022-08-29T13:57:18.747Z"
   },
   {
    "duration": 14,
    "start_time": "2022-08-29T13:57:30.892Z"
   },
   {
    "duration": 1590,
    "start_time": "2022-08-29T13:57:37.456Z"
   },
   {
    "duration": 20,
    "start_time": "2022-08-29T13:57:39.050Z"
   },
   {
    "duration": 34,
    "start_time": "2022-08-29T13:57:39.072Z"
   },
   {
    "duration": 8,
    "start_time": "2022-08-29T13:57:39.109Z"
   },
   {
    "duration": 23,
    "start_time": "2022-08-29T13:57:39.120Z"
   },
   {
    "duration": 23,
    "start_time": "2022-08-29T13:57:39.146Z"
   },
   {
    "duration": 49,
    "start_time": "2022-08-29T13:57:39.171Z"
   },
   {
    "duration": 44,
    "start_time": "2022-08-29T13:57:39.222Z"
   },
   {
    "duration": 7,
    "start_time": "2022-08-29T13:57:39.268Z"
   },
   {
    "duration": 17,
    "start_time": "2022-08-29T13:57:39.277Z"
   },
   {
    "duration": 7,
    "start_time": "2022-08-29T13:57:39.297Z"
   },
   {
    "duration": 1275,
    "start_time": "2022-08-29T13:57:39.306Z"
   },
   {
    "duration": 28,
    "start_time": "2022-08-29T13:57:40.583Z"
   },
   {
    "duration": 6019,
    "start_time": "2022-08-29T13:57:40.615Z"
   },
   {
    "duration": 6,
    "start_time": "2022-08-29T13:57:46.636Z"
   },
   {
    "duration": 43,
    "start_time": "2022-08-29T13:57:46.644Z"
   },
   {
    "duration": 30,
    "start_time": "2022-08-29T13:57:46.689Z"
   },
   {
    "duration": 11,
    "start_time": "2022-08-29T13:57:46.721Z"
   },
   {
    "duration": 25,
    "start_time": "2022-08-29T13:57:46.735Z"
   },
   {
    "duration": 6,
    "start_time": "2022-08-29T13:57:46.762Z"
   },
   {
    "duration": 47,
    "start_time": "2022-08-29T13:57:46.770Z"
   },
   {
    "duration": 17,
    "start_time": "2022-08-29T13:57:46.819Z"
   },
   {
    "duration": 26,
    "start_time": "2022-08-29T13:57:46.837Z"
   },
   {
    "duration": 36,
    "start_time": "2022-08-29T13:57:46.865Z"
   },
   {
    "duration": 20,
    "start_time": "2022-08-29T13:57:46.904Z"
   },
   {
    "duration": 6,
    "start_time": "2022-08-29T13:57:46.926Z"
   },
   {
    "duration": 20,
    "start_time": "2022-08-29T13:57:46.934Z"
   },
   {
    "duration": 50,
    "start_time": "2022-08-29T13:57:46.957Z"
   },
   {
    "duration": 36,
    "start_time": "2022-08-29T13:57:47.009Z"
   },
   {
    "duration": 14,
    "start_time": "2022-08-29T13:57:47.047Z"
   },
   {
    "duration": 37,
    "start_time": "2022-08-29T13:57:47.063Z"
   },
   {
    "duration": 53,
    "start_time": "2022-08-29T13:57:47.102Z"
   },
   {
    "duration": 27,
    "start_time": "2022-08-29T13:57:47.158Z"
   },
   {
    "duration": 155,
    "start_time": "2022-08-29T13:57:47.188Z"
   },
   {
    "duration": 132,
    "start_time": "2022-08-29T13:57:47.349Z"
   },
   {
    "duration": 174,
    "start_time": "2022-08-29T13:57:47.483Z"
   },
   {
    "duration": 3106,
    "start_time": "2022-08-29T13:57:47.660Z"
   },
   {
    "duration": 8052,
    "start_time": "2022-08-29T13:57:50.768Z"
   },
   {
    "duration": 220,
    "start_time": "2022-08-29T13:57:58.822Z"
   },
   {
    "duration": 102,
    "start_time": "2022-08-29T13:57:59.045Z"
   },
   {
    "duration": 22,
    "start_time": "2022-08-29T13:57:59.160Z"
   },
   {
    "duration": 81,
    "start_time": "2022-08-29T13:57:59.185Z"
   },
   {
    "duration": 3636,
    "start_time": "2022-08-29T13:57:59.268Z"
   },
   {
    "duration": 9522,
    "start_time": "2022-08-29T13:58:02.906Z"
   },
   {
    "duration": 17,
    "start_time": "2022-08-29T13:58:12.430Z"
   },
   {
    "duration": 38,
    "start_time": "2022-08-29T13:58:12.449Z"
   },
   {
    "duration": 60,
    "start_time": "2022-08-29T13:58:12.489Z"
   },
   {
    "duration": 1543,
    "start_time": "2022-08-29T13:58:12.551Z"
   },
   {
    "duration": 5347,
    "start_time": "2022-08-29T13:58:14.096Z"
   },
   {
    "duration": 142,
    "start_time": "2022-08-29T13:58:19.445Z"
   },
   {
    "duration": 82,
    "start_time": "2022-08-29T14:02:18.250Z"
   },
   {
    "duration": 1661,
    "start_time": "2022-08-29T14:03:08.824Z"
   },
   {
    "duration": 14,
    "start_time": "2022-08-29T14:03:10.487Z"
   },
   {
    "duration": 20,
    "start_time": "2022-08-29T14:03:10.502Z"
   },
   {
    "duration": 6,
    "start_time": "2022-08-29T14:03:10.524Z"
   },
   {
    "duration": 20,
    "start_time": "2022-08-29T14:03:10.533Z"
   },
   {
    "duration": 21,
    "start_time": "2022-08-29T14:03:10.555Z"
   },
   {
    "duration": 19,
    "start_time": "2022-08-29T14:03:10.579Z"
   },
   {
    "duration": 18,
    "start_time": "2022-08-29T14:03:10.601Z"
   },
   {
    "duration": 5,
    "start_time": "2022-08-29T14:03:10.621Z"
   },
   {
    "duration": 14,
    "start_time": "2022-08-29T14:03:10.628Z"
   },
   {
    "duration": 14,
    "start_time": "2022-08-29T14:03:10.644Z"
   },
   {
    "duration": 1085,
    "start_time": "2022-08-29T14:03:10.660Z"
   },
   {
    "duration": 19,
    "start_time": "2022-08-29T14:03:11.747Z"
   },
   {
    "duration": 5453,
    "start_time": "2022-08-29T14:03:11.769Z"
   },
   {
    "duration": 3,
    "start_time": "2022-08-29T14:03:17.223Z"
   },
   {
    "duration": 19,
    "start_time": "2022-08-29T14:03:17.228Z"
   },
   {
    "duration": 13,
    "start_time": "2022-08-29T14:03:17.249Z"
   },
   {
    "duration": 7,
    "start_time": "2022-08-29T14:03:17.264Z"
   },
   {
    "duration": 9,
    "start_time": "2022-08-29T14:03:17.273Z"
   },
   {
    "duration": 4,
    "start_time": "2022-08-29T14:03:17.284Z"
   },
   {
    "duration": 10,
    "start_time": "2022-08-29T14:03:17.290Z"
   },
   {
    "duration": 48,
    "start_time": "2022-08-29T14:03:17.302Z"
   },
   {
    "duration": 4,
    "start_time": "2022-08-29T14:03:17.352Z"
   },
   {
    "duration": 13,
    "start_time": "2022-08-29T14:03:17.358Z"
   },
   {
    "duration": 17,
    "start_time": "2022-08-29T14:03:17.373Z"
   },
   {
    "duration": 5,
    "start_time": "2022-08-29T14:03:17.392Z"
   },
   {
    "duration": 40,
    "start_time": "2022-08-29T14:03:17.399Z"
   },
   {
    "duration": 8,
    "start_time": "2022-08-29T14:03:17.441Z"
   },
   {
    "duration": 12,
    "start_time": "2022-08-29T14:03:17.450Z"
   },
   {
    "duration": 6,
    "start_time": "2022-08-29T14:03:17.463Z"
   },
   {
    "duration": 22,
    "start_time": "2022-08-29T14:03:17.471Z"
   },
   {
    "duration": 15,
    "start_time": "2022-08-29T14:03:17.495Z"
   },
   {
    "duration": 33,
    "start_time": "2022-08-29T14:03:17.512Z"
   },
   {
    "duration": 207,
    "start_time": "2022-08-29T14:03:17.547Z"
   },
   {
    "duration": 216,
    "start_time": "2022-08-29T14:03:17.758Z"
   },
   {
    "duration": 161,
    "start_time": "2022-08-29T14:03:17.976Z"
   },
   {
    "duration": 3038,
    "start_time": "2022-08-29T14:03:18.139Z"
   },
   {
    "duration": 8095,
    "start_time": "2022-08-29T14:03:21.178Z"
   },
   {
    "duration": 174,
    "start_time": "2022-08-29T14:03:29.275Z"
   },
   {
    "duration": 96,
    "start_time": "2022-08-29T14:03:29.452Z"
   },
   {
    "duration": 112,
    "start_time": "2022-08-29T14:03:29.553Z"
   },
   {
    "duration": 172,
    "start_time": "2022-08-29T14:03:29.669Z"
   },
   {
    "duration": 3745,
    "start_time": "2022-08-29T14:03:29.851Z"
   },
   {
    "duration": 10502,
    "start_time": "2022-08-29T14:03:33.597Z"
   },
   {
    "duration": 12,
    "start_time": "2022-08-29T14:03:44.100Z"
   },
   {
    "duration": 10,
    "start_time": "2022-08-29T14:03:44.114Z"
   },
   {
    "duration": 128,
    "start_time": "2022-08-29T14:03:44.126Z"
   },
   {
    "duration": 1453,
    "start_time": "2022-08-29T14:03:44.256Z"
   },
   {
    "duration": 5514,
    "start_time": "2022-08-29T14:03:45.711Z"
   },
   {
    "duration": 110,
    "start_time": "2022-08-29T14:03:51.228Z"
   },
   {
    "duration": 201,
    "start_time": "2022-08-29T14:04:28.956Z"
   },
   {
    "duration": 1486,
    "start_time": "2022-08-29T14:07:27.892Z"
   },
   {
    "duration": 12,
    "start_time": "2022-08-29T14:07:29.380Z"
   },
   {
    "duration": 17,
    "start_time": "2022-08-29T14:07:29.396Z"
   },
   {
    "duration": 5,
    "start_time": "2022-08-29T14:07:29.415Z"
   },
   {
    "duration": 7,
    "start_time": "2022-08-29T14:07:29.421Z"
   },
   {
    "duration": 16,
    "start_time": "2022-08-29T14:07:29.429Z"
   },
   {
    "duration": 21,
    "start_time": "2022-08-29T14:07:29.446Z"
   },
   {
    "duration": 14,
    "start_time": "2022-08-29T14:07:29.469Z"
   },
   {
    "duration": 5,
    "start_time": "2022-08-29T14:07:29.485Z"
   },
   {
    "duration": 9,
    "start_time": "2022-08-29T14:07:29.491Z"
   },
   {
    "duration": 14,
    "start_time": "2022-08-29T14:07:29.502Z"
   },
   {
    "duration": 1055,
    "start_time": "2022-08-29T14:07:29.518Z"
   },
   {
    "duration": 20,
    "start_time": "2022-08-29T14:07:30.575Z"
   },
   {
    "duration": 5042,
    "start_time": "2022-08-29T14:07:30.596Z"
   },
   {
    "duration": 8,
    "start_time": "2022-08-29T14:07:35.641Z"
   },
   {
    "duration": 34,
    "start_time": "2022-08-29T14:07:35.651Z"
   },
   {
    "duration": 20,
    "start_time": "2022-08-29T14:07:35.687Z"
   },
   {
    "duration": 43,
    "start_time": "2022-08-29T14:07:35.709Z"
   },
   {
    "duration": 24,
    "start_time": "2022-08-29T14:07:35.754Z"
   },
   {
    "duration": 40,
    "start_time": "2022-08-29T14:07:35.780Z"
   },
   {
    "duration": 7,
    "start_time": "2022-08-29T14:07:35.822Z"
   },
   {
    "duration": 25,
    "start_time": "2022-08-29T14:07:35.831Z"
   },
   {
    "duration": 14,
    "start_time": "2022-08-29T14:07:35.858Z"
   },
   {
    "duration": 5,
    "start_time": "2022-08-29T14:07:35.873Z"
   },
   {
    "duration": 24,
    "start_time": "2022-08-29T14:07:35.879Z"
   },
   {
    "duration": 9,
    "start_time": "2022-08-29T14:07:35.905Z"
   },
   {
    "duration": 15,
    "start_time": "2022-08-29T14:07:35.917Z"
   },
   {
    "duration": 4,
    "start_time": "2022-08-29T14:07:35.937Z"
   },
   {
    "duration": 47,
    "start_time": "2022-08-29T14:07:35.943Z"
   },
   {
    "duration": 29,
    "start_time": "2022-08-29T14:07:35.991Z"
   },
   {
    "duration": 38,
    "start_time": "2022-08-29T14:07:36.022Z"
   },
   {
    "duration": 179,
    "start_time": "2022-08-29T14:07:36.061Z"
   },
   {
    "duration": 133,
    "start_time": "2022-08-29T14:07:36.242Z"
   },
   {
    "duration": 120,
    "start_time": "2022-08-29T14:07:36.377Z"
   },
   {
    "duration": 2974,
    "start_time": "2022-08-29T14:07:36.499Z"
   },
   {
    "duration": 7307,
    "start_time": "2022-08-29T14:07:39.474Z"
   },
   {
    "duration": 154,
    "start_time": "2022-08-29T14:07:46.783Z"
   },
   {
    "duration": 102,
    "start_time": "2022-08-29T14:07:46.943Z"
   },
   {
    "duration": 8,
    "start_time": "2022-08-29T14:07:47.047Z"
   },
   {
    "duration": 183,
    "start_time": "2022-08-29T14:07:47.056Z"
   },
   {
    "duration": 3582,
    "start_time": "2022-08-29T14:07:47.240Z"
   },
   {
    "duration": 10083,
    "start_time": "2022-08-29T14:07:50.824Z"
   },
   {
    "duration": 10,
    "start_time": "2022-08-29T14:08:00.909Z"
   },
   {
    "duration": 21,
    "start_time": "2022-08-29T14:08:00.920Z"
   },
   {
    "duration": 108,
    "start_time": "2022-08-29T14:08:00.943Z"
   },
   {
    "duration": 1376,
    "start_time": "2022-08-29T14:08:01.139Z"
   },
   {
    "duration": 5025,
    "start_time": "2022-08-29T14:08:02.517Z"
   },
   {
    "duration": 153,
    "start_time": "2022-08-29T14:08:07.544Z"
   },
   {
    "duration": 52,
    "start_time": "2022-08-29T15:47:01.517Z"
   },
   {
    "duration": 1636,
    "start_time": "2022-08-30T12:33:19.098Z"
   },
   {
    "duration": 11,
    "start_time": "2022-08-30T12:33:20.736Z"
   },
   {
    "duration": 18,
    "start_time": "2022-08-30T12:33:20.749Z"
   },
   {
    "duration": 5,
    "start_time": "2022-08-30T12:33:20.770Z"
   },
   {
    "duration": 7,
    "start_time": "2022-08-30T12:33:20.777Z"
   },
   {
    "duration": 12,
    "start_time": "2022-08-30T12:33:20.786Z"
   },
   {
    "duration": 25,
    "start_time": "2022-08-30T12:33:20.799Z"
   },
   {
    "duration": 14,
    "start_time": "2022-08-30T12:33:20.827Z"
   },
   {
    "duration": 4,
    "start_time": "2022-08-30T12:33:20.843Z"
   },
   {
    "duration": 5,
    "start_time": "2022-08-30T12:33:20.851Z"
   },
   {
    "duration": 5,
    "start_time": "2022-08-30T12:33:20.858Z"
   },
   {
    "duration": 974,
    "start_time": "2022-08-30T12:33:20.865Z"
   },
   {
    "duration": 19,
    "start_time": "2022-08-30T12:33:21.841Z"
   },
   {
    "duration": 5269,
    "start_time": "2022-08-30T12:33:21.861Z"
   },
   {
    "duration": 9,
    "start_time": "2022-08-30T12:33:27.132Z"
   },
   {
    "duration": 8,
    "start_time": "2022-08-30T12:33:27.142Z"
   },
   {
    "duration": 12,
    "start_time": "2022-08-30T12:33:27.151Z"
   },
   {
    "duration": 9,
    "start_time": "2022-08-30T12:33:27.165Z"
   },
   {
    "duration": 15,
    "start_time": "2022-08-30T12:33:27.175Z"
   },
   {
    "duration": 31,
    "start_time": "2022-08-30T12:33:27.192Z"
   },
   {
    "duration": 6,
    "start_time": "2022-08-30T12:33:27.227Z"
   },
   {
    "duration": 10,
    "start_time": "2022-08-30T12:33:27.235Z"
   },
   {
    "duration": 13,
    "start_time": "2022-08-30T12:33:27.247Z"
   },
   {
    "duration": 4,
    "start_time": "2022-08-30T12:33:27.261Z"
   },
   {
    "duration": 14,
    "start_time": "2022-08-30T12:33:27.267Z"
   },
   {
    "duration": 35,
    "start_time": "2022-08-30T12:33:27.283Z"
   },
   {
    "duration": 13,
    "start_time": "2022-08-30T12:33:27.319Z"
   },
   {
    "duration": 4,
    "start_time": "2022-08-30T12:33:27.336Z"
   },
   {
    "duration": 13,
    "start_time": "2022-08-30T12:33:27.342Z"
   },
   {
    "duration": 18,
    "start_time": "2022-08-30T12:33:27.357Z"
   },
   {
    "duration": 18,
    "start_time": "2022-08-30T12:33:27.377Z"
   },
   {
    "duration": 132,
    "start_time": "2022-08-30T12:33:27.397Z"
   },
   {
    "duration": 185,
    "start_time": "2022-08-30T12:33:27.531Z"
   },
   {
    "duration": 123,
    "start_time": "2022-08-30T12:33:27.720Z"
   },
   {
    "duration": 3212,
    "start_time": "2022-08-30T12:33:27.844Z"
   },
   {
    "duration": 7743,
    "start_time": "2022-08-30T12:33:31.058Z"
   },
   {
    "duration": 221,
    "start_time": "2022-08-30T12:33:38.803Z"
   },
   {
    "duration": 116,
    "start_time": "2022-08-30T12:33:39.030Z"
   },
   {
    "duration": 5,
    "start_time": "2022-08-30T12:33:39.148Z"
   },
   {
    "duration": 115,
    "start_time": "2022-08-30T12:33:39.212Z"
   },
   {
    "duration": 4146,
    "start_time": "2022-08-30T12:33:39.329Z"
   },
   {
    "duration": 10429,
    "start_time": "2022-08-30T12:33:43.477Z"
   },
   {
    "duration": 19,
    "start_time": "2022-08-30T12:33:53.908Z"
   },
   {
    "duration": 13,
    "start_time": "2022-08-30T12:33:53.930Z"
   },
   {
    "duration": 189,
    "start_time": "2022-08-30T12:33:53.944Z"
   },
   {
    "duration": 1535,
    "start_time": "2022-08-30T12:33:54.136Z"
   },
   {
    "duration": 5127,
    "start_time": "2022-08-30T12:33:55.672Z"
   },
   {
    "duration": 152,
    "start_time": "2022-08-30T12:34:00.801Z"
   }
  ],
  "kernelspec": {
   "display_name": "Python 3 (ipykernel)",
   "language": "python",
   "name": "python3"
  },
  "language_info": {
   "codemirror_mode": {
    "name": "ipython",
    "version": 3
   },
   "file_extension": ".py",
   "mimetype": "text/x-python",
   "name": "python",
   "nbconvert_exporter": "python",
   "pygments_lexer": "ipython3",
   "version": "3.9.7"
  },
  "toc": {
   "base_numbering": 1,
   "nav_menu": {},
   "number_sections": true,
   "sideBar": true,
   "skip_h1_title": true,
   "title_cell": "Содержание",
   "title_sidebar": "Contents",
   "toc_cell": true,
   "toc_position": {
    "height": "calc(100% - 180px)",
    "left": "10px",
    "top": "150px",
    "width": "165px"
   },
   "toc_section_display": true,
   "toc_window_display": true
  }
 },
 "nbformat": 4,
 "nbformat_minor": 2
}
